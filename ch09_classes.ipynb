{
 "cells": [
  {
   "cell_type": "markdown",
   "id": "a0d65382",
   "metadata": {},
   "source": [
    "# Classes\n",
    "\n",
    "## Creating and using a class\n",
    "\n"
   ]
  },
  {
   "cell_type": "code",
   "execution_count": 1,
   "id": "cefc185d",
   "metadata": {},
   "outputs": [],
   "source": [
    "# Create a dog class that models information and behavior about dogs\n",
    "# Here, the title case of the class name is deliberate-- this is common convention in Python\n",
    "class Dog: \n",
    "    \"\"\"An attemtp to model a dog.\"\"\"\n",
    "    \n",
    "    def __init__(self, name, age): # self always must come first\n",
    "        \"\"\"Initialize name and age attributes of the Dog class.\"\"\"\n",
    "        self.name = name\n",
    "        self.age = age\n",
    "    \n",
    "    def sit(self):\n",
    "        \"\"\"Simulate a dog sitting in response to a command.\"\"\"\n",
    "        print(f'{self.name} is now sitting.')\n",
    "        \n",
    "    def roll_over(self):\n",
    "        \"\"\"Simulate a dog rolling over in response to a commond.\"\"\"\n",
    "        print(f'{self.name} rolled over!')\n",
    "    "
   ]
  },
  {
   "cell_type": "markdown",
   "id": "be6a2542",
   "metadata": {},
   "source": [
    "When creating a new class, the `__init()__` method is called to initialize the defined attributes for a given instance.  The `self()` method is automatically called, which refers to the specific instance of a given class.  For example, the line `self.name = name` means that the `name` argument is passed to a specific instance of class `Dog`.  It's also important to note that when we prefix variables with `self`, those variables are then available to every method defined in the class, like `sit()` and `roll_over()`.  The methods just described will also be able to be accessed by any instance of this class because they are parameterized by `self`.\n",
    "\n",
    "Attributes are variables that can accessed for a given instance; methods are functions that can be accessed for a given instance.  "
   ]
  },
  {
   "cell_type": "code",
   "execution_count": 3,
   "id": "c1a57825",
   "metadata": {},
   "outputs": [
    {
     "name": "stdout",
     "output_type": "stream",
     "text": [
      "My dog Willie is 6 years old!\n"
     ]
    }
   ],
   "source": [
    "# Create instance of the Dog class\n",
    "my_dog = Dog('Willie', 6)\n",
    "\n",
    "# Access the name and age attributes\n",
    "print(f'My dog {my_dog.name} is {my_dog.age} years old!')"
   ]
  },
  {
   "cell_type": "markdown",
   "id": "4eb580b3",
   "metadata": {},
   "source": [
    "Summarizing the textbook explanation-- when we run the code above, the `__init__` method creates a new instance and sets the `name` and `age` attributes to `Willie` and `6`, respectively. "
   ]
  },
  {
   "cell_type": "code",
   "execution_count": 8,
   "id": "24d8fa9f",
   "metadata": {},
   "outputs": [
    {
     "name": "stdout",
     "output_type": "stream",
     "text": [
      "Willie, sit!\n",
      "Willie is now sitting.\n",
      "\n",
      "Willie, roll over!\n",
      "Willie rolled over!\n"
     ]
    }
   ],
   "source": [
    "# Make dog sit and roll over\n",
    "print(f'{my_dog.name}, sit!')\n",
    "my_dog.sit()\n",
    "\n",
    "print(f'\\n{my_dog.name}, roll over!')\n",
    "my_dog.roll_over()"
   ]
  },
  {
   "cell_type": "code",
   "execution_count": 77,
   "id": "f765a471",
   "metadata": {},
   "outputs": [],
   "source": [
    "# Exercise 9-1 restaurant\n",
    "# Make a class called Restaurant and define 2 attributes-- restaurant_name and cuisine_type\n",
    "# Make a method called describe_restaurant() to prints these pieces of info\n",
    "# Make another method called open_restaurant() that prints a message saying the restaurant is open\n",
    "class Restaurant:\n",
    "    \"\"\"Model a restaurant.\"\"\"\n",
    "    \n",
    "    def __init__(self, restaurant_name, cuisine_type):\n",
    "        \"\"\"Initialize restaurant name and cuisine type for the Restaurant class\"\"\"\n",
    "        self.restaurant_name = restaurant_name\n",
    "        self.cuisine_type = cuisine_type\n",
    "        \n",
    "    def describe_restaurant(self):\n",
    "        \"\"\"Print description of the restaurant\"\"\"\n",
    "        print(f'{self.restaurant_name.title()} is a {self.cuisine_type.title()} restaurant.')\n",
    "        \n",
    "    def open_restauarant(self):\n",
    "        \"\"\"Print that the restaurant is open for business.\"\"\"\n",
    "        print(f'{self.restaurant_name.title()} is open.')\n",
    "            "
   ]
  },
  {
   "cell_type": "code",
   "execution_count": 12,
   "id": "59850bf7",
   "metadata": {},
   "outputs": [
    {
     "name": "stdout",
     "output_type": "stream",
     "text": [
      "Chilis is a American restaurant\n"
     ]
    }
   ],
   "source": [
    "# Create new instance\n",
    "my_restaurant = Restaurant('chilis', 'american')\n",
    "\n",
    "# Call methods\n",
    "my_restaurant.describe_restaurant()"
   ]
  },
  {
   "cell_type": "code",
   "execution_count": 14,
   "id": "4217ee30",
   "metadata": {},
   "outputs": [
    {
     "name": "stdout",
     "output_type": "stream",
     "text": [
      "Chilis is open.\n"
     ]
    }
   ],
   "source": [
    "my_restaurant.open_restauarant()"
   ]
  },
  {
   "cell_type": "markdown",
   "id": "c4a8bb16",
   "metadata": {},
   "source": [
    "Another way to think about `self` is that it's used as a keyword in order to bind the attributes in the class definition with the parameters passed when creating a new instance of the class.  "
   ]
  },
  {
   "cell_type": "code",
   "execution_count": 15,
   "id": "3330d532",
   "metadata": {},
   "outputs": [
    {
     "name": "stdout",
     "output_type": "stream",
     "text": [
      "Chilis is a American restaurant.\n",
      "Bonefish Grille is a American restaurant.\n",
      "Tuk Tuk is a Thai restaurant.\n"
     ]
    }
   ],
   "source": [
    "# Exercise 9-1 three restaurants\n",
    "# Create three instances of the Restaurant class and call describe() restaurant for each\n",
    "restaurants = [Restaurant('chilis', 'american'), \n",
    "              Restaurant('bonefish grille', 'american'), \n",
    "              Restaurant('tuk tuk', 'thai')]\n",
    "\n",
    "for restaurant in restaurants:\n",
    "    restaurant.describe_restaurant()"
   ]
  },
  {
   "cell_type": "code",
   "execution_count": 21,
   "id": "2878787b",
   "metadata": {},
   "outputs": [],
   "source": [
    "# Exercise 9-3 users\n",
    "# Make a class called User with two attributes-- first_name and last_name\n",
    "# Make two methods-- describe_user() that prints the user information, and greet_user() that prints a message\n",
    "class User:\n",
    "    \"\"\"Capture information about users.\"\"\"\n",
    "    \n",
    "    def __init__(self, first_name, last_name):\n",
    "        \"\"\"Initialize first_name and last_name attributes.\"\"\"\n",
    "        self.first_name = first_name\n",
    "        self.last_name = last_name\n",
    "        \n",
    "    def describe_user(self):\n",
    "        \"\"\"Print user information.\"\"\"\n",
    "        print(f'First name: {self.first_name.title()}')\n",
    "        print(f'Last name: {self.last_name.title()}')\n",
    "        \n",
    "    def greet_user(self):\n",
    "        \"\"\"Greet user with a personal message.\"\"\"\n",
    "        print(f'Hello, {self.first_name.title()} {self.last_name.title()}!')\n"
   ]
  },
  {
   "cell_type": "code",
   "execution_count": 22,
   "id": "13622df5",
   "metadata": {},
   "outputs": [
    {
     "name": "stdout",
     "output_type": "stream",
     "text": [
      "User description and greetings:\n",
      "First name: Stan\n",
      "Last name: Piotrowski\n",
      "Hello, Stan Piotrowski!\n",
      "\n",
      "\n",
      "First name: Frodo\n",
      "Last name: Baggins\n",
      "Hello, Frodo Baggins!\n",
      "\n",
      "\n",
      "First name: Albert\n",
      "Last name: Einstein\n",
      "Hello, Albert Einstein!\n",
      "\n",
      "\n"
     ]
    }
   ],
   "source": [
    "# Create three instances and call each method\n",
    "users = [User('stan', 'piotrowski'), \n",
    "        User('frodo', 'baggins'), \n",
    "        User('albert', 'einstein')]\n",
    "\n",
    "print('User description and greetings:')\n",
    "for user in users:\n",
    "    user.describe_user()\n",
    "    user.greet_user()\n",
    "    print('\\n')\n"
   ]
  },
  {
   "cell_type": "markdown",
   "id": "d24ffea6",
   "metadata": {},
   "source": [
    "## Working with classes and instances"
   ]
  },
  {
   "cell_type": "code",
   "execution_count": 57,
   "id": "15e1393e",
   "metadata": {},
   "outputs": [],
   "source": [
    "# Build a new Car class\n",
    "class Car:\n",
    "    \"\"\"Method to represent a car.\"\"\"\n",
    "    \n",
    "    def __init__(self, make, model, year):\n",
    "        \"\"\"Initialize attributes to descibe a car.\"\"\"\n",
    "        self.make = make\n",
    "        self.model = model\n",
    "        self.year = year\n",
    "        self.odometer_reading = 0\n",
    "        \n",
    "    def get_descriptive_name(self):\n",
    "        \"\"\"Return a neatly formatted descriptive name.\"\"\"\n",
    "        long_name = f'{self.year} {self.make} {self.model}'\n",
    "        return long_name.title()\n",
    "    \n",
    "    def read_odometer(self):\n",
    "        \"\"\"Print statements showing car's mileage.\"\"\"\n",
    "        message = f'This car has {str(self.odometer_reading)} miles on it.'\n",
    "        return message\n",
    "    \n",
    "    def update_odometer(self, mileage):\n",
    "        \"\"\"\n",
    "        Update odometer reading to the given mileage.\n",
    "        Reject any change that will roll the odometer back.\n",
    "        \"\"\"\n",
    "        if mileage >= self.odometer_reading:\n",
    "            self.odometer_reading = mileage\n",
    "        else: \n",
    "            return 'Invalid request: you cannot roll back an odometer.'\n",
    "        \n",
    "    def increment_odometer(self, miles):\n",
    "        \"\"\"\n",
    "        Update odometer incrementally given the number of miles driven.\n",
    "        Reject any change that will roll back the odometer.\n",
    "        \"\"\"\n",
    "        if miles < 0:\n",
    "            return 'Invalid request: number of miles driven must be positive.'\n",
    "        else:\n",
    "            self.odometer_reading += miles\n",
    "        \n",
    "    "
   ]
  },
  {
   "cell_type": "code",
   "execution_count": 58,
   "id": "1d852924",
   "metadata": {},
   "outputs": [
    {
     "data": {
      "text/plain": [
       "'1965 Ford Bronco'"
      ]
     },
     "execution_count": 58,
     "metadata": {},
     "output_type": "execute_result"
    }
   ],
   "source": [
    "# Instantiate new Car object\n",
    "# The __init__() method is automatically called to bind the values to the attributes defined in the class definition\n",
    "my_car = Car('ford', 'bronco', 1965)\n",
    "my_car.get_descriptive_name()"
   ]
  },
  {
   "cell_type": "code",
   "execution_count": 59,
   "id": "476ce661",
   "metadata": {},
   "outputs": [
    {
     "data": {
      "text/plain": [
       "'This car has 0 miles on it.'"
      ]
     },
     "execution_count": 59,
     "metadata": {},
     "output_type": "execute_result"
    }
   ],
   "source": [
    "# Call the read_odometer() method\n",
    "my_car.read_odometer()"
   ]
  },
  {
   "cell_type": "code",
   "execution_count": 71,
   "id": "b9bbf65c",
   "metadata": {},
   "outputs": [
    {
     "name": "stdout",
     "output_type": "stream",
     "text": [
      "2016 Audi Quattro\n",
      "\n",
      "Original odometer reading:\n",
      "This car has 0 miles on it.\n",
      "\n",
      "Updated odometer reading:\n",
      "This car has 23 miles on it.\n"
     ]
    }
   ],
   "source": [
    "# There are several ways to modify an instance's attributes\n",
    "# 1) Modify the attribute directly\n",
    "my_new_car = Car('audi', 'quattro', 2016)\n",
    "print(my_new_car.get_descriptive_name())\n",
    "\n",
    "print(f'\\nOriginal odometer reading:\\n{my_new_car.read_odometer()}')\n",
    "\n",
    "my_new_car.odometer_reading = 23\n",
    "print(f'\\nUpdated odometer reading:\\n{my_new_car.read_odometer()}')"
   ]
  },
  {
   "cell_type": "code",
   "execution_count": 72,
   "id": "5cc2aecf",
   "metadata": {},
   "outputs": [
    {
     "name": "stdout",
     "output_type": "stream",
     "text": [
      "New mileage after taking a long trip:\n",
      "This car has 3000 miles on it.\n"
     ]
    }
   ],
   "source": [
    "# 2) Use a method-- here, update_odometer()-- to change attributes\n",
    "# First, we need to call the method to update the odometer\n",
    "# Then call read_odometer() to print new result\n",
    "my_new_car.update_odometer(3000)\n",
    "print(f'New mileage after taking a long trip:\\n{my_new_car.read_odometer()}')"
   ]
  },
  {
   "cell_type": "code",
   "execution_count": 74,
   "id": "d2c58741",
   "metadata": {},
   "outputs": [
    {
     "data": {
      "text/plain": [
       "'Invalid request: you cannot roll back an odometer.'"
      ]
     },
     "execution_count": 74,
     "metadata": {},
     "output_type": "execute_result"
    }
   ],
   "source": [
    "# Try to reset the odometer and check that the message prints correctly\n",
    "my_new_car.update_odometer(0)"
   ]
  },
  {
   "cell_type": "code",
   "execution_count": 75,
   "id": "57ec156b",
   "metadata": {},
   "outputs": [
    {
     "data": {
      "text/plain": [
       "'This car has 3000 miles on it.'"
      ]
     },
     "execution_count": 75,
     "metadata": {},
     "output_type": "execute_result"
    }
   ],
   "source": [
    "# Check odometer reading\n",
    "my_new_car.read_odometer()"
   ]
  },
  {
   "cell_type": "code",
   "execution_count": 76,
   "id": "497e0939",
   "metadata": {},
   "outputs": [
    {
     "data": {
      "text/plain": [
       "'This car has 3500 miles on it.'"
      ]
     },
     "execution_count": 76,
     "metadata": {},
     "output_type": "execute_result"
    }
   ],
   "source": [
    "# Call incremental change method\n",
    "my_new_car.increment_odometer(500)\n",
    "my_new_car.read_odometer()"
   ]
  },
  {
   "cell_type": "code",
   "execution_count": 89,
   "id": "5b61734a",
   "metadata": {},
   "outputs": [],
   "source": [
    "# Exercise 9-4 number served\n",
    "# Update class Restaurant from exercise 9-1\n",
    "# Add attribute called number_served with a default value of 0\n",
    "# Add a method called set_number_served() to let you know how many customers have ben served\n",
    "# Add another method called increment_number_served() to increment how many have been served\n",
    "\n",
    "class Restaurant:\n",
    "    \"\"\"Model a restaurant.\"\"\"\n",
    "    \n",
    "    def __init__(self, restaurant_name, cuisine_type):\n",
    "        \"\"\"Initialize restaurant name and cuisine type for the Restaurant class\"\"\"\n",
    "        self.restaurant_name = restaurant_name\n",
    "        self.cuisine_type = cuisine_type\n",
    "        self.number_served = 0\n",
    "        \n",
    "    def describe_restaurant(self):\n",
    "        \"\"\"Print description of the restaurant\"\"\"\n",
    "        print(f'{self.restaurant_name.title()} is a {self.cuisine_type.title()} restaurant.')\n",
    "        \n",
    "    def open_restauarant(self):\n",
    "        \"\"\"Print that the restaurant is open for business.\"\"\"\n",
    "        print(f'{self.restaurant_name.title()} is open.')\n",
    "        \n",
    "    def set_number_served(self, number_served):\n",
    "        \"\"\"\n",
    "        Set number of customers served.\n",
    "        Reject any change that will roll back the number of customers served.        \n",
    "        \"\"\"\n",
    "        if number_served >= 0:\n",
    "            self.number_served = number_served\n",
    "        else: \n",
    "            return 'Invalid request: number of customers served must be positive.'\n",
    "        \n",
    "    def increment_number_served(self, num_customers):\n",
    "        \"\"\"\n",
    "        Increment number of customers served.\n",
    "        Reject any change that will roll back the number of customers served.\n",
    "        \"\"\"\n",
    "        if num_customers >= 0: \n",
    "            self.number_served += num_customers\n",
    "        else: \n",
    "            return 'Invalid request: number of customers served must be positive.'  "
   ]
  },
  {
   "cell_type": "code",
   "execution_count": 95,
   "id": "64ee5c1e",
   "metadata": {},
   "outputs": [
    {
     "name": "stdout",
     "output_type": "stream",
     "text": [
      "Number of customers served so far today:\n",
      "10\n",
      "\n",
      "Number of customers served after dinner rush:\n",
      "30\n"
     ]
    }
   ],
   "source": [
    "# Create new instance, set number of customers served, then increment and update\n",
    "my_new_restaurant = Restaurant('uchu sushi', 'japanese')\n",
    "my_new_restaurant.set_number_served(10)\n",
    "print(f'Number of customers served so far today:\\n{my_new_restaurant.number_served}')\n",
    "\n",
    "# Increment\n",
    "my_new_restaurant.increment_number_served(20)\n",
    "print(f'\\nNumber of customers served after dinner rush:\\n{my_new_restaurant.number_served}')"
   ]
  },
  {
   "cell_type": "code",
   "execution_count": 96,
   "id": "b75ebc97",
   "metadata": {},
   "outputs": [],
   "source": [
    "# Exercise 9-3 login attemps\n",
    "# Build on the class from exercise 9-3 User class\n",
    "# Write a method called increment_login_attempts() that increments the number of login attempts by 1\n",
    "# Write another method that resets the number of login attempts to 0\n",
    "class User:\n",
    "    \"\"\"Capture information about users.\"\"\"\n",
    "    \n",
    "    def __init__(self, first_name, last_name):\n",
    "        \"\"\"Initialize first_name and last_name attributes.\"\"\"\n",
    "        self.first_name = first_name\n",
    "        self.last_name = last_name\n",
    "        self.login_attempts = 0\n",
    "        \n",
    "    def describe_user(self):\n",
    "        \"\"\"Print user information.\"\"\"\n",
    "        print(f'First name: {self.first_name.title()}')\n",
    "        print(f'Last name: {self.last_name.title()}')\n",
    "        \n",
    "    def greet_user(self):\n",
    "        \"\"\"Greet user with a personal message.\"\"\"\n",
    "        print(f'Hello, {self.first_name.title()} {self.last_name.title()}!')\n",
    "        \n",
    "    def increment_login_attempts(self):\n",
    "        \"\"\"Increment the number of login attempts by 1.\"\"\"\n",
    "        self.login_attempts += 1\n",
    "    \n",
    "    def reset_login_attempts(self):\n",
    "        \"\"\"Reset login attempts to 0 (e.g., after changing password).\"\"\"\n",
    "        self.login_attemps = 0\n"
   ]
  },
  {
   "cell_type": "code",
   "execution_count": 103,
   "id": "06564e93",
   "metadata": {},
   "outputs": [
    {
     "name": "stdout",
     "output_type": "stream",
     "text": [
      "First name: Stan\n",
      "Last name: Piotrowski\n"
     ]
    }
   ],
   "source": [
    "# Create a new instance\n",
    "new_user = User('stan', 'piotrowski')\n",
    "new_user.describe_user()"
   ]
  },
  {
   "cell_type": "code",
   "execution_count": 104,
   "id": "a2db86ca",
   "metadata": {},
   "outputs": [
    {
     "name": "stdout",
     "output_type": "stream",
     "text": [
      "Starting number of login attempts:\n",
      "0\n",
      "\n",
      "Updated number of login attemps:\n",
      "5\n",
      "\n",
      "Updated number of login attempts after resetting:\n",
      "0\n"
     ]
    }
   ],
   "source": [
    "# Add a few login attemps\n",
    "print(f'Starting number of login attempts:\\n{new_user.login_attempts}')\n",
    "\n",
    "for i in range(1, 6):\n",
    "    new_user.increment_login_attempts()\n",
    "    \n",
    "# Print new number\n",
    "print(f'\\nUpdated number of login attemps:\\n{new_user.login_attempts}')\n",
    "\n",
    "# Reset login attemps\n",
    "new_user.reset_login_attempts()\n",
    "print(f'\\nUpdated number of login attempts after resetting:\\n{new_user.login_attemps}')"
   ]
  },
  {
   "cell_type": "code",
   "execution_count": null,
   "id": "03b6e1fd",
   "metadata": {},
   "outputs": [],
   "source": []
  }
 ],
 "metadata": {
  "kernelspec": {
   "display_name": "Python 3 (ipykernel)",
   "language": "python",
   "name": "python3"
  },
  "language_info": {
   "codemirror_mode": {
    "name": "ipython",
    "version": 3
   },
   "file_extension": ".py",
   "mimetype": "text/x-python",
   "name": "python",
   "nbconvert_exporter": "python",
   "pygments_lexer": "ipython3",
   "version": "3.10.2"
  }
 },
 "nbformat": 4,
 "nbformat_minor": 5
}
