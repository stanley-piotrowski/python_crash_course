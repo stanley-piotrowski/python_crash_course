{
 "cells": [
  {
   "cell_type": "markdown",
   "id": "a0d65382",
   "metadata": {},
   "source": [
    "# Classes\n",
    "\n",
    "## Creating and using a class\n",
    "\n"
   ]
  },
  {
   "cell_type": "code",
   "execution_count": 1,
   "id": "cefc185d",
   "metadata": {},
   "outputs": [],
   "source": [
    "# Create a dog class that models information and behavior about dogs\n",
    "# Here, the title case of the class name is deliberate-- this is common convention in Python\n",
    "class Dog: \n",
    "    \"\"\"An attemtp to model a dog.\"\"\"\n",
    "    \n",
    "    def __init__(self, name, age): # self always must come first\n",
    "        \"\"\"Initialize name and age attributes of the Dog class.\"\"\"\n",
    "        self.name = name\n",
    "        self.age = age\n",
    "    \n",
    "    def sit(self):\n",
    "        \"\"\"Simulate a dog sitting in response to a command.\"\"\"\n",
    "        print(f'{self.name} is now sitting.')\n",
    "        \n",
    "    def roll_over(self):\n",
    "        \"\"\"Simulate a dog rolling over in response to a commond.\"\"\"\n",
    "        print(f'{self.name} rolled over!')\n",
    "    "
   ]
  },
  {
   "cell_type": "markdown",
   "id": "be6a2542",
   "metadata": {},
   "source": [
    "When creating a new class, the `__init()__` method is called to initialize the defined attributes for a given instance.  The `self()` method is automatically called, which refers to the specific instance of a given class.  For example, the line `self.name = name` means that the `name` argument is passed to a specific instance of class `Dog`.  It's also important to note that when we prefix variables with `self`, those variables are then available to every method defined in the class, like `sit()` and `roll_over()`.  The methods just described will also be able to be accessed by any instance of this class because they are parameterized by `self`.\n",
    "\n",
    "Attributes are variables that can accessed for a given instance; methods are functions that can be accessed for a given instance.  "
   ]
  },
  {
   "cell_type": "code",
   "execution_count": 3,
   "id": "c1a57825",
   "metadata": {},
   "outputs": [
    {
     "name": "stdout",
     "output_type": "stream",
     "text": [
      "My dog Willie is 6 years old!\n"
     ]
    }
   ],
   "source": [
    "# Create instance of the Dog class\n",
    "my_dog = Dog('Willie', 6)\n",
    "\n",
    "# Access the name and age attributes\n",
    "print(f'My dog {my_dog.name} is {my_dog.age} years old!')"
   ]
  },
  {
   "cell_type": "markdown",
   "id": "4eb580b3",
   "metadata": {},
   "source": [
    "Summarizing the textbook explanation-- when we run the code above, the `__init__` method creates a new instance and sets the `name` and `age` attributes to `Willie` and `6`, respectively. "
   ]
  },
  {
   "cell_type": "code",
   "execution_count": 8,
   "id": "24d8fa9f",
   "metadata": {},
   "outputs": [
    {
     "name": "stdout",
     "output_type": "stream",
     "text": [
      "Willie, sit!\n",
      "Willie is now sitting.\n",
      "\n",
      "Willie, roll over!\n",
      "Willie rolled over!\n"
     ]
    }
   ],
   "source": [
    "# Make dog sit and roll over\n",
    "print(f'{my_dog.name}, sit!')\n",
    "my_dog.sit()\n",
    "\n",
    "print(f'\\n{my_dog.name}, roll over!')\n",
    "my_dog.roll_over()"
   ]
  },
  {
   "cell_type": "code",
   "execution_count": 77,
   "id": "f765a471",
   "metadata": {},
   "outputs": [],
   "source": [
    "# Exercise 9-1 restaurant\n",
    "# Make a class called Restaurant and define 2 attributes-- restaurant_name and cuisine_type\n",
    "# Make a method called describe_restaurant() to prints these pieces of info\n",
    "# Make another method called open_restaurant() that prints a message saying the restaurant is open\n",
    "class Restaurant:\n",
    "    \"\"\"Model a restaurant.\"\"\"\n",
    "    \n",
    "    def __init__(self, restaurant_name, cuisine_type):\n",
    "        \"\"\"Initialize restaurant name and cuisine type for the Restaurant class\"\"\"\n",
    "        self.restaurant_name = restaurant_name\n",
    "        self.cuisine_type = cuisine_type\n",
    "        \n",
    "    def describe_restaurant(self):\n",
    "        \"\"\"Print description of the restaurant\"\"\"\n",
    "        print(f'{self.restaurant_name.title()} is a {self.cuisine_type.title()} restaurant.')\n",
    "        \n",
    "    def open_restauarant(self):\n",
    "        \"\"\"Print that the restaurant is open for business.\"\"\"\n",
    "        print(f'{self.restaurant_name.title()} is open.')\n",
    "            "
   ]
  },
  {
   "cell_type": "code",
   "execution_count": 12,
   "id": "59850bf7",
   "metadata": {},
   "outputs": [
    {
     "name": "stdout",
     "output_type": "stream",
     "text": [
      "Chilis is a American restaurant\n"
     ]
    }
   ],
   "source": [
    "# Create new instance\n",
    "my_restaurant = Restaurant('chilis', 'american')\n",
    "\n",
    "# Call methods\n",
    "my_restaurant.describe_restaurant()"
   ]
  },
  {
   "cell_type": "code",
   "execution_count": 14,
   "id": "4217ee30",
   "metadata": {},
   "outputs": [
    {
     "name": "stdout",
     "output_type": "stream",
     "text": [
      "Chilis is open.\n"
     ]
    }
   ],
   "source": [
    "my_restaurant.open_restauarant()"
   ]
  },
  {
   "cell_type": "markdown",
   "id": "c4a8bb16",
   "metadata": {},
   "source": [
    "Another way to think about `self` is that it's used as a keyword in order to bind the attributes in the class definition with the parameters passed when creating a new instance of the class.  "
   ]
  },
  {
   "cell_type": "code",
   "execution_count": 15,
   "id": "3330d532",
   "metadata": {},
   "outputs": [
    {
     "name": "stdout",
     "output_type": "stream",
     "text": [
      "Chilis is a American restaurant.\n",
      "Bonefish Grille is a American restaurant.\n",
      "Tuk Tuk is a Thai restaurant.\n"
     ]
    }
   ],
   "source": [
    "# Exercise 9-1 three restaurants\n",
    "# Create three instances of the Restaurant class and call describe() restaurant for each\n",
    "restaurants = [Restaurant('chilis', 'american'), \n",
    "              Restaurant('bonefish grille', 'american'), \n",
    "              Restaurant('tuk tuk', 'thai')]\n",
    "\n",
    "for restaurant in restaurants:\n",
    "    restaurant.describe_restaurant()"
   ]
  },
  {
   "cell_type": "code",
   "execution_count": 21,
   "id": "2878787b",
   "metadata": {},
   "outputs": [],
   "source": [
    "# Exercise 9-3 users\n",
    "# Make a class called User with two attributes-- first_name and last_name\n",
    "# Make two methods-- describe_user() that prints the user information, and greet_user() that prints a message\n",
    "class User:\n",
    "    \"\"\"Capture information about users.\"\"\"\n",
    "    \n",
    "    def __init__(self, first_name, last_name):\n",
    "        \"\"\"Initialize first_name and last_name attributes.\"\"\"\n",
    "        self.first_name = first_name\n",
    "        self.last_name = last_name\n",
    "        \n",
    "    def describe_user(self):\n",
    "        \"\"\"Print user information.\"\"\"\n",
    "        print(f'First name: {self.first_name.title()}')\n",
    "        print(f'Last name: {self.last_name.title()}')\n",
    "        \n",
    "    def greet_user(self):\n",
    "        \"\"\"Greet user with a personal message.\"\"\"\n",
    "        print(f'Hello, {self.first_name.title()} {self.last_name.title()}!')\n"
   ]
  },
  {
   "cell_type": "code",
   "execution_count": 22,
   "id": "13622df5",
   "metadata": {},
   "outputs": [
    {
     "name": "stdout",
     "output_type": "stream",
     "text": [
      "User description and greetings:\n",
      "First name: Stan\n",
      "Last name: Piotrowski\n",
      "Hello, Stan Piotrowski!\n",
      "\n",
      "\n",
      "First name: Frodo\n",
      "Last name: Baggins\n",
      "Hello, Frodo Baggins!\n",
      "\n",
      "\n",
      "First name: Albert\n",
      "Last name: Einstein\n",
      "Hello, Albert Einstein!\n",
      "\n",
      "\n"
     ]
    }
   ],
   "source": [
    "# Create three instances and call each method\n",
    "users = [User('stan', 'piotrowski'), \n",
    "        User('frodo', 'baggins'), \n",
    "        User('albert', 'einstein')]\n",
    "\n",
    "print('User description and greetings:')\n",
    "for user in users:\n",
    "    user.describe_user()\n",
    "    user.greet_user()\n",
    "    print('\\n')\n"
   ]
  },
  {
   "cell_type": "markdown",
   "id": "d24ffea6",
   "metadata": {},
   "source": [
    "## Working with classes and instances"
   ]
  },
  {
   "cell_type": "code",
   "execution_count": 92,
   "id": "15e1393e",
   "metadata": {},
   "outputs": [],
   "source": [
    "# Build a new Car class\n",
    "class Car:\n",
    "    \"\"\"Method to represent a car.\"\"\"\n",
    "    \n",
    "    def __init__(self, make, model, year):\n",
    "        \"\"\"Initialize attributes to descibe a car.\"\"\"\n",
    "        self.make = make\n",
    "        self.model = model\n",
    "        self.year = year\n",
    "        self.odometer_reading = 0\n",
    "        self.gas_tank_size = 10\n",
    "        self.gas_tank_level = 0\n",
    "        \n",
    "    def get_descriptive_name(self):\n",
    "        \"\"\"Return a neatly formatted descriptive name.\"\"\"\n",
    "        long_name = f'{self.year} {self.make} {self.model}'\n",
    "        return long_name.title()\n",
    "    \n",
    "    def read_odometer(self):\n",
    "        \"\"\"Print statements showing car's mileage.\"\"\"\n",
    "        message = f'This car has {str(self.odometer_reading)} miles on it.'\n",
    "        return message\n",
    "    \n",
    "    def update_odometer(self, mileage):\n",
    "        \"\"\"\n",
    "        Update odometer reading to the given mileage.\n",
    "        Reject any change that will roll the odometer back.\n",
    "        \"\"\"\n",
    "        if mileage >= self.odometer_reading:\n",
    "            self.odometer_reading = mileage\n",
    "        else: \n",
    "            return 'Invalid request: you cannot roll back an odometer.'\n",
    "        \n",
    "    def increment_odometer(self, miles):\n",
    "        \"\"\"\n",
    "        Update odometer incrementally given the number of miles driven.\n",
    "        Reject any change that will roll back the odometer.\n",
    "        \"\"\"\n",
    "        if miles < 0:\n",
    "            return 'Invalid request: number of miles driven must be positive.'\n",
    "        else:\n",
    "            self.odometer_reading += miles\n",
    "            \n",
    "    def fill_gas_tank(self, gallons):\n",
    "        \"\"\"\n",
    "        Update gas tank after filling at a fuel station.\n",
    "        Report the number of gallons actually filled-- can't fill more than the tank size.\n",
    "        \"\"\"\n",
    "        if self.gas_tank_level + gallons <= self.gas_tank_size:\n",
    "            print(f'{gallons} gallons of gas added to the tank.')\n",
    "        else:\n",
    "            gallons = self.gas_tank_size - self.gas_tank_level\n",
    "            print(f'{gallons} gallons of gas added to the tank.')\n",
    "        \n",
    "        self.gas_tank_level += gallons\n",
    "    "
   ]
  },
  {
   "cell_type": "code",
   "execution_count": 66,
   "id": "1d852924",
   "metadata": {},
   "outputs": [
    {
     "data": {
      "text/plain": [
       "'1965 Ford Bronco'"
      ]
     },
     "execution_count": 66,
     "metadata": {},
     "output_type": "execute_result"
    }
   ],
   "source": [
    "# Instantiate new Car object\n",
    "# The __init__() method is automatically called to bind the values to the attributes defined in the class definition\n",
    "my_car = Car('ford', 'bronco', 1965)\n",
    "my_car.get_descriptive_name()"
   ]
  },
  {
   "cell_type": "code",
   "execution_count": 67,
   "id": "476ce661",
   "metadata": {},
   "outputs": [
    {
     "data": {
      "text/plain": [
       "'This car has 0 miles on it.'"
      ]
     },
     "execution_count": 67,
     "metadata": {},
     "output_type": "execute_result"
    }
   ],
   "source": [
    "# Call the read_odometer() method\n",
    "my_car.read_odometer()"
   ]
  },
  {
   "cell_type": "code",
   "execution_count": 68,
   "id": "b9bbf65c",
   "metadata": {},
   "outputs": [
    {
     "name": "stdout",
     "output_type": "stream",
     "text": [
      "2016 Audi Quattro\n",
      "\n",
      "Original odometer reading:\n",
      "This car has 0 miles on it.\n",
      "\n",
      "Updated odometer reading:\n",
      "This car has 23 miles on it.\n"
     ]
    }
   ],
   "source": [
    "# There are several ways to modify an instance's attributes\n",
    "# 1) Modify the attribute directly\n",
    "my_new_car = Car('audi', 'quattro', 2016)\n",
    "print(my_new_car.get_descriptive_name())\n",
    "\n",
    "print(f'\\nOriginal odometer reading:\\n{my_new_car.read_odometer()}')\n",
    "\n",
    "my_new_car.odometer_reading = 23\n",
    "print(f'\\nUpdated odometer reading:\\n{my_new_car.read_odometer()}')"
   ]
  },
  {
   "cell_type": "code",
   "execution_count": 69,
   "id": "5cc2aecf",
   "metadata": {},
   "outputs": [
    {
     "name": "stdout",
     "output_type": "stream",
     "text": [
      "New mileage after taking a long trip:\n",
      "This car has 3000 miles on it.\n"
     ]
    }
   ],
   "source": [
    "# 2) Use a method-- here, update_odometer()-- to change attributes\n",
    "# First, we need to call the method to update the odometer\n",
    "# Then call read_odometer() to print new result\n",
    "my_new_car.update_odometer(3000)\n",
    "print(f'New mileage after taking a long trip:\\n{my_new_car.read_odometer()}')"
   ]
  },
  {
   "cell_type": "code",
   "execution_count": 70,
   "id": "d2c58741",
   "metadata": {},
   "outputs": [
    {
     "data": {
      "text/plain": [
       "'Invalid request: you cannot roll back an odometer.'"
      ]
     },
     "execution_count": 70,
     "metadata": {},
     "output_type": "execute_result"
    }
   ],
   "source": [
    "# Try to reset the odometer and check that the message prints correctly\n",
    "my_new_car.update_odometer(0)"
   ]
  },
  {
   "cell_type": "code",
   "execution_count": 71,
   "id": "57ec156b",
   "metadata": {},
   "outputs": [
    {
     "data": {
      "text/plain": [
       "'This car has 3000 miles on it.'"
      ]
     },
     "execution_count": 71,
     "metadata": {},
     "output_type": "execute_result"
    }
   ],
   "source": [
    "# Check odometer reading\n",
    "my_new_car.read_odometer()"
   ]
  },
  {
   "cell_type": "code",
   "execution_count": 72,
   "id": "497e0939",
   "metadata": {},
   "outputs": [
    {
     "data": {
      "text/plain": [
       "'This car has 3500 miles on it.'"
      ]
     },
     "execution_count": 72,
     "metadata": {},
     "output_type": "execute_result"
    }
   ],
   "source": [
    "# Call incremental change method\n",
    "my_new_car.increment_odometer(500)\n",
    "my_new_car.read_odometer()"
   ]
  },
  {
   "cell_type": "code",
   "execution_count": 73,
   "id": "9dc21288",
   "metadata": {},
   "outputs": [
    {
     "name": "stdout",
     "output_type": "stream",
     "text": [
      "Starting gas before fueling:\n",
      "0\n",
      "5 gallons of gas added to the tank.\n",
      "Gas level after fueling:\n",
      "5\n"
     ]
    }
   ],
   "source": [
    "# Call fill method to simulate adding gas to the tank\n",
    "print(f'Starting gas before fueling:\\n{my_new_car.gas_tank_level}')\n",
    "\n",
    "# Simulate filling\n",
    "my_new_car.fill_gas_tank(5)\n",
    "\n",
    "# Check the new tank level\n",
    "print(f'Gas level after fueling:\\n{my_new_car.gas_tank_level}')"
   ]
  },
  {
   "cell_type": "code",
   "execution_count": 126,
   "id": "5b61734a",
   "metadata": {},
   "outputs": [],
   "source": [
    "# Exercise 9-4 number served\n",
    "# Update class Restaurant from exercise 9-1\n",
    "# Add attribute called number_served with a default value of 0\n",
    "# Add a method called set_number_served() to let you know how many customers have ben served\n",
    "# Add another method called increment_number_served() to increment how many have been served\n",
    "\n",
    "class Restaurant:\n",
    "    \"\"\"Model a restaurant.\"\"\"\n",
    "    \n",
    "    def __init__(self, restaurant_name, cuisine_type):\n",
    "        \"\"\"Initialize restaurant name and cuisine type for the Restaurant class\"\"\"\n",
    "        self.restaurant_name = restaurant_name\n",
    "        self.cuisine_type = cuisine_type\n",
    "        self.number_served = 0\n",
    "        \n",
    "    def describe_restaurant(self):\n",
    "        \"\"\"Print description of the restaurant\"\"\"\n",
    "        print(f'{self.restaurant_name.title()} is a {self.cuisine_type.title()} restaurant.')\n",
    "        \n",
    "    def open_restauarant(self):\n",
    "        \"\"\"Print that the restaurant is open for business.\"\"\"\n",
    "        print(f'{self.restaurant_name.title()} is open.')\n",
    "        \n",
    "    def set_number_served(self, number_served):\n",
    "        \"\"\"\n",
    "        Set number of customers served.\n",
    "        Reject any change that will roll back the number of customers served.        \n",
    "        \"\"\"\n",
    "        if number_served >= 0:\n",
    "            self.number_served = number_served\n",
    "        else: \n",
    "            return 'Invalid request: number of customers served must be positive.'\n",
    "        \n",
    "    def increment_number_served(self, num_customers):\n",
    "        \"\"\"\n",
    "        Increment number of customers served.\n",
    "        Reject any change that will roll back the number of customers served.\n",
    "        \"\"\"\n",
    "        if num_customers >= 0: \n",
    "            self.number_served += num_customers\n",
    "        else: \n",
    "            return 'Invalid request: number of customers served must be positive.'  "
   ]
  },
  {
   "cell_type": "code",
   "execution_count": 95,
   "id": "64ee5c1e",
   "metadata": {},
   "outputs": [
    {
     "name": "stdout",
     "output_type": "stream",
     "text": [
      "Number of customers served so far today:\n",
      "10\n",
      "\n",
      "Number of customers served after dinner rush:\n",
      "30\n"
     ]
    }
   ],
   "source": [
    "# Create new instance, set number of customers served, then increment and update\n",
    "my_new_restaurant = Restaurant('uchu sushi', 'japanese')\n",
    "my_new_restaurant.set_number_served(10)\n",
    "print(f'Number of customers served so far today:\\n{my_new_restaurant.number_served}')\n",
    "\n",
    "# Increment\n",
    "my_new_restaurant.increment_number_served(20)\n",
    "print(f'\\nNumber of customers served after dinner rush:\\n{my_new_restaurant.number_served}')"
   ]
  },
  {
   "cell_type": "code",
   "execution_count": 140,
   "id": "b75ebc97",
   "metadata": {},
   "outputs": [],
   "source": [
    "# Exercise 9-3 login attemps\n",
    "# Build on the class from exercise 9-3 User class\n",
    "# Write a method called increment_login_attempts() that increments the number of login attempts by 1\n",
    "# Write another method that resets the number of login attempts to 0\n",
    "class User:\n",
    "    \"\"\"Capture information about users.\"\"\"\n",
    "    \n",
    "    def __init__(self, first_name, last_name):\n",
    "        \"\"\"Initialize first_name and last_name attributes.\"\"\"\n",
    "        self.first_name = first_name\n",
    "        self.last_name = last_name\n",
    "        self.login_attempts = 0\n",
    "        \n",
    "    def describe_user(self):\n",
    "        \"\"\"Print user information.\"\"\"\n",
    "        print(f'First name: {self.first_name.title()}')\n",
    "        print(f'Last name: {self.last_name.title()}')\n",
    "        \n",
    "    def greet_user(self):\n",
    "        \"\"\"Greet user with a personal message.\"\"\"\n",
    "        print(f'Hello, {self.first_name.title()} {self.last_name.title()}!')\n",
    "        \n",
    "    def increment_login_attempts(self):\n",
    "        \"\"\"Increment the number of login attempts by 1.\"\"\"\n",
    "        self.login_attempts += 1\n",
    "    \n",
    "    def reset_login_attempts(self):\n",
    "        \"\"\"Reset login attempts to 0 (e.g., after changing password).\"\"\"\n",
    "        self.login_attemps = 0\n"
   ]
  },
  {
   "cell_type": "code",
   "execution_count": 2,
   "id": "06564e93",
   "metadata": {},
   "outputs": [
    {
     "name": "stdout",
     "output_type": "stream",
     "text": [
      "First name: Stan\n",
      "Last name: Piotrowski\n"
     ]
    }
   ],
   "source": [
    "# Create a new instance\n",
    "new_user = User('stan', 'piotrowski')\n",
    "new_user.describe_user()"
   ]
  },
  {
   "cell_type": "code",
   "execution_count": 3,
   "id": "a2db86ca",
   "metadata": {},
   "outputs": [
    {
     "name": "stdout",
     "output_type": "stream",
     "text": [
      "Starting number of login attempts:\n",
      "0\n",
      "\n",
      "Updated number of login attemps:\n",
      "5\n",
      "\n",
      "Updated number of login attempts after resetting:\n",
      "0\n"
     ]
    }
   ],
   "source": [
    "# Add a few login attemps\n",
    "print(f'Starting number of login attempts:\\n{new_user.login_attempts}')\n",
    "\n",
    "for i in range(1, 6):\n",
    "    new_user.increment_login_attempts()\n",
    "    \n",
    "# Print new number\n",
    "print(f'\\nUpdated number of login attemps:\\n{new_user.login_attempts}')\n",
    "\n",
    "# Reset login attemps\n",
    "new_user.reset_login_attempts()\n",
    "print(f'\\nUpdated number of login attempts after resetting:\\n{new_user.login_attemps}')"
   ]
  },
  {
   "cell_type": "markdown",
   "id": "a5f0697d",
   "metadata": {},
   "source": [
    "## Inheritance\n",
    "\n",
    "The concept of inheritance is helpful when we want to build a new, custom class using an existing one.  The parent class is the original one, and the child class is the new one.  The child class inherits all attributes and methods from the parent class."
   ]
  },
  {
   "cell_type": "code",
   "execution_count": 100,
   "id": "840eccc3",
   "metadata": {},
   "outputs": [],
   "source": [
    "# Build a new child class, EletricCar, using the Car parent class\n",
    "class ElectricCar(Car): # include parent class in the child class definition\n",
    "    \"\"\"Represent aspects of a car specific to electric vehicles.\"\"\"\n",
    "    \n",
    "    def __init__(self, make, model, year):\n",
    "        \"\"\"Initialize attributes of the parent class.\"\"\"\n",
    "        super().__init__(make, model, year) # call the init method for the parent class\n",
    "        self.battery_size = 70\n",
    "        \n",
    "    def describe_battery(self):\n",
    "        \"\"\"Print a statement about the battery size.\"\"\"\n",
    "        message = f'This car has a {self.battery_size}-kWh battery.'\n",
    "        return message\n",
    "    \n",
    "    def fill_gas_tank(self):\n",
    "        \"\"\"Override parent class method-- electric cars don't have gas tanks.\"\"\"\n",
    "        return \"Invalid request: electric cars don't have gas tanks.\"\n",
    "        \n",
    "    "
   ]
  },
  {
   "cell_type": "code",
   "execution_count": 101,
   "id": "302ffc34",
   "metadata": {},
   "outputs": [
    {
     "data": {
      "text/plain": [
       "'2016 Tesla Model 5'"
      ]
     },
     "execution_count": 101,
     "metadata": {},
     "output_type": "execute_result"
    }
   ],
   "source": [
    "# In the code chunk above, the super() method links the parent and child classes\n",
    "# It gives all attributes and methods of a new instance of the child class from the parent class\n",
    "# Create a new electric car\n",
    "my_electric_car = ElectricCar('tesla', 'model 5', 2016)\n",
    "my_electric_car.get_descriptive_name()"
   ]
  },
  {
   "cell_type": "code",
   "execution_count": 102,
   "id": "2674769f",
   "metadata": {},
   "outputs": [
    {
     "data": {
      "text/plain": [
       "'This car has a 70-kWh battery.'"
      ]
     },
     "execution_count": 102,
     "metadata": {},
     "output_type": "execute_result"
    }
   ],
   "source": [
    "# Test new attributes and methods specific to the ElectricCar class\n",
    "my_electric_car.describe_battery()"
   ]
  },
  {
   "cell_type": "code",
   "execution_count": 103,
   "id": "b8772523",
   "metadata": {},
   "outputs": [
    {
     "data": {
      "text/plain": [
       "\"Invalid request: electric cars don't have gas tanks.\""
      ]
     },
     "execution_count": 103,
     "metadata": {},
     "output_type": "execute_result"
    }
   ],
   "source": [
    "# Call custom method overriden from the parent class\n",
    "my_electric_car.fill_gas_tank()"
   ]
  },
  {
   "cell_type": "code",
   "execution_count": 120,
   "id": "a50a25a6",
   "metadata": {},
   "outputs": [],
   "source": [
    "# Breaking down larger classes into smaller ones\n",
    "# Here, we can define a separate smaller class for the battery\n",
    "# We can then incorporate that battery definition into the ElectricCar definition\n",
    "class Battery:\n",
    "    \"\"\"Model an electric car battery.\"\"\"\n",
    "    \n",
    "    def __init__(self, battery_size=70):\n",
    "        \"\"\"Initialize attributes of electric car battery.\"\"\"\n",
    "        self.battery_size = battery_size\n",
    "        \n",
    "    def describe_battery_size(self):\n",
    "        \"\"\"Print description of electric car battery size.\"\"\"\n",
    "        message = f'This car has a {self.battery_size}-kWh battery.'\n",
    "        return message\n",
    "    \n",
    "    def get_range(self):\n",
    "        \"\"\"Print a statement about the range this battery provides.\"\"\"\n",
    "        if self.battery_size == 70:\n",
    "            range = 240\n",
    "        elif self.battery_size == 85:\n",
    "            range = 270\n",
    "            \n",
    "        message = f'This car can go approximately {range} miles on a full charge.'\n",
    "        return message\n"
   ]
  },
  {
   "cell_type": "code",
   "execution_count": 121,
   "id": "5a9619d9",
   "metadata": {},
   "outputs": [
    {
     "data": {
      "text/plain": [
       "'This car has a 70-kWh battery.'"
      ]
     },
     "execution_count": 121,
     "metadata": {},
     "output_type": "execute_result"
    }
   ],
   "source": [
    "# Create new Battery instance\n",
    "my_battery = Battery()\n",
    "my_battery.describe_battery_size()"
   ]
  },
  {
   "cell_type": "code",
   "execution_count": 122,
   "id": "e3ccc69e",
   "metadata": {},
   "outputs": [],
   "source": [
    "# Now define new ElectricCar class \n",
    "# It should inherit the attributes and methods of the Car parent class\n",
    "# In addition, include the Battery() class as an attribute\n",
    "class ElectricCar(Car):\n",
    "    \"\"\"Model an electric car.\"\"\"\n",
    "    \n",
    "    def __init__(self, make, model, year):\n",
    "        \"\"\"Define attributes for the electric car.\"\"\"\n",
    "        super().__init__(make, model, year) # inherit from Car parent\n",
    "        self.battery = Battery()"
   ]
  },
  {
   "cell_type": "code",
   "execution_count": 123,
   "id": "436f2796",
   "metadata": {},
   "outputs": [],
   "source": [
    "# Create a new ElectricCar instance\n",
    "# In this case, the Battery() instance is now an attribute of the new ElectriCar instance\n",
    "my_tesla = ElectricCar('tesla', 'model 5', 2016)"
   ]
  },
  {
   "cell_type": "code",
   "execution_count": 124,
   "id": "b9d34d18",
   "metadata": {},
   "outputs": [
    {
     "data": {
      "text/plain": [
       "'This car has a 70-kWh battery.'"
      ]
     },
     "execution_count": 124,
     "metadata": {},
     "output_type": "execute_result"
    }
   ],
   "source": [
    "# Call new Battery methods\n",
    "# Here, the double-dot notation is needed becuase we need to access the describe_battery_method() in the Battery instance stored in the battery attribute\n",
    "my_tesla.battery.describe_battery_size()"
   ]
  },
  {
   "cell_type": "code",
   "execution_count": 125,
   "id": "672235a3",
   "metadata": {},
   "outputs": [
    {
     "data": {
      "text/plain": [
       "'This car can go approximately 240 miles on a full charge.'"
      ]
     },
     "execution_count": 125,
     "metadata": {},
     "output_type": "execute_result"
    }
   ],
   "source": [
    "# Call get_range() method\n",
    "my_tesla.battery.get_range()"
   ]
  },
  {
   "cell_type": "code",
   "execution_count": 136,
   "id": "115ec1bd",
   "metadata": {},
   "outputs": [],
   "source": [
    "# Exercise 9-6 ice cream stand\n",
    "# Write a class called IceCreamStand that inherits from the Restaurant class \n",
    "# Add an attribute for flavors\n",
    "# Write a method that dsplays these flavors\n",
    "class IceCreamStand(Restaurant):\n",
    "    \"\"\"Model an ice cream stand inheriting from the Restaurant parent class.\"\"\"\n",
    "    \n",
    "    def __init__(self, restaurant_name, cuisine_type, *flavors):\n",
    "        \"\"\"Define attributes for the ice cream stand.\"\"\"\n",
    "        super().__init__(restaurant_name, cuisine_type)\n",
    "        self.flavors = flavors\n",
    "        \n",
    "    def get_flavors(self):\n",
    "        \"\"\"Print all available flavors.\"\"\"\n",
    "        for flavor in self.flavors:\n",
    "            print(flavor)\n",
    "        "
   ]
  },
  {
   "cell_type": "code",
   "execution_count": 138,
   "id": "cb373a70",
   "metadata": {},
   "outputs": [
    {
     "name": "stdout",
     "output_type": "stream",
     "text": [
      "Dippin Dots is a Ice Cream restaurant.\n"
     ]
    }
   ],
   "source": [
    "# Create new instance and test methods\n",
    "my_ice_cream_stand = IceCreamStand('dippin dots', 'ice cream', 'chocolate', 'marshmallow', 'vanilla')\n",
    "my_ice_cream_stand.describe_restaurant()"
   ]
  },
  {
   "cell_type": "code",
   "execution_count": 139,
   "id": "44e1931b",
   "metadata": {},
   "outputs": [
    {
     "name": "stdout",
     "output_type": "stream",
     "text": [
      "Available flavors:\n",
      "chocolate\n",
      "marshmallow\n",
      "vanilla\n"
     ]
    }
   ],
   "source": [
    "# Print available flavors\n",
    "print('Available flavors:')\n",
    "my_ice_cream_stand.get_flavors()"
   ]
  },
  {
   "cell_type": "code",
   "execution_count": 141,
   "id": "35e77370",
   "metadata": {},
   "outputs": [],
   "source": [
    "# Exercise 9-7 admin\n",
    "# Write a class called Admin that inherits from the User class\n",
    "# Add an attribute-- privileges that stores a list of strings\n",
    "# Write a method that shows the admin's privileges\n",
    "class Admin(User):\n",
    "    \"\"\"Define administrator subclass.\"\"\"\n",
    "    \n",
    "    def __init__(self, first_name, last_name, *privileges):\n",
    "        \"\"\"Define attributes for administrator user account.\"\"\"\n",
    "        super().__init__(first_name, last_name)\n",
    "        self.privileges = privileges\n",
    "        \n",
    "    def show_privileges(self):\n",
    "        \"\"\"Print list of privileges granted to the administrator account.\"\"\"\n",
    "        for privilege in self.privileges:\n",
    "            print(privilege)\n",
    "\n",
    "    "
   ]
  },
  {
   "cell_type": "code",
   "execution_count": 142,
   "id": "0811e35b",
   "metadata": {},
   "outputs": [],
   "source": [
    "# Create new instance\n",
    "my_admin_account = Admin('stan', 'piotrowski', 'can delete post', 'can add post', 'can delete users')"
   ]
  },
  {
   "cell_type": "code",
   "execution_count": 144,
   "id": "7c08e56e",
   "metadata": {},
   "outputs": [
    {
     "name": "stdout",
     "output_type": "stream",
     "text": [
      "The following privileges are granted for this admin account:\n",
      "can delete post\n",
      "can add post\n",
      "can delete users\n"
     ]
    }
   ],
   "source": [
    "# Print granted privileges\n",
    "print('The following privileges are granted for this admin account:')\n",
    "my_admin_account.show_privileges()"
   ]
  },
  {
   "cell_type": "code",
   "execution_count": 175,
   "id": "4b587cae",
   "metadata": {},
   "outputs": [],
   "source": [
    "# Exercise 9-8 privileges\n",
    "# Write a separate Privileges class (doesn't inherit from a parent class)\n",
    "# The show_privileges() method should be contained in this class\n",
    "# Then make a privileges instance as an attribute in the Admin class\n",
    "\n",
    "# Here, I'll make a base set of admin privileges in the Privileges class\n",
    "# I'll also make new methods in the Privileges class to update privileges\n",
    "class Privileges:\n",
    "    \"\"\"Define set of privileges for user accounts.\"\"\"\n",
    "    \n",
    "    def __init__(self, *privileges):\n",
    "        \"\"\"Define attributes for class.\"\"\"\n",
    "        self.privileges = privileges\n",
    "        \n",
    "    def show_privileges(self):\n",
    "        \"\"\"Print each privilege available on the account.\"\"\"\n",
    "        for privilege in self.privileges:\n",
    "            print(privilege)\n",
    "        \n",
    "class Admin(User):\n",
    "    \"\"\"Define administrator account inherited from User class.\"\"\"\n",
    "    \n",
    "    def __init__(self, first_name, last_name, *privileges):\n",
    "        \"\"\"Define attributes.\"\"\"\n",
    "        super().__init__(first_name, last_name)\n",
    "        self.privileges = Privileges(privileges) # important to include this parameter\n",
    "        \n",
    "    "
   ]
  },
  {
   "cell_type": "code",
   "execution_count": 176,
   "id": "0309b274",
   "metadata": {},
   "outputs": [],
   "source": [
    "# Create new Admin instance\n",
    "new_admin_account = Admin('stan', 'piotrowski', 'can grant access', 'can delete user', 'can add post', 'can delete post')"
   ]
  },
  {
   "cell_type": "code",
   "execution_count": 177,
   "id": "759b32d2",
   "metadata": {},
   "outputs": [
    {
     "name": "stdout",
     "output_type": "stream",
     "text": [
      "('can grant access', 'can delete user', 'can add post', 'can delete post')\n"
     ]
    }
   ],
   "source": [
    "# Show all privileges for the account\n",
    "new_admin_account.privileges.show_privileges()"
   ]
  },
  {
   "cell_type": "code",
   "execution_count": 192,
   "id": "f08ea6ae",
   "metadata": {},
   "outputs": [],
   "source": [
    "# Exercise 9-9 battery upgrade\n",
    "# Add a method to the Battery class called upgrade_battery() that sets the capacity to 85 if it isn't already\n",
    "class Battery:\n",
    "    \"\"\"Model an electric car battery.\"\"\"\n",
    "    \n",
    "    def __init__(self, battery_size=70):\n",
    "        \"\"\"Initialize electric car battery attributes.\"\"\"\n",
    "        self.battery_size = battery_size\n",
    "    \n",
    "    def describe_battery_size(self):\n",
    "        \"\"\"Print description of electric car battery size.\"\"\"\n",
    "        message = f'This car has a {self.battery_size}-kWh battery.'\n",
    "        return message\n",
    "    \n",
    "    def get_range(self):\n",
    "        \"\"\"Calculate range of vehicle depending on battery size.\"\"\"\n",
    "        if self.battery_size == 70:\n",
    "            range = 240\n",
    "        elif self.battery_size == 85:\n",
    "            range = 270\n",
    "        message = f'The range of this vehicle is {range} on a full charge.'\n",
    "        return message\n",
    "    \n",
    "    def upgrade_battery(self):\n",
    "        \"\"\"Upgrade battery capacity to 85 if it isn't already.\"\"\"\n",
    "        if self.battery_size != 85:\n",
    "            self.battery_size = 85\n",
    "            \n",
    "class ElectricCar(Car):\n",
    "    \"\"\"Model an electric car inheriting methods and attributes from Car class.\"\"\"\n",
    "    \n",
    "    def __init__(self, make, model, year):\n",
    "        \"\"\"Define attributes for an electric car.\"\"\"\n",
    "        super().__init__(make, model, year)\n",
    "        self.battery = Battery()\n",
    "        "
   ]
  },
  {
   "cell_type": "code",
   "execution_count": 193,
   "id": "e98100ea",
   "metadata": {},
   "outputs": [],
   "source": [
    "# Create new instance of ElectricCar\n",
    "my_new_tesla = ElectricCar('tesla', 'model 5', 2020)"
   ]
  },
  {
   "cell_type": "code",
   "execution_count": 194,
   "id": "cf24ae66",
   "metadata": {},
   "outputs": [
    {
     "name": "stdout",
     "output_type": "stream",
     "text": [
      "This car has a 70-kWh battery.\n",
      "The range of this vehicle is 240 on a full charge.\n"
     ]
    }
   ],
   "source": [
    "# Print default battery size and range\n",
    "print(my_new_tesla.battery.describe_battery_size())\n",
    "print(my_new_tesla.battery.get_range())"
   ]
  },
  {
   "cell_type": "code",
   "execution_count": 195,
   "id": "26153d28",
   "metadata": {},
   "outputs": [
    {
     "name": "stdout",
     "output_type": "stream",
     "text": [
      "This car has a 85-kWh battery.\n",
      "The range of this vehicle is 270 on a full charge.\n"
     ]
    }
   ],
   "source": [
    "# Upgrade battery size and print new updated size and range\n",
    "my_new_tesla.battery.upgrade_battery()\n",
    "print(my_new_tesla.battery.describe_battery_size())\n",
    "print(my_new_tesla.battery.get_range())"
   ]
  },
  {
   "cell_type": "code",
   "execution_count": 196,
   "id": "678b353e",
   "metadata": {},
   "outputs": [
    {
     "name": "stdout",
     "output_type": "stream",
     "text": [
      "This car has a 85-kWh battery.\n"
     ]
    }
   ],
   "source": [
    "# Try to upgrade the battery again and check for changes\n",
    "my_new_tesla.battery.upgrade_battery()\n",
    "print(my_new_tesla.battery.describe_battery_size())"
   ]
  },
  {
   "cell_type": "markdown",
   "id": "c249bad6",
   "metadata": {},
   "source": [
    "## Importing classes\n",
    "\n",
    "We can keep programs from getting cluttered by importing modules that may contain functions and classes that we've written.  There are a few different ways of import modules, such as defining the exact class or function of interest from a module.  Alternatively, you could simply import the entire module and use dot notation to access internal functions and clases.  This approach makes function calls and instatiation unambiguous, because the module name is always attached in the call.  "
   ]
  },
  {
   "cell_type": "markdown",
   "id": "76a5fe0a",
   "metadata": {},
   "source": [
    "## Python standard library\n"
   ]
  },
  {
   "cell_type": "code",
   "execution_count": 4,
   "id": "ae5905b3",
   "metadata": {},
   "outputs": [
    {
     "name": "stdout",
     "output_type": "stream",
     "text": [
      "Jen's favorite language is Python.\n",
      "Sarah's favorite language is C.\n",
      "Edward's favorite language is Ruby.\n",
      "Phil's favorite language is Python.\n"
     ]
    }
   ],
   "source": [
    "# Experiment with different modules from the Python standard library\n",
    "import collections\n",
    "\n",
    "# Standard dictionaries are unordered-- they don't keep track of where each key-value pair entry is in the data structure\n",
    "# The collections module contains a class to create OrderedDict() objects\n",
    "favorite_languages = collections.OrderedDict()\n",
    "\n",
    "# Populate the ordered dictionary\n",
    "favorite_languages['jen'] = 'python'\n",
    "favorite_languages['sarah'] = 'c'\n",
    "favorite_languages['edward'] = 'ruby'\n",
    "favorite_languages['phil'] = 'python'\n",
    "\n",
    "# Print the results-- these will be printed in the order in which they were added\n",
    "for name, language in favorite_languages.items():\n",
    "    print(f\"{name.title()}'s favorite language is {language.title()}.\")"
   ]
  },
  {
   "cell_type": "code",
   "execution_count": 13,
   "id": "fff63f9b",
   "metadata": {},
   "outputs": [],
   "source": [
    "# Exercise 9-14 dice\n",
    "# Create a class Die with one attribute, sides, with a default value of 6\n",
    "# Create a method called roll_die() that prints a random number between 1 and the number sides\n",
    "# Create the 6-sided die and roll it 10 times\n",
    "import random\n",
    "\n",
    "class Die:\n",
    "    \"\"\"Model an n-sided die.\"\"\"\n",
    "    \n",
    "    def __init__(self, sides=6):\n",
    "        \"\"\"Initialize attributes of the die.\"\"\"\n",
    "        self.sides = sides\n",
    "        \n",
    "    def roll_die(self):\n",
    "        \"\"\"Simulate rolling the die and drawing a random integer each turn.\"\"\"\n",
    "       \n",
    "        roll = random.randint(1, self.sides)\n",
    "        return roll\n"
   ]
  },
  {
   "cell_type": "code",
   "execution_count": 14,
   "id": "adbf6a8e",
   "metadata": {},
   "outputs": [
    {
     "name": "stdout",
     "output_type": "stream",
     "text": [
      "The die has 6 sides.\n"
     ]
    }
   ],
   "source": [
    "# Initiate new object\n",
    "my_die = Die()\n",
    "\n",
    "# Show attributes \n",
    "print(f'The die has {my_die.sides} sides.')"
   ]
  },
  {
   "cell_type": "code",
   "execution_count": 16,
   "id": "e4d1f507",
   "metadata": {},
   "outputs": [
    {
     "name": "stdout",
     "output_type": "stream",
     "text": [
      "Simulated 10 random rolls:\n",
      "6\n",
      "4\n",
      "5\n",
      "4\n",
      "4\n",
      "5\n",
      "6\n",
      "1\n",
      "5\n",
      "1\n",
      "6\n"
     ]
    }
   ],
   "source": [
    "# Simulate 10 rolles\n",
    "print('Simulated 10 random rolls:')\n",
    "for i in range(0, 11):\n",
    "    print(my_die.roll_die())"
   ]
  },
  {
   "cell_type": "code",
   "execution_count": null,
   "id": "65ccbc46",
   "metadata": {},
   "outputs": [],
   "source": []
  }
 ],
 "metadata": {
  "kernelspec": {
   "display_name": "Python 3 (ipykernel)",
   "language": "python",
   "name": "python3"
  },
  "language_info": {
   "codemirror_mode": {
    "name": "ipython",
    "version": 3
   },
   "file_extension": ".py",
   "mimetype": "text/x-python",
   "name": "python",
   "nbconvert_exporter": "python",
   "pygments_lexer": "ipython3",
   "version": "3.10.2"
  }
 },
 "nbformat": 4,
 "nbformat_minor": 5
}
