{
 "cells": [
  {
   "cell_type": "markdown",
   "id": "a0d65382",
   "metadata": {},
   "source": [
    "# Classes\n",
    "\n",
    "## Creating and using a class\n",
    "\n"
   ]
  },
  {
   "cell_type": "code",
   "execution_count": 1,
   "id": "cefc185d",
   "metadata": {},
   "outputs": [],
   "source": [
    "# Create a dog class that models information and behavior about dogs\n",
    "# Here, the title case of the class name is deliberate-- this is common convention in Python\n",
    "class Dog: \n",
    "    \"\"\"An attemtp to model a dog.\"\"\"\n",
    "    \n",
    "    def __init__(self, name, age): # self always must come first\n",
    "        \"\"\"Initialize name and age attributes of the Dog class.\"\"\"\n",
    "        self.name = name\n",
    "        self.age = age\n",
    "    \n",
    "    def sit(self):\n",
    "        \"\"\"Simulate a dog sitting in response to a command.\"\"\"\n",
    "        print(f'{self.name} is now sitting.')\n",
    "        \n",
    "    def roll_over(self):\n",
    "        \"\"\"Simulate a dog rolling over in response to a commond.\"\"\"\n",
    "        print(f'{self.name} rolled over!')\n",
    "    "
   ]
  },
  {
   "cell_type": "markdown",
   "id": "be6a2542",
   "metadata": {},
   "source": [
    "When creating a new class, the `__init()__` method is called to initialize the defined attributes for a given instance.  The `self()` method is automatically called, which refers to the specific instance of a given class.  For example, the line `self.name = name` means that the `name` argument is passed to a specific instance of class `Dog`.  It's also important to note that when we prefix variables with `self`, those variables are then available to every method defined in the class, like `sit()` and `roll_over()`.  The methods just described will also be able to be accessed by any instance of this class because they are parameterized by `self`.\n",
    "\n",
    "Attributes are variables that can accessed for a given instance; methods are functions that can be accessed for a given instance.  "
   ]
  },
  {
   "cell_type": "code",
   "execution_count": 3,
   "id": "c1a57825",
   "metadata": {},
   "outputs": [
    {
     "name": "stdout",
     "output_type": "stream",
     "text": [
      "My dog Willie is 6 years old!\n"
     ]
    }
   ],
   "source": [
    "# Create instance of the Dog class\n",
    "my_dog = Dog('Willie', 6)\n",
    "\n",
    "# Access the name and age attributes\n",
    "print(f'My dog {my_dog.name} is {my_dog.age} years old!')"
   ]
  },
  {
   "cell_type": "markdown",
   "id": "4eb580b3",
   "metadata": {},
   "source": [
    "Summarizing the textbook explanation-- when we run the code above, the `__init__` method creates a new instance and sets the `name` and `age` attributes to `Willie` and `6`, respectively. "
   ]
  },
  {
   "cell_type": "code",
   "execution_count": 8,
   "id": "24d8fa9f",
   "metadata": {},
   "outputs": [
    {
     "name": "stdout",
     "output_type": "stream",
     "text": [
      "Willie, sit!\n",
      "Willie is now sitting.\n",
      "\n",
      "Willie, roll over!\n",
      "Willie rolled over!\n"
     ]
    }
   ],
   "source": [
    "# Make dog sit and roll over\n",
    "print(f'{my_dog.name}, sit!')\n",
    "my_dog.sit()\n",
    "\n",
    "print(f'\\n{my_dog.name}, roll over!')\n",
    "my_dog.roll_over()"
   ]
  },
  {
   "cell_type": "code",
   "execution_count": 13,
   "id": "f765a471",
   "metadata": {},
   "outputs": [],
   "source": [
    "# Exercise 9-1 restaurant\n",
    "# Make a class called Restaurant and define 2 attributes-- restaurant_name and cuisine_type\n",
    "# Make a method called describe_restaurant() to prints these pieces of info\n",
    "# Make another method called open_restaurant() that prints a message saying the restaurant is open\n",
    "class Restaurant:\n",
    "    \"\"\"Model a restaurant.\"\"\"\n",
    "    \n",
    "    def __init__(self, restaurant_name, cuisine_type):\n",
    "        \"\"\"Initialize restaurant name and cuisine type for the Restaurant class\"\"\"\n",
    "        self.restaurant_name = restaurant_name\n",
    "        self.cuisine_type = cuisine_type\n",
    "        \n",
    "    def describe_restaurant(self):\n",
    "        \"\"\"Print description of the restaurant\"\"\"\n",
    "        print(f'{self.restaurant_name.title()} is a {self.cuisine_type.title()} restaurant.')\n",
    "        \n",
    "    def open_restauarant(self):\n",
    "        \"\"\"Print that the restaurant is open for business.\"\"\"\n",
    "        print(f'{self.restaurant_name.title()} is open.')\n",
    "            "
   ]
  },
  {
   "cell_type": "code",
   "execution_count": 12,
   "id": "59850bf7",
   "metadata": {},
   "outputs": [
    {
     "name": "stdout",
     "output_type": "stream",
     "text": [
      "Chilis is a American restaurant\n"
     ]
    }
   ],
   "source": [
    "# Create new instance\n",
    "my_restaurant = Restaurant('chilis', 'american')\n",
    "\n",
    "# Call methods\n",
    "my_restaurant.describe_restaurant()"
   ]
  },
  {
   "cell_type": "code",
   "execution_count": 14,
   "id": "4217ee30",
   "metadata": {},
   "outputs": [
    {
     "name": "stdout",
     "output_type": "stream",
     "text": [
      "Chilis is open.\n"
     ]
    }
   ],
   "source": [
    "my_restaurant.open_restauarant()"
   ]
  },
  {
   "cell_type": "markdown",
   "id": "c4a8bb16",
   "metadata": {},
   "source": [
    "Another way to think about `self` is that it's used as a keyword in order to bind the attributes in the class definition with the parameters passed when creating a new instance of the class.  "
   ]
  },
  {
   "cell_type": "code",
   "execution_count": 15,
   "id": "3330d532",
   "metadata": {},
   "outputs": [
    {
     "name": "stdout",
     "output_type": "stream",
     "text": [
      "Chilis is a American restaurant.\n",
      "Bonefish Grille is a American restaurant.\n",
      "Tuk Tuk is a Thai restaurant.\n"
     ]
    }
   ],
   "source": [
    "# Exercise 9-1 three restaurants\n",
    "# Create three instances of the Restaurant class and call describe() restaurant for each\n",
    "restaurants = [Restaurant('chilis', 'american'), \n",
    "              Restaurant('bonefish grille', 'american'), \n",
    "              Restaurant('tuk tuk', 'thai')]\n",
    "\n",
    "for restaurant in restaurants:\n",
    "    restaurant.describe_restaurant()"
   ]
  },
  {
   "cell_type": "code",
   "execution_count": 21,
   "id": "2878787b",
   "metadata": {},
   "outputs": [],
   "source": [
    "# Exercise 9-3 users\n",
    "# Make a class called User with two attributes-- first_name and last_name\n",
    "# Make two methods-- describe_user() that prints the user information, and greet_user() that prints a message\n",
    "class User:\n",
    "    \"\"\"Capture information about users.\"\"\"\n",
    "    \n",
    "    def __init__(self, first_name, last_name):\n",
    "        \"\"\"Initialize first_name and last_name attributes.\"\"\"\n",
    "        self.first_name = first_name\n",
    "        self.last_name = last_name\n",
    "        \n",
    "    def describe_user(self):\n",
    "        \"\"\"Print user information.\"\"\"\n",
    "        print(f'First name: {self.first_name.title()}')\n",
    "        print(f'Last name: {self.last_name.title()}')\n",
    "        \n",
    "    def greet_user(self):\n",
    "        \"\"\"Greet user with a personal message.\"\"\"\n",
    "        print(f'Hello, {self.first_name.title()} {self.last_name.title()}!')\n"
   ]
  },
  {
   "cell_type": "code",
   "execution_count": 22,
   "id": "13622df5",
   "metadata": {},
   "outputs": [
    {
     "name": "stdout",
     "output_type": "stream",
     "text": [
      "User description and greetings:\n",
      "First name: Stan\n",
      "Last name: Piotrowski\n",
      "Hello, Stan Piotrowski!\n",
      "\n",
      "\n",
      "First name: Frodo\n",
      "Last name: Baggins\n",
      "Hello, Frodo Baggins!\n",
      "\n",
      "\n",
      "First name: Albert\n",
      "Last name: Einstein\n",
      "Hello, Albert Einstein!\n",
      "\n",
      "\n"
     ]
    }
   ],
   "source": [
    "# Create three instances and call each method\n",
    "users = [User('stan', 'piotrowski'), \n",
    "        User('frodo', 'baggins'), \n",
    "        User('albert', 'einstein')]\n",
    "\n",
    "print('User description and greetings:')\n",
    "for user in users:\n",
    "    user.describe_user()\n",
    "    user.greet_user()\n",
    "    print('\\n')\n"
   ]
  },
  {
   "cell_type": "code",
   "execution_count": null,
   "id": "3c02d2b7",
   "metadata": {},
   "outputs": [],
   "source": []
  }
 ],
 "metadata": {
  "kernelspec": {
   "display_name": "Python 3 (ipykernel)",
   "language": "python",
   "name": "python3"
  },
  "language_info": {
   "codemirror_mode": {
    "name": "ipython",
    "version": 3
   },
   "file_extension": ".py",
   "mimetype": "text/x-python",
   "name": "python",
   "nbconvert_exporter": "python",
   "pygments_lexer": "ipython3",
   "version": "3.10.2"
  }
 },
 "nbformat": 4,
 "nbformat_minor": 5
}
