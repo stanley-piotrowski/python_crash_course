{
 "cells": [
  {
   "cell_type": "markdown",
   "id": "a9e7f943",
   "metadata": {},
   "source": [
    "# If statements\n",
    "\n",
    "## Simple examples"
   ]
  },
  {
   "cell_type": "code",
   "execution_count": 3,
   "id": "72ff2a91",
   "metadata": {},
   "outputs": [
    {
     "name": "stdout",
     "output_type": "stream",
     "text": [
      "Audi\n",
      "BMW\n",
      "Subaru\n",
      "Toyota\n"
     ]
    }
   ],
   "source": [
    "# Simple example-- re-format list of cars and use special formatting for BMW\n",
    "cars = ['audi', 'bmw', 'subaru', 'toyota']\n",
    "for car in cars:\n",
    "    if car == 'bmw':\n",
    "        print(car.upper())\n",
    "    else:\n",
    "        print(car.title())"
   ]
  },
  {
   "cell_type": "code",
   "execution_count": 9,
   "id": "bb9c2e3d",
   "metadata": {},
   "outputs": [
    {
     "name": "stdout",
     "output_type": "stream",
     "text": [
      "Got it, we'll add mushrooms to your order!\n"
     ]
    }
   ],
   "source": [
    "# Using 'in' to check for values in a list\n",
    "toppings = ['mushrooms', 'pepperoni', 'onions', 'peppers', 'sausage']\n",
    "topping = 'mushrooms'\n",
    "if topping in toppings:\n",
    "    print(f\"Got it, we'll add {topping} to your order!\")\n",
    "else: \n",
    "    print(f'Sorry, we do not have {topping}.  Please choose something else.')"
   ]
  },
  {
   "cell_type": "code",
   "execution_count": 10,
   "id": "63d90856",
   "metadata": {},
   "outputs": [
    {
     "name": "stdout",
     "output_type": "stream",
     "text": [
      "['TTACG'] is not in the known adapter sequence list; please check another database.\n"
     ]
    }
   ],
   "source": [
    "# Use 'not' to check if value is not in a different list\n",
    "adapter_seqs = ['AAAAA', 'AAAAT', 'AAGGA', 'CCAGG']\n",
    "my_read = ['TTACG']\n",
    "if my_read not in adapter_seqs:\n",
    "    print(f'{my_read} is not in the known adapter sequence list; please check another database.')\n",
    "else: \n",
    "    print(f'{my_read} identified in the adapter sequence list; starting read trimming.')"
   ]
  },
  {
   "cell_type": "code",
   "execution_count": null,
   "id": "ed918ed7",
   "metadata": {},
   "outputs": [],
   "source": []
  }
 ],
 "metadata": {
  "kernelspec": {
   "display_name": "Python 3 (ipykernel)",
   "language": "python",
   "name": "python3"
  },
  "language_info": {
   "codemirror_mode": {
    "name": "ipython",
    "version": 3
   },
   "file_extension": ".py",
   "mimetype": "text/x-python",
   "name": "python",
   "nbconvert_exporter": "python",
   "pygments_lexer": "ipython3",
   "version": "3.9.5"
  }
 },
 "nbformat": 4,
 "nbformat_minor": 5
}
