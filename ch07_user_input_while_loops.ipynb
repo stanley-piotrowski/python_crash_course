{
 "cells": [
  {
   "cell_type": "markdown",
   "id": "af4de445",
   "metadata": {},
   "source": [
    "# User input and while loops\n",
    "\n",
    "## Input() function"
   ]
  },
  {
   "cell_type": "code",
   "execution_count": 1,
   "id": "6c7b9638",
   "metadata": {},
   "outputs": [],
   "source": [
    "# Setup \n",
    "import numpy\n",
    "import random"
   ]
  },
  {
   "cell_type": "code",
   "execution_count": 5,
   "id": "b2465dde",
   "metadata": {},
   "outputs": [
    {
     "name": "stdout",
     "output_type": "stream",
     "text": [
      "What is your name: Stan\n",
      "Hello, Stan!\n"
     ]
    }
   ],
   "source": [
    "# Prompt user for input\n",
    "name = input('What is your name: ')\n",
    "print(f'Hello, {name}!')"
   ]
  },
  {
   "cell_type": "code",
   "execution_count": 7,
   "id": "e57f2e24",
   "metadata": {},
   "outputs": [
    {
     "name": "stdout",
     "output_type": "stream",
     "text": [
      "What is your age? 21\n"
     ]
    },
    {
     "data": {
      "text/plain": [
       "str"
      ]
     },
     "execution_count": 7,
     "metadata": {},
     "output_type": "execute_result"
    }
   ],
   "source": [
    "# Modifying data type of input variable\n",
    "age = input('What is your age? ')\n",
    "type(age)"
   ]
  },
  {
   "cell_type": "code",
   "execution_count": 8,
   "id": "0952ade8",
   "metadata": {},
   "outputs": [
    {
     "data": {
      "text/plain": [
       "int"
      ]
     },
     "execution_count": 8,
     "metadata": {},
     "output_type": "execute_result"
    }
   ],
   "source": [
    "type(int(age))"
   ]
  },
  {
   "cell_type": "code",
   "execution_count": 9,
   "id": "dbfd3d2b",
   "metadata": {},
   "outputs": [
    {
     "name": "stdout",
     "output_type": "stream",
     "text": [
      "Please input a number and I will tell you if it is even or odd: 21\n",
      "21 is odd.\n"
     ]
    }
   ],
   "source": [
    "# Determine whether a number is even or odd\n",
    "num = input('Please input a number and I will tell you if it is even or odd: ')\n",
    "num = int(num)\n",
    "\n",
    "if num % 2 == 0:\n",
    "    print(f'{num} is even.')\n",
    "else: \n",
    "    print(f'{num} is odd.')"
   ]
  },
  {
   "cell_type": "code",
   "execution_count": 10,
   "id": "5752d5b7",
   "metadata": {},
   "outputs": [
    {
     "name": "stdout",
     "output_type": "stream",
     "text": [
      "How many are in your party? 10\n",
      "Sorry, your party of 10 will have to wait for a table.\n"
     ]
    }
   ],
   "source": [
    "# Exercise 7-2 restaurant seeting\n",
    "party_size = input('How many are in your party? ')\n",
    "if int(party_size) > 8:\n",
    "    print(f'Sorry, your party of {party_size} will have to wait for a table.')\n",
    "else:\n",
    "    print(f'Your table for {party_size} is ready.')"
   ]
  },
  {
   "cell_type": "markdown",
   "id": "08b7113d",
   "metadata": {},
   "source": [
    "## While loops\n"
   ]
  },
  {
   "cell_type": "code",
   "execution_count": 11,
   "id": "9ca2049f",
   "metadata": {},
   "outputs": [
    {
     "name": "stdout",
     "output_type": "stream",
     "text": [
      "1\n",
      "2\n",
      "3\n",
      "4\n",
      "5\n",
      "6\n",
      "7\n",
      "8\n",
      "9\n"
     ]
    }
   ],
   "source": [
    "# A for loop executes some code once over the range of some elements in a data structure\n",
    "# A while loop continues as long as some pre-defined condition is True\n",
    "# Below is a basic example to count, starting at 1, until the current number reaches 10\n",
    "current_num = 1\n",
    "while current_num < 10:\n",
    "    print(current_num)\n",
    "    current_num += 1"
   ]
  },
  {
   "cell_type": "code",
   "execution_count": 14,
   "id": "04f2e254",
   "metadata": {},
   "outputs": [
    {
     "name": "stdout",
     "output_type": "stream",
     "text": [
      "Tell me something and I will repeat it until you type \"quit\"Hello\n",
      "Hello\n",
      "Tell me something and I will repeat it until you type \"quit\"Hello\n",
      "Hello\n",
      "Tell me something and I will repeat it until you type \"quit\"quit\n"
     ]
    }
   ],
   "source": [
    "# Using a flag to test multiple conditions per while loop\n",
    "active = True\n",
    "\n",
    "while active: # i.e., while active == True\n",
    "    \n",
    "    message = input('Tell me something and I will repeat it until you type \"quit\"')\n",
    "\n",
    "    if message == 'quit': \n",
    "        active = False\n",
    "    else: \n",
    "        print(message)"
   ]
  },
  {
   "cell_type": "code",
   "execution_count": 16,
   "id": "f65c99e4",
   "metadata": {},
   "outputs": [
    {
     "name": "stdout",
     "output_type": "stream",
     "text": [
      "Tell me something and I will repeat it until you type \"quit\"Hello\n",
      "Hello\n",
      "Tell me something and I will repeat it until you type \"quit\"What's your name?\n",
      "What's your name?\n",
      "Tell me something and I will repeat it until you type \"quit\"quit\n"
     ]
    }
   ],
   "source": [
    "# Alternatively, we could use a 'break' statement to exit the loop immediately\n",
    "while True: \n",
    "    message = input('Tell me something and I will repeat it until you type \"quit\"')\n",
    "    if message == 'quit': \n",
    "        break\n",
    "    else: \n",
    "        print(message)\n",
    "    "
   ]
  },
  {
   "cell_type": "code",
   "execution_count": 2,
   "id": "5083a36b",
   "metadata": {},
   "outputs": [
    {
     "name": "stdout",
     "output_type": "stream",
     "text": [
      "2\n",
      "4\n",
      "6\n",
      "8\n",
      "10\n"
     ]
    }
   ],
   "source": [
    "# Use \"continue\" to move to the next iteration of the loop\n",
    "current_num = 0\n",
    "while current_num <= 10:\n",
    "    current_num += 1\n",
    "    if current_num % 2 == 0:\n",
    "        print(current_num)\n",
    "    else: \n",
    "        continue"
   ]
  },
  {
   "cell_type": "code",
   "execution_count": 3,
   "id": "289997a0",
   "metadata": {},
   "outputs": [
    {
     "name": "stdout",
     "output_type": "stream",
     "text": [
      "Which pizza toppings would you like?  When you are finished ordering, type \"quit\" spiach\n",
      "Spiach have been added to your order.\n",
      "\n",
      "Which pizza toppings would you like?  When you are finished ordering, type \"quit\" pepperoni\n",
      "Pepperoni have been added to your order.\n",
      "\n",
      "Which pizza toppings would you like?  When you are finished ordering, type \"quit\" olives\n",
      "Olives have been added to your order.\n",
      "\n",
      "Which pizza toppings would you like?  When you are finished ordering, type \"quit\" quit\n"
     ]
    }
   ],
   "source": [
    "# Exercise 7-4 -- prompt user to enter pizza toppings until they type \"quit\"\n",
    "while True:\n",
    "    topping = input('Which pizza toppings would you like?  When you are finished ordering, type \"quit\" ')\n",
    "    if topping != 'quit':\n",
    "        print(f'{topping.title()} have been added to your order.\\n')\n",
    "    else: \n",
    "        break\n"
   ]
  },
  {
   "cell_type": "markdown",
   "id": "989fed8e",
   "metadata": {},
   "source": [
    "## Using a while loop with lists and dictionaries"
   ]
  },
  {
   "cell_type": "code",
   "execution_count": 6,
   "id": "984579ec",
   "metadata": {},
   "outputs": [
    {
     "name": "stdout",
     "output_type": "stream",
     "text": [
      "Verified Connor.\n",
      "\n",
      "Verified Brian.\n",
      "\n",
      "Verified Lisa.\n",
      "\n"
     ]
    }
   ],
   "source": [
    "# Use a while loop to iterate over a list of unverified users\n",
    "unverified_users = ['lisa', 'brian', 'connor']\n",
    "verified_users = []\n",
    "\n",
    "while unverified_users: # run as long as the list isn't empty\n",
    "    current_user = unverified_users.pop()\n",
    "    verified_users.append(current_user)\n",
    "    print(f'Verified {current_user.title()}.\\n')\n",
    "    "
   ]
  },
  {
   "cell_type": "code",
   "execution_count": 11,
   "id": "7e95e7b3",
   "metadata": {},
   "outputs": [
    {
     "name": "stdout",
     "output_type": "stream",
     "text": [
      "['dogs', 'dogs', 'fish', 'rabbits', 'cat']\n"
     ]
    }
   ],
   "source": [
    "# Use a while loop to remove all instances of a string in a list, assuming there are multiple instances\n",
    "pets = ['dogs', 'cats', 'cats', 'dogs', 'fish', 'rabbits', 'cat']\n",
    "while 'cats' in pets:\n",
    "    pets.remove('cats')\n",
    "\n",
    "print(pets)"
   ]
  },
  {
   "cell_type": "code",
   "execution_count": 1,
   "id": "764fa38c",
   "metadata": {},
   "outputs": [
    {
     "name": "stdout",
     "output_type": "stream",
     "text": [
      "What is your name? stan\n",
      "Where are you from? new jersey\n",
      "Would you like to let another person participate in the survey? (yes/no) \n",
      "yes\n",
      "What is your name? zach\n",
      "Where are you from? new jersey\n",
      "Would you like to let another person participate in the survey? (yes/no) \n",
      "no\n",
      "Stan is from New Jersey-- welcome, Stan!\n",
      "\n",
      "Zach is from New Jersey-- welcome, Zach!\n",
      "\n"
     ]
    }
   ],
   "source": [
    "# Use a while loop to populate a dictionary\n",
    "# Ask people what their names are and where they are from\n",
    "responses = {}\n",
    "\n",
    "# Set flag \n",
    "survey_active = True\n",
    "\n",
    "# Begin loop\n",
    "while survey_active:\n",
    "    \n",
    "    # Gather input and push to dictionary \n",
    "    name = input('What is your name? ')\n",
    "    origin = input('Where are you from? ')\n",
    "    responses[name] = origin\n",
    "    \n",
    "    # If they want to let another person respond, continue, else break\n",
    "    message = input('Would you like to let another person participate in the survey? (yes/no) \\n')\n",
    "    if message == 'no':\n",
    "        survey_active = False # determines whether the loop continues or not\n",
    "    else: \n",
    "        continue\n",
    "        \n",
    "# Print dictionary items\n",
    "for name, origin in responses.items():\n",
    "    print(f'\\n{name.title()} is from {origin.title()}-- welcome, {name.title()}!\\n')\n"
   ]
  },
  {
   "cell_type": "code",
   "execution_count": 4,
   "id": "d72c7758",
   "metadata": {},
   "outputs": [
    {
     "name": "stdout",
     "output_type": "stream",
     "text": [
      "What is your name? brian\n",
      "What is your dream vacation destination? bora bora\n",
      "Do you want to let someone else respond? (yes/no) yes\n",
      "What is your name? bruce\n",
      "What is your dream vacation destination? mexico\n",
      "Do you want to let someone else respond? (yes/no) yes\n",
      "What is your name? lizzie\n",
      "What is your dream vacation destination? hawaii\n",
      "Do you want to let someone else respond? (yes/no) no\n",
      "\n",
      "Brian wants to visit Bora Bora.\n",
      "\n",
      "Bruce wants to visit Mexico.\n",
      "\n",
      "Lizzie wants to visit Hawaii.\n"
     ]
    }
   ],
   "source": [
    "# Write a similar program to survey where people want to travel on vacation\n",
    "vacations = {}\n",
    "survey_active = True\n",
    "\n",
    "while survey_active:\n",
    "    \n",
    "    name = input('What is your name? ')\n",
    "    destination = input('What is your dream vacation destination? ')\n",
    "    vacations[name] = destination\n",
    "    \n",
    "    message = input('Do you want to let someone else respond? (yes/no) ')\n",
    "    if message == 'no':\n",
    "        survey_active = False\n",
    "    else: \n",
    "        continue\n",
    "        \n",
    "for name, destination in vacations.items():\n",
    "    print(f'\\n{name.title()} wants to visit {destination.title()}.')\n",
    "    "
   ]
  },
  {
   "cell_type": "code",
   "execution_count": null,
   "id": "50d59778",
   "metadata": {},
   "outputs": [],
   "source": [
    "# Overall, the main ways to control while loops are by setting active flags (True or False), using break statements, or using continue statements"
   ]
  }
 ],
 "metadata": {
  "kernelspec": {
   "display_name": "Python 3 (ipykernel)",
   "language": "python",
   "name": "python3"
  },
  "language_info": {
   "codemirror_mode": {
    "name": "ipython",
    "version": 3
   },
   "file_extension": ".py",
   "mimetype": "text/x-python",
   "name": "python",
   "nbconvert_exporter": "python",
   "pygments_lexer": "ipython3",
   "version": "3.10.2"
  }
 },
 "nbformat": 4,
 "nbformat_minor": 5
}
