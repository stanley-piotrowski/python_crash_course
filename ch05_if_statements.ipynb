{
 "cells": [
  {
   "cell_type": "markdown",
   "id": "a9e7f943",
   "metadata": {},
   "source": [
    "# If statements\n",
    "\n",
    "## Simple examples"
   ]
  },
  {
   "cell_type": "code",
   "execution_count": 3,
   "id": "72ff2a91",
   "metadata": {},
   "outputs": [
    {
     "name": "stdout",
     "output_type": "stream",
     "text": [
      "Audi\n",
      "BMW\n",
      "Subaru\n",
      "Toyota\n"
     ]
    }
   ],
   "source": [
    "# Simple example-- re-format list of cars and use special formatting for BMW\n",
    "cars = ['audi', 'bmw', 'subaru', 'toyota']\n",
    "for car in cars:\n",
    "    if car == 'bmw':\n",
    "        print(car.upper())\n",
    "    else:\n",
    "        print(car.title())"
   ]
  },
  {
   "cell_type": "code",
   "execution_count": 9,
   "id": "bb9c2e3d",
   "metadata": {},
   "outputs": [
    {
     "name": "stdout",
     "output_type": "stream",
     "text": [
      "Got it, we'll add mushrooms to your order!\n"
     ]
    }
   ],
   "source": [
    "# Using 'in' to check for values in a list\n",
    "toppings = ['mushrooms', 'pepperoni', 'onions', 'peppers', 'sausage']\n",
    "topping = 'mushrooms'\n",
    "if topping in toppings:\n",
    "    print(f\"Got it, we'll add {topping} to your order!\")\n",
    "else: \n",
    "    print(f'Sorry, we do not have {topping}.  Please choose something else.')"
   ]
  },
  {
   "cell_type": "code",
   "execution_count": 10,
   "id": "63d90856",
   "metadata": {},
   "outputs": [
    {
     "name": "stdout",
     "output_type": "stream",
     "text": [
      "['TTACG'] is not in the known adapter sequence list; please check another database.\n"
     ]
    }
   ],
   "source": [
    "# Use 'not' to check if value is not in a different list\n",
    "adapter_seqs = ['AAAAA', 'AAAAT', 'AAGGA', 'CCAGG']\n",
    "my_read = ['TTACG']\n",
    "if my_read not in adapter_seqs:\n",
    "    print(f'{my_read} is not in the known adapter sequence list; please check another database.')\n",
    "else: \n",
    "    print(f'{my_read} identified in the adapter sequence list; starting read trimming.')"
   ]
  },
  {
   "cell_type": "markdown",
   "id": "91b39235",
   "metadata": {},
   "source": [
    "## If-elif-else statements\n",
    "\n",
    "If there are multiple conditions to test for, we can use a chain of `if`, `elif`, and `else` statements.  However, the release of Python 3.10 also included the match feature, essentially the switch statement found in other languages.  The match feature will be used throughout, in addition to the common if-elif-else chains."
   ]
  },
  {
   "cell_type": "code",
   "execution_count": 8,
   "id": "1e644a95",
   "metadata": {},
   "outputs": [
    {
     "name": "stdout",
     "output_type": "stream",
     "text": [
      "Admission cost is $25.\n"
     ]
    }
   ],
   "source": [
    "# Match statement\n",
    "# Admission under 4 is free, between 4 and 18 is $25, anything else is $40\n",
    "# Indented code blocks with print statements are only executed if the condition evaluates to True\n",
    "age = 12\n",
    "match age:\n",
    "    case age if age < 4:\n",
    "        price = 0\n",
    "    case age if (age > 4) & (age < 18):\n",
    "        price = 25\n",
    "    case age if age >= 18:\n",
    "        price = 40\n",
    "\n",
    "print(f'Admission cost is ${price}.')"
   ]
  },
  {
   "cell_type": "code",
   "execution_count": 10,
   "id": "4d27f3c9",
   "metadata": {},
   "outputs": [
    {
     "name": "stdout",
     "output_type": "stream",
     "text": [
      "Admission cost is $25.\n"
     ]
    }
   ],
   "source": [
    "# Same result using an if-elif-else chain\n",
    "if age < 4:\n",
    "    price = 0\n",
    "elif (age > 4) & (age < 18):\n",
    "    price = 25\n",
    "else: \n",
    "    price = 40\n",
    "    \n",
    "print(f'Admission cost is ${price}.')"
   ]
  },
  {
   "cell_type": "code",
   "execution_count": 16,
   "id": "06b8c987",
   "metadata": {},
   "outputs": [
    {
     "name": "stdout",
     "output_type": "stream",
     "text": [
      "Your green alien just earned 5 points.\n"
     ]
    }
   ],
   "source": [
    "# 5-3 alien colors exercise\n",
    "# Define a variable with the color of an alien and print the appropriate message\n",
    "alien_color = 'green'\n",
    "match alien_color:\n",
    "    case 'green':\n",
    "        points = 5\n",
    "    case _:\n",
    "        points = 10\n",
    "        \n",
    "print(f'Your {alien_color} alien just earned {points} points.')"
   ]
  },
  {
   "cell_type": "code",
   "execution_count": 18,
   "id": "d46e7cd8",
   "metadata": {},
   "outputs": [
    {
     "name": "stdout",
     "output_type": "stream",
     "text": [
      "A person 28 years of age is considered a adult.\n"
     ]
    }
   ],
   "source": [
    "# 5-6 stages of life exercise\n",
    "# Given a series of age ranges, print a person's life stage\n",
    "age = 28\n",
    "match age:\n",
    "    case age if age < 2:\n",
    "        life_stage = 'baby'\n",
    "    case age if (age >= 2) and (age < 4):\n",
    "        life_stage = 'toddler'\n",
    "    case age if (age >= 4) and (age < 13):\n",
    "        life_stage = 'kid'\n",
    "    case age if (age >= 13) and (age < 20):\n",
    "        life_stage = 'teenager'\n",
    "    case age if (age >= 20) and (age < 65):\n",
    "        life_stage = 'adult'\n",
    "    case _:\n",
    "        life_stage = 'elder'\n",
    "        \n",
    "print(f'A person {age} years of age is considered a {life_stage}.')"
   ]
  },
  {
   "cell_type": "markdown",
   "id": "2acea2f4",
   "metadata": {},
   "source": [
    "## Using if statements with lists\n",
    "\n",
    "If statements can be used to handle special conditions in lists, but one of the most important ways they can be used is to check that we're not going to be looping and doing some operations on an empty list.\n"
   ]
  },
  {
   "cell_type": "code",
   "execution_count": 20,
   "id": "f417b10c",
   "metadata": {},
   "outputs": [
    {
     "name": "stdout",
     "output_type": "stream",
     "text": [
      "Hello Stan, thank you for logging in again.\n",
      "Hello Bob, thank you for logging in again.\n",
      "Hello admin, would you like to see a status report?\n",
      "Hello Sandy, thank you for logging in again.\n",
      "Hello Stacy, thank you for logging in again.\n"
     ]
    }
   ],
   "source": [
    "# 5-8 hello admin exercise\n",
    "# Create a list of 5 or more usernames, including admin, and loop through, printing a message each time\n",
    "# If the user is admin, print a special message\n",
    "usernames = ['stan', 'bob', 'admin', 'sandy', 'stacy']\n",
    "for user in usernames:\n",
    "    if user == 'admin': \n",
    "        print(f'Hello {user}, would you like to see a status report?')\n",
    "    else: \n",
    "        print(f'Hello {user.title()}, thank you for logging in again.')\n"
   ]
  },
  {
   "cell_type": "code",
   "execution_count": 22,
   "id": "012cc647",
   "metadata": {},
   "outputs": [
    {
     "name": "stdout",
     "output_type": "stream",
     "text": [
      "stan is already taken, please choose another username.\n",
      "Bob is already taken, please choose another username.\n",
      "Grover is available for a username.\n",
      "Mike is available for a username.\n",
      "Helen is available for a username.\n"
     ]
    }
   ],
   "source": [
    "# 5-10 check usernames exercise\n",
    "# Create two lists-- one with current usernames, the other with new usernames\n",
    "# Check that the new usernames are unique and not already being used\n",
    "current_users = ['Stan', 'Bob', 'Stacy', 'Sandy', 'Grace']\n",
    "new_users = ['stan', 'Bob', 'Grover', 'Mike', 'Helen']\n",
    "\n",
    "# Make a copy of current users with all lowercase with list comprehension\n",
    "current_users_lower = [user.lower() for user in current_users]\n",
    "for user in new_users: \n",
    "    if user.lower() in current_users_lower:\n",
    "        print(f'{user} is already taken, please choose another username.')\n",
    "    else: \n",
    "        print(f'{user} is available for a username.')"
   ]
  },
  {
   "cell_type": "code",
   "execution_count": null,
   "id": "c1c6b7f4",
   "metadata": {},
   "outputs": [],
   "source": []
  }
 ],
 "metadata": {
  "kernelspec": {
   "display_name": "Python 3 (ipykernel)",
   "language": "python",
   "name": "python3"
  },
  "language_info": {
   "codemirror_mode": {
    "name": "ipython",
    "version": 3
   },
   "file_extension": ".py",
   "mimetype": "text/x-python",
   "name": "python",
   "nbconvert_exporter": "python",
   "pygments_lexer": "ipython3",
   "version": "3.10.2"
  }
 },
 "nbformat": 4,
 "nbformat_minor": 5
}
