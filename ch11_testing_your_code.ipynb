{
 "cells": [
  {
   "cell_type": "markdown",
   "id": "648c5b47",
   "metadata": {},
   "source": [
    "# Testing your code\n",
    "\n",
    "## Setup\n"
   ]
  },
  {
   "cell_type": "code",
   "execution_count": 5,
   "id": "4be32220",
   "metadata": {},
   "outputs": [],
   "source": [
    "import json\n",
    "import unittest"
   ]
  },
  {
   "cell_type": "markdown",
   "id": "d41cc457",
   "metadata": {},
   "source": [
    "## Testing a function"
   ]
  },
  {
   "cell_type": "code",
   "execution_count": 6,
   "id": "12cf652c",
   "metadata": {},
   "outputs": [
    {
     "data": {
      "text/plain": [
       "'Stan Piotrowski'"
      ]
     },
     "execution_count": 6,
     "metadata": {},
     "output_type": "execute_result"
    }
   ],
   "source": [
    "# Create a simple function to test\n",
    "def get_formatted_name(first, last):\n",
    "    \"\"\"Print neatly formatted full name.\"\"\"\n",
    "    full_name = f'{first} {last}'\n",
    "    return full_name.title()\n",
    "\n",
    "# Test\n",
    "get_formatted_name('stan', 'piotrowski')"
   ]
  },
  {
   "cell_type": "code",
   "execution_count": 18,
   "id": "53859e87",
   "metadata": {},
   "outputs": [],
   "source": [
    "# Unit tests-- verifies one specific aspect of a function's behavior\n",
    "# Test case-- a collection of unit tests to simulate many possible situations\n",
    "# Create a test case for the get_formatted_name() function\n",
    "# Write a class that inherits from unittest.TestCase\n",
    "# Write methods that serve as the unit tests\n",
    "class NamesTestCase(unittest.TestCase):\n",
    "    \"\"\"Unit tests for get_formatted_name() function.\"\"\"\n",
    "\n",
    "    def test_first_last_name(self):\n",
    "        \"\"\"Do names like 'Frodo Baggins' work?\"\"\"\n",
    "        formatted_name = get_formatted_name('frodo', 'baggins')\n",
    "        self.assertEqual(formatted_name, 'Frodo Baggins')\n"
   ]
  },
  {
   "cell_type": "markdown",
   "id": "a95d1194",
   "metadata": {},
   "source": [
    "Note, to run the test case, we need to configure the Jupyter notebook so the interpreter runs the code differently than if we were just running the program on the command line.  See [this](https://medium.com/@vladbezden/using-python-unittest-in-ipython-or-jupyter-732448724e31) link for details on running these test cases within a Jupyter notebook.  We explicity tell the `unittest.main()` call not to look for any arguments in `sys.argv`.  "
   ]
  },
  {
   "cell_type": "code",
   "execution_count": 19,
   "id": "748eb31b",
   "metadata": {},
   "outputs": [
    {
     "name": "stderr",
     "output_type": "stream",
     "text": [
      "...\n",
      "----------------------------------------------------------------------\n",
      "Ran 3 tests in 0.002s\n",
      "\n",
      "OK\n"
     ]
    },
    {
     "data": {
      "text/plain": [
       "<unittest.main.TestProgram at 0x115132b60>"
      ]
     },
     "execution_count": 19,
     "metadata": {},
     "output_type": "execute_result"
    }
   ],
   "source": [
    "unittest.main(argv = [''], exit = False)"
   ]
  },
  {
   "cell_type": "code",
   "execution_count": 30,
   "id": "951cec75",
   "metadata": {},
   "outputs": [],
   "source": [
    "# Redefine the get_formatted_name() function to take middle names\n",
    "# This will be used to generate a failing test\n",
    "def get_formatted_name(first, middle, last):\n",
    "    \"\"\"Generate a neatly formatted full name.\"\"\"\n",
    "    full_name = f'{first} {middle} {last}'\n",
    "    return full_name.title()\n"
   ]
  },
  {
   "cell_type": "code",
   "execution_count": 31,
   "id": "9b252058",
   "metadata": {},
   "outputs": [],
   "source": [
    "# Re-write test case\n",
    "class NamesTestCase(unittest.TestCase):\n",
    "    \"\"\"Unit tests for get_formatted_name() function.\"\"\"\n",
    "    \n",
    "    def test_first_last_name(self):\n",
    "        \"\"\"Do names like 'Frodo Baggins' work?\"\"\"\n",
    "        formatted_name = get_formatted_name('janis', 'joplin')\n",
    "        self.assertEqual(formatted_name, 'Janis Joplin')"
   ]
  },
  {
   "cell_type": "code",
   "execution_count": 32,
   "id": "c57b96ca",
   "metadata": {},
   "outputs": [
    {
     "name": "stderr",
     "output_type": "stream",
     "text": [
      "EE\n",
      "======================================================================\n",
      "ERROR: test_first_last_name (__main__.NamesTestCase)\n",
      "Do names like 'Frodo Baggins' work?\n",
      "----------------------------------------------------------------------\n",
      "Traceback (most recent call last):\n",
      "  File \"/var/folders/m_/cy6y9qn941dbsp_dn3w8d7yr0000gp/T/ipykernel_49273/2208035356.py\", line 7, in test_first_last_name\n",
      "    formatted_name = get_formatted_name('janis', 'joplin')\n",
      "TypeError: get_formatted_name() missing 1 required positional argument: 'last'\n",
      "\n",
      "======================================================================\n",
      "ERROR: test_first_last (__main__.NamesTestCase)\n",
      "Do names like 'Frodo Baggins' work?\n",
      "----------------------------------------------------------------------\n",
      "Traceback (most recent call last):\n",
      "  File \"/var/folders/m_/cy6y9qn941dbsp_dn3w8d7yr0000gp/T/ipykernel_49273/279044082.py\", line 11, in test_first_last\n",
      "    formatted_name = get_formatted_name('frodo', 'baggins')\n",
      "TypeError: get_formatted_name() missing 1 required positional argument: 'last'\n",
      "\n",
      "----------------------------------------------------------------------\n",
      "Ran 2 tests in 0.001s\n",
      "\n",
      "FAILED (errors=2)\n"
     ]
    },
    {
     "data": {
      "text/plain": [
       "<unittest.main.TestProgram at 0x1153cd3f0>"
      ]
     },
     "execution_count": 32,
     "metadata": {},
     "output_type": "execute_result"
    }
   ],
   "source": [
    "unittest.main(argv = [''], exit = False)"
   ]
  },
  {
   "cell_type": "code",
   "execution_count": 38,
   "id": "8aaa070f",
   "metadata": {},
   "outputs": [],
   "source": [
    "# To get a passing test with the new function, we can use 'middle' as an optional argument\n",
    "# Importantly, 'middle' needs to be last\n",
    "# We can then use a simple conditional statement to print either one of two outputs, depending on whether 'middle' is True (not empty) or not\n",
    "# Re-write the function and then run the test case\n",
    "def get_formatted_name(first, last, middle=''):\n",
    "    \"\"\"Generate formatted full name.\"\"\"\n",
    "\n",
    "    if middle:\n",
    "        full_name = f'{first} {middle} {last}'\n",
    "    else:\n",
    "        full_name = f'{first} {last}'\n",
    "    \n",
    "    return full_name.title()\n",
    "\n",
    "# Re-running the test case-- OK"
   ]
  },
  {
   "cell_type": "code",
   "execution_count": 40,
   "id": "086f69bf",
   "metadata": {},
   "outputs": [
    {
     "name": "stderr",
     "output_type": "stream",
     "text": [
      "...\n",
      "----------------------------------------------------------------------\n",
      "Ran 3 tests in 0.003s\n",
      "\n",
      "OK\n"
     ]
    },
    {
     "data": {
      "text/plain": [
       "<unittest.main.TestProgram at 0x11553f430>"
      ]
     },
     "execution_count": 40,
     "metadata": {},
     "output_type": "execute_result"
    }
   ],
   "source": [
    "# Write additional unit tests\n",
    "# Re-write test case\n",
    "class NamesTestCase(unittest.TestCase):\n",
    "    \"\"\"Unit tests for get_formatted_name() function.\"\"\"\n",
    "    \n",
    "    def test_first_last_name(self):\n",
    "        \"\"\"Do names like 'Frodo Baggins' work?\"\"\"\n",
    "        formatted_name = get_formatted_name('frodo', 'baggins')\n",
    "        self.assertEqual(formatted_name, 'Frodo Baggins')\n",
    "        \n",
    "    def test_first_last_middle_name(self):\n",
    "        \"\"\"Do names like 'Wolfgang Amadeus Mozart' work?\"\"\"\n",
    "        formatted_name = get_formatted_name('wolfgang', 'mozart', 'amadeus')\n",
    "        self.assertEqual(formatted_name, 'Wolfgang Amadeus Mozart')\n",
    "\n",
    "unittest.main(argv = [''], exit = False)"
   ]
  },
  {
   "cell_type": "code",
   "execution_count": 43,
   "id": "bff69613",
   "metadata": {},
   "outputs": [],
   "source": [
    "# Exercise 11-1 city, country\n",
    "# Write a functiont that accepts two parameters-- a city name and a country name\n",
    "# The function should return a single string of the form 'City, Country'\n",
    "# Then write a test case \n",
    "def get_city_country(city, country):\n",
    "    \"\"\"Generate a formatted string with the city and country.\"\"\"\n",
    "    \n",
    "    city_country = f'{city}, {country}'\n",
    "    return city_country.title()\n"
   ]
  },
  {
   "cell_type": "code",
   "execution_count": 44,
   "id": "cebfb262",
   "metadata": {},
   "outputs": [
    {
     "name": "stderr",
     "output_type": "stream",
     "text": [
      "....\n",
      "----------------------------------------------------------------------\n",
      "Ran 4 tests in 0.002s\n",
      "\n",
      "OK\n"
     ]
    },
    {
     "data": {
      "text/plain": [
       "<unittest.main.TestProgram at 0x115559c00>"
      ]
     },
     "execution_count": 44,
     "metadata": {},
     "output_type": "execute_result"
    }
   ],
   "source": [
    "# Write test case\n",
    "class CityCountryTestCase(unittest.TestCase):\n",
    "    \"\"\"Unit tests for get_city_country() function.\"\"\"\n",
    "    \n",
    "    def test_city_country(self):\n",
    "        \"\"\"Do cities and countries like Santiago, Chile work?\"\"\"\n",
    "        city_country = get_city_country('santiago', 'chile')\n",
    "        self.assertEqual(city_country, 'Santiago, Chile')\n",
    "\n",
    "unittest.main(argv = [''], exit = False)"
   ]
  },
  {
   "cell_type": "code",
   "execution_count": 45,
   "id": "3807777c",
   "metadata": {},
   "outputs": [],
   "source": [
    "# Exercise 11-2 population\n",
    "# Modify the function so it requires a third parameter, population\n",
    "# The output string should be city, country - population \n",
    "# Make sure that the current test case fails\n",
    "def get_city_country(city, country, population):\n",
    "    \"\"\"Generate a formatted string of a city, its country, and its population size.\"\"\"\n",
    "\n",
    "    city_country = f'{city}, {country} - population {population}'\n",
    "    return city_country.title()"
   ]
  },
  {
   "cell_type": "code",
   "execution_count": 46,
   "id": "97c609bb",
   "metadata": {},
   "outputs": [
    {
     "name": "stderr",
     "output_type": "stream",
     "text": [
      "E...\n",
      "======================================================================\n",
      "ERROR: test_city_country (__main__.CityCountryTestCase)\n",
      "Do cities and countries like Santiago, Chile work?\n",
      "----------------------------------------------------------------------\n",
      "Traceback (most recent call last):\n",
      "  File \"/var/folders/m_/cy6y9qn941dbsp_dn3w8d7yr0000gp/T/ipykernel_49273/737872525.py\", line 7, in test_city_country\n",
      "    city_country = get_city_country('santiago', 'chile')\n",
      "TypeError: get_city_country() missing 1 required positional argument: 'population'\n",
      "\n",
      "----------------------------------------------------------------------\n",
      "Ran 4 tests in 0.002s\n",
      "\n",
      "FAILED (errors=1)\n"
     ]
    },
    {
     "data": {
      "text/plain": [
       "<unittest.main.TestProgram at 0x115559ff0>"
      ]
     },
     "execution_count": 46,
     "metadata": {},
     "output_type": "execute_result"
    }
   ],
   "source": [
    "# Same test case\n",
    "# Note, 'exit = False' is for using unittest with an interactive interpreter\n",
    "unittest.main(argv = [''], exit = False)"
   ]
  },
  {
   "cell_type": "code",
   "execution_count": 47,
   "id": "c826b3ed",
   "metadata": {},
   "outputs": [],
   "source": [
    "# Modify the function so that it accepts population as an optional argument\n",
    "def get_city_country(city, country, population=''):\n",
    "    \"\"\"\n",
    "    Generate a formatted string of a city and its country.\n",
    "    The population size can be given as an optional argument.\n",
    "    \"\"\"\n",
    "    \n",
    "    if population:\n",
    "        city_country = f'{city}, {country} - population {population}'\n",
    "    else: \n",
    "        city_country = f'{city}, {country}'\n",
    "    \n",
    "    return city_country.title()\n",
    "    "
   ]
  },
  {
   "cell_type": "code",
   "execution_count": 48,
   "id": "fc0cd931",
   "metadata": {},
   "outputs": [
    {
     "name": "stderr",
     "output_type": "stream",
     "text": [
      "....\n",
      "----------------------------------------------------------------------\n",
      "Ran 4 tests in 0.002s\n",
      "\n",
      "OK\n"
     ]
    },
    {
     "data": {
      "text/plain": [
       "<unittest.main.TestProgram at 0x115b68520>"
      ]
     },
     "execution_count": 48,
     "metadata": {},
     "output_type": "execute_result"
    }
   ],
   "source": [
    "# Run the original test case-- should pass this time\n",
    "unittest.main(argv = [''], exit = False)"
   ]
  },
  {
   "cell_type": "code",
   "execution_count": 53,
   "id": "bfa8b806",
   "metadata": {},
   "outputs": [],
   "source": [
    "# Write a second unit test called test_city_country_population()\n",
    "class CityCountryTestCase(unittest.TestCase):\n",
    "    \"\"\"Unit tests for get_city()_country() function.\"\"\"\n",
    "    \n",
    "    def test_city_country(self):\n",
    "        \"\"\"Do cities and countries like Santiago, Chile work?\"\"\"\n",
    "        city_country = get_city_country('santiago', 'chile')\n",
    "        self.assertEqual(city_country, 'Santiago, Chile')\n",
    "        \n",
    "    def test_city_country_population(self):\n",
    "        \"\"\"Do cities, countries, and populations like Santiago, Chile - population 5000000 work?\"\"\"\n",
    "        city_country = get_city_country('santiago', 'chile', population=5000000)\n",
    "        self.assertEqual(city_country, 'Santiago, Chile - Population 5000000')"
   ]
  },
  {
   "cell_type": "code",
   "execution_count": 54,
   "id": "4bb210d1",
   "metadata": {},
   "outputs": [
    {
     "name": "stderr",
     "output_type": "stream",
     "text": [
      ".....\n",
      "----------------------------------------------------------------------\n",
      "Ran 5 tests in 0.003s\n",
      "\n",
      "OK\n"
     ]
    },
    {
     "data": {
      "text/plain": [
       "<unittest.main.TestProgram at 0x115559750>"
      ]
     },
     "execution_count": 54,
     "metadata": {},
     "output_type": "execute_result"
    }
   ],
   "source": [
    "# Call new test case\n",
    "unittest.main(argv = [''], exit = False)"
   ]
  },
  {
   "cell_type": "markdown",
   "id": "30e8a332",
   "metadata": {},
   "source": [
    "## Testing a class"
   ]
  },
  {
   "cell_type": "code",
   "execution_count": 72,
   "id": "3274447f",
   "metadata": {},
   "outputs": [],
   "source": [
    "# Write a class to help write anonymous surveys\n",
    "class AnonymousSurvey():\n",
    "    \"\"\"Collect anonymous answers to a survey question.\"\"\"\n",
    "    \n",
    "    def __init__(self, question):\n",
    "        \"\"\"Store a question and prepare to store responses.\"\"\"\n",
    "        self.question = question\n",
    "        self.responses = []\n",
    "        \n",
    "    def show_question(self):\n",
    "        \"\"\"Show the survey question.\"\"\"\n",
    "        print(question)\n",
    "    \n",
    "    def store_response(self, new_response):\n",
    "        \"\"\"Store a single resonse to the survey.\"\"\"\n",
    "        self.responses.append(new_response)\n",
    "        \n",
    "    def show_results(self):\n",
    "        \"\"\"Show the results that have been given.\"\"\"\n",
    "        print(\"Survey results:\")\n",
    "        for response in responses:\n",
    "            print(f'- {response}')"
   ]
  },
  {
   "cell_type": "code",
   "execution_count": 76,
   "id": "957174bd",
   "metadata": {},
   "outputs": [
    {
     "name": "stdout",
     "output_type": "stream",
     "text": [
      "What programming language did you learn first?\n",
      "Enter \"q\" to exit the survey.\n",
      "Language: R\n",
      "Language: Python\n",
      "Language: C\n",
      "Language: q\n",
      "\n",
      "Thank you for participating in the survey!\n",
      "Survey results:\n"
     ]
    },
    {
     "ename": "NameError",
     "evalue": "name 'responses' is not defined",
     "output_type": "error",
     "traceback": [
      "\u001b[0;31m---------------------------------------------------------------------------\u001b[0m",
      "\u001b[0;31mNameError\u001b[0m                                 Traceback (most recent call last)",
      "Input \u001b[0;32mIn [76]\u001b[0m, in \u001b[0;36m<cell line: 17>\u001b[0;34m()\u001b[0m\n\u001b[1;32m     15\u001b[0m \u001b[38;5;66;03m# Show the results of the survey\u001b[39;00m\n\u001b[1;32m     16\u001b[0m \u001b[38;5;28mprint\u001b[39m(\u001b[38;5;124m'\u001b[39m\u001b[38;5;130;01m\\n\u001b[39;00m\u001b[38;5;124mThank you for participating in the survey!\u001b[39m\u001b[38;5;124m'\u001b[39m)\n\u001b[0;32m---> 17\u001b[0m \u001b[43mmy_survey\u001b[49m\u001b[38;5;241;43m.\u001b[39;49m\u001b[43mshow_results\u001b[49m\u001b[43m(\u001b[49m\u001b[43m)\u001b[49m\n",
      "Input \u001b[0;32mIn [72]\u001b[0m, in \u001b[0;36mAnonymousSurvey.show_results\u001b[0;34m(self)\u001b[0m\n\u001b[1;32m     19\u001b[0m \u001b[38;5;124;03m\"\"\"Show the results that have been given.\"\"\"\u001b[39;00m\n\u001b[1;32m     20\u001b[0m \u001b[38;5;28mprint\u001b[39m(\u001b[38;5;124m\"\u001b[39m\u001b[38;5;124mSurvey results:\u001b[39m\u001b[38;5;124m\"\u001b[39m)\n\u001b[0;32m---> 21\u001b[0m \u001b[38;5;28;01mfor\u001b[39;00m response \u001b[38;5;129;01min\u001b[39;00m \u001b[43mresponses\u001b[49m:\n\u001b[1;32m     22\u001b[0m     \u001b[38;5;28mprint\u001b[39m(\u001b[38;5;124mf\u001b[39m\u001b[38;5;124m'\u001b[39m\u001b[38;5;124m- \u001b[39m\u001b[38;5;132;01m{\u001b[39;00mresponse\u001b[38;5;132;01m}\u001b[39;00m\u001b[38;5;124m'\u001b[39m)\n",
      "\u001b[0;31mNameError\u001b[0m: name 'responses' is not defined"
     ]
    }
   ],
   "source": [
    "# Write a program that uses the AnonymousSurvey class\n",
    "question = 'What programming language did you learn first?'\n",
    "my_survey = AnonymousSurvey(question)\n",
    "\n",
    "# Show the quqestion and store responses\n",
    "my_survey.show_question()\n",
    "print('Enter \"q\" to exit the survey.')\n",
    "\n",
    "while True:\n",
    "    response = input('Language: ')\n",
    "    if response == 'q':\n",
    "        break\n",
    "    my_survey.store_response(response)\n",
    "    \n",
    "# Show the results of the survey\n",
    "print('\\nThank you for participating in the survey!')\n",
    "my_survey.show_results()"
   ]
  },
  {
   "cell_type": "code",
   "execution_count": 79,
   "id": "74dbdd70",
   "metadata": {},
   "outputs": [
    {
     "name": "stderr",
     "output_type": "stream",
     "text": [
      "....F.\n",
      "======================================================================\n",
      "FAIL: test_store_single_response (__main__.TestAnonymousSurvey)\n",
      "Unit test for a single response in the anonymous survey.\n",
      "----------------------------------------------------------------------\n",
      "Traceback (most recent call last):\n",
      "  File \"/var/folders/m_/cy6y9qn941dbsp_dn3w8d7yr0000gp/T/ipykernel_49273/1809735427.py\", line 12, in test_store_single_response\n",
      "    self.assertEqual('Python', my_survey.responses)\n",
      "AssertionError: 'Python' != ['Python']\n",
      "\n",
      "----------------------------------------------------------------------\n",
      "Ran 6 tests in 0.004s\n",
      "\n",
      "FAILED (failures=1)\n"
     ]
    },
    {
     "data": {
      "text/plain": [
       "<unittest.main.TestProgram at 0x115b6b9d0>"
      ]
     },
     "execution_count": 79,
     "metadata": {},
     "output_type": "execute_result"
    }
   ],
   "source": [
    "# Writing a test case for the AnonymousSurvey class \n",
    "# Here, we're testing that a single response to the survey is stored correctly\n",
    "class TestAnonymousSurvey(unittest.TestCase):\n",
    "    \"\"\"Test for the class AnonymousSurvey.\"\"\"\n",
    "    \n",
    "    def test_store_single_response(self):\n",
    "        \"\"\"Unit test for a single response in the anonymous survey.\"\"\"\n",
    "        question = 'What programming language did you learn first?'\n",
    "        my_survey = AnonymousSurvey(question)\n",
    "        my_survey.store_response('Python')\n",
    "        \n",
    "        self.assertEqual('Python', my_survey.responses)\n",
    "\n",
    "unittest.main(argv = [''], exit = False)"
   ]
  },
  {
   "cell_type": "code",
   "execution_count": 80,
   "id": "3c8539ac",
   "metadata": {},
   "outputs": [
    {
     "name": "stderr",
     "output_type": "stream",
     "text": [
      "....F..\n",
      "======================================================================\n",
      "FAIL: test_store_single_response (__main__.TestAnonymousSurvey)\n",
      "Unit test for a single response in the anonymous survey.\n",
      "----------------------------------------------------------------------\n",
      "Traceback (most recent call last):\n",
      "  File \"/var/folders/m_/cy6y9qn941dbsp_dn3w8d7yr0000gp/T/ipykernel_49273/2954039486.py\", line 11, in test_store_single_response\n",
      "    self.assertEqual('Python', my_survey.responses)\n",
      "AssertionError: 'Python' != ['Python']\n",
      "\n",
      "----------------------------------------------------------------------\n",
      "Ran 7 tests in 0.004s\n",
      "\n",
      "FAILED (failures=1)\n"
     ]
    },
    {
     "data": {
      "text/plain": [
       "<unittest.main.TestProgram at 0x11567e3b0>"
      ]
     },
     "execution_count": 80,
     "metadata": {},
     "output_type": "execute_result"
    }
   ],
   "source": [
    "# Add another unit test \n",
    "class TestAnonymousSurvey(unittest.TestCase):\n",
    "    \"\"\"Test for the class AnonymousSurvey.\"\"\"\n",
    "    \n",
    "    def test_store_single_response(self):\n",
    "        \"\"\"Unit test for a single response in the anonymous survey.\"\"\"\n",
    "        question = 'What programming language did you learn first?'\n",
    "        my_survey = AnonymousSurvey(question)\n",
    "        my_survey.store_response('Python')\n",
    "        \n",
    "        self.assertEqual('Python', my_survey.responses)\n",
    "    \n",
    "    def test_store_three_responses(self):\n",
    "        \"\"\"Unit test for three responses in the anonymous survey.\"\"\"\n",
    "        question = 'What programming language did you learn first?'\n",
    "        my_survey = AnonymousSurvey(question)\n",
    "        responses = ['Python', 'R', 'C']\n",
    "        for response in responses:\n",
    "            my_survey.store_response(response)\n",
    "            \n",
    "        for response in responses:\n",
    "            self.assertIn(response, my_survey.responses)\n",
    "\n",
    "unittest.main(argv = [''], exit = False)"
   ]
  },
  {
   "cell_type": "code",
   "execution_count": 82,
   "id": "0dd09879",
   "metadata": {},
   "outputs": [
    {
     "name": "stderr",
     "output_type": "stream",
     "text": [
      ".......\n",
      "----------------------------------------------------------------------\n",
      "Ran 7 tests in 0.005s\n",
      "\n",
      "OK\n"
     ]
    },
    {
     "data": {
      "text/plain": [
       "<unittest.main.TestProgram at 0x116396680>"
      ]
     },
     "execution_count": 82,
     "metadata": {},
     "output_type": "execute_result"
    }
   ],
   "source": [
    "# Use the setUp() method to create a survey and set of responses for all unit tests\n",
    "class TestAnonymousSurvey(unittest.TestCase):\n",
    "    \"\"\"Test case for the AnonymousSurvey class.\"\"\"\n",
    "    \n",
    "    def setUp(self):\n",
    "        \"\"\"Create a survey and a set of responses for all unit tests.\"\"\"\n",
    "        question = 'What programming language did you learn first?'\n",
    "        self.my_survey = AnonymousSurvey(question)\n",
    "        self.responses = ['Python', 'R', 'C++']\n",
    "        \n",
    "    def test_store_single_resonse(self):\n",
    "        \"\"\"Test that a single response is stored properly.\"\"\"\n",
    "        self.my_survey.store_response(self.responses[0])\n",
    "        self.assertIn(self.responses[0], self.my_survey.responses)\n",
    "        \n",
    "    def test_store_three_responses(self):\n",
    "        \"\"\"Test that three responses are stored properly.\"\"\"\n",
    "        for response in self.responses:\n",
    "            self.my_survey.store_response(response)\n",
    "        for response in self.responses:\n",
    "            self.assertIn(response, self.my_survey.responses)\n",
    "            \n",
    "unittest.main(argv=[''], exit=False)"
   ]
  },
  {
   "cell_type": "code",
   "execution_count": 83,
   "id": "7e5c16d8",
   "metadata": {},
   "outputs": [],
   "source": [
    "# Exercise 11-3 employee\n",
    "# Write a class called Employee\n",
    "# The __init__() method should take a first name, last name, and an annual salary, storing each as attributes\n",
    "# Write a method called give_raise() that adds 5000 to the annual salary by default, but also accepts a different amout\n",
    "class Employee():\n",
    "    \"\"\"Model an employee database.\"\"\"\n",
    "    \n",
    "    def __init__(self, first_name, last_name, annual_salary):\n",
    "        \"\"\"Initialize attributes for employee.\"\"\"\n",
    "        self.first_name = first_name\n",
    "        self.last_name = last_name\n",
    "        self.annual_salary = annual_salary\n",
    "        \n",
    "    def give_raise(self, employee_raise=5000):\n",
    "        \"\"\"Give raise to employee.\"\"\"\n",
    "        self.annual_salary += employee_raise\n"
   ]
  },
  {
   "cell_type": "code",
   "execution_count": 89,
   "id": "13469971",
   "metadata": {},
   "outputs": [
    {
     "name": "stderr",
     "output_type": "stream",
     "text": [
      ".........\n",
      "----------------------------------------------------------------------\n",
      "Ran 9 tests in 0.005s\n",
      "\n",
      "OK\n"
     ]
    },
    {
     "data": {
      "text/plain": [
       "<unittest.main.TestProgram at 0x116502710>"
      ]
     },
     "execution_count": 89,
     "metadata": {},
     "output_type": "execute_result"
    }
   ],
   "source": [
    "# Write test case\n",
    "# Write one unit test that uses the default raise and another that uses a custom raise\n",
    "# Use setUp() method to create a single employee instance for both tests\n",
    "class TestEmployee(unittest.TestCase):\n",
    "    \"\"\"Test case for Employee class.\"\"\"\n",
    "    \n",
    "    def setUp(self):\n",
    "        \"\"\"Create an Employee instance for all tests.\"\"\"\n",
    "        self.my_employee = Employee('frodo', 'baggins', 10000)\n",
    "    \n",
    "    def test_default_raise(self):\n",
    "        \"\"\"Test that the default raise of $5000 is given properly.\"\"\"\n",
    "        original_salary = self.my_employee.annual_salary\n",
    "        self.my_employee.give_raise()\n",
    "        self.assertEqual(self.my_employee.annual_salary - original_salary, 5000)\n",
    "    \n",
    "    def test_custom_raise(self):\n",
    "        \"\"\"Test that a custom raise of $15500 is given properly.\"\"\"\n",
    "        original_salary = self.my_employee.annual_salary\n",
    "        self.my_employee.give_raise(employee_raise=15500)\n",
    "        self.assertEqual(self.my_employee.annual_salary - original_salary, 15500)\n",
    "\n",
    "unittest.main(argv=[''], exit=False)"
   ]
  }
 ],
 "metadata": {
  "kernelspec": {
   "display_name": "Python 3 (ipykernel)",
   "language": "python",
   "name": "python3"
  },
  "language_info": {
   "codemirror_mode": {
    "name": "ipython",
    "version": 3
   },
   "file_extension": ".py",
   "mimetype": "text/x-python",
   "name": "python",
   "nbconvert_exporter": "python",
   "pygments_lexer": "ipython3",
   "version": "3.10.2"
  }
 },
 "nbformat": 4,
 "nbformat_minor": 5
}
