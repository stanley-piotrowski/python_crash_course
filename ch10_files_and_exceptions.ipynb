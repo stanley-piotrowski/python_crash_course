{
 "cells": [
  {
   "cell_type": "markdown",
   "id": "ea4d4aa6",
   "metadata": {},
   "source": [
    "# Files and exceptions\n",
    "\n",
    "## Reading from a file"
   ]
  },
  {
   "cell_type": "code",
   "execution_count": 5,
   "id": "b6f9b1ee",
   "metadata": {},
   "outputs": [
    {
     "name": "stdout",
     "output_type": "stream",
     "text": [
      "3.1415926535\n",
      "  8979323846\n",
      "  2643383279\n"
     ]
    }
   ],
   "source": [
    "# Read entire contents of the file \n",
    "# First, create the file object-- data structure for accessing and manipulating files\n",
    "# Using the with keyword-- Python handles closing the file for you\n",
    "with open('pi_30_digits.txt') as file_object:\n",
    "    contents = file_object.read()\n",
    "    print(contents.rstrip()) # rstrip() method removes empty string at the end of the file"
   ]
  },
  {
   "cell_type": "code",
   "execution_count": 1,
   "id": "dfecd60a",
   "metadata": {},
   "outputs": [
    {
     "name": "stdout",
     "output_type": "stream",
     "text": [
      "3.1415926535\n",
      "  8979323846\n",
      "  2643383279\n"
     ]
    }
   ],
   "source": [
    "# Read contents of the file line by line instead of all at once in a single dump\n",
    "file_name = 'pi_30_digits.txt'\n",
    "with open (file_name) as file_object:\n",
    "    for line in file_object:\n",
    "        print(line.rstrip())\n",
    "        \n",
    "# Ultimately, we get the same results-- except this is easier to work with if we need to process each line in some way"
   ]
  },
  {
   "cell_type": "code",
   "execution_count": 2,
   "id": "da752954",
   "metadata": {},
   "outputs": [
    {
     "name": "stdout",
     "output_type": "stream",
     "text": [
      "Lines list:\n",
      "['3.1415926535', '  8979323846', '  2643383279']\n"
     ]
    }
   ],
   "source": [
    "# Print contents line by line and append to a list\n",
    "# Store the contents in a variable with readlines() so it's accessible after with with block\n",
    "with open(file_name) as file_object:\n",
    "    lines = file_object.readlines()\n",
    "    \n",
    "lines_list = []\n",
    "for line in lines:\n",
    "    lines_list.append(line.rstrip())\n",
    "    \n",
    "print(f'Lines list:\\n{lines_list}')"
   ]
  },
  {
   "cell_type": "code",
   "execution_count": 3,
   "id": "1929831e",
   "metadata": {},
   "outputs": [
    {
     "name": "stdout",
     "output_type": "stream",
     "text": [
      "3.141592653589793238462643383279\n"
     ]
    }
   ],
   "source": [
    "# Take this one step further and put all contents onto a single line\n",
    "pi_string = \"\" # define empty string to hold results\n",
    "for line in lines_list:\n",
    "    pi_string += line.strip() # strips all white space\n",
    "\n",
    "print(pi_string)"
   ]
  },
  {
   "cell_type": "code",
   "execution_count": 7,
   "id": "064caf69",
   "metadata": {},
   "outputs": [
    {
     "name": "stdout",
     "output_type": "stream",
     "text": [
      "What is your birthday in mmddyy format? 062893\n",
      "Your birthday 062893 appears in the first 1 million digits of pi!\n"
     ]
    }
   ],
   "source": [
    "# Write a short program that takes your birthday in string format as input and checks to see if it occurs in the first million digits of p\n",
    "filename = 'pi_million_digits.txt'\n",
    "with open(filename) as file_object:\n",
    "    lines = file_object.readlines()\n",
    "    \n",
    "# Push to a string\n",
    "pi_string = \"\"\n",
    "for line in lines:\n",
    "    pi_string += line\n",
    "    \n",
    "birthday = input('What is your birthday in mmddyy format? ')\n",
    "if birthday in pi_string:\n",
    "    print(f'Your birthday {birthday} appears in the first 1 million digits of pi!')\n",
    "else: \n",
    "    print(f'Your birthday {birthday} does not appear in the first 1 million digits of pi.')"
   ]
  },
  {
   "cell_type": "code",
   "execution_count": 6,
   "id": "5e08cc23",
   "metadata": {},
   "outputs": [
    {
     "name": "stdout",
     "output_type": "stream",
     "text": [
      "Please type the name of the file: learning_python.txt\n",
      "Processing learning_python.txt...\n",
      "\n",
      "\n",
      "I love learning Python!\n",
      "I love learning Python!\n",
      "I love learning Python!\n",
      "\n",
      "Having a lot of experience using R certainly helps.\n",
      "Having a lot of experience using R certainly helps.\n",
      "Having a lot of experience using R certainly helps.\n",
      "\n",
      "I've really enjoyed learned about classes and inheritance in Python.\n",
      "I've really enjoyed learned about classes and inheritance in Python.\n",
      "I've really enjoyed learned about classes and inheritance in Python.\n",
      "\n",
      "I am looking forward to learning about different Python modules.\n",
      "I am looking forward to learning about different Python modules.\n",
      "I am looking forward to learning about different Python modules.\n",
      "\n",
      "\n",
      "Finished processing learning_python.txt\n"
     ]
    }
   ],
   "source": [
    "# Exercise 10-1 learning python\n",
    "# Open a file in a text editor and type a few lines on what I've learned about Python so far\n",
    "# I'll call this file learning_python.txt\n",
    "# Read the file, and print what I wrote three times\n",
    "filename = input('Please type the name of the file: ')\n",
    "print(f'Processing {filename}...\\n\\n')\n",
    "\n",
    "with open(filename) as file_object:\n",
    "    for line in file_object:\n",
    "        print(line * 3)\n",
    "        \n",
    "print(f'\\nFinished processing {filename}')"
   ]
  },
  {
   "cell_type": "code",
   "execution_count": 7,
   "id": "41442edf",
   "metadata": {},
   "outputs": [
    {
     "name": "stdout",
     "output_type": "stream",
     "text": [
      "Please type the name of the file: learning_python.txt\n",
      "I love learning C!\n",
      "I love learning C!\n",
      "I love learning C!\n",
      "\n",
      "Having a lot of experience using R certainly helps.\n",
      "Having a lot of experience using R certainly helps.\n",
      "Having a lot of experience using R certainly helps.\n",
      "\n",
      "I've really enjoyed learned about classes and inheritance in C.\n",
      "I've really enjoyed learned about classes and inheritance in C.\n",
      "I've really enjoyed learned about classes and inheritance in C.\n",
      "\n",
      "I am looking forward to learning about different C modules.\n",
      "I am looking forward to learning about different C modules.\n",
      "I am looking forward to learning about different C modules.\n",
      "\n"
     ]
    }
   ],
   "source": [
    "# Exercise 10-2 learning C\n",
    "# Use the replace() method to replace all instances of 'Python' in the file above with another language, like 'C'\n",
    "filename = input('Please type the name of the file: ')\n",
    "with open(filename) as file_object:\n",
    "    for line in file_object:\n",
    "        print(line.replace('Python', 'C') * 3)"
   ]
  },
  {
   "cell_type": "markdown",
   "id": "f609dda8",
   "metadata": {},
   "source": [
    "## Writing to a file\n"
   ]
  },
  {
   "cell_type": "code",
   "execution_count": 15,
   "id": "ec9146c6",
   "metadata": {},
   "outputs": [],
   "source": [
    "# Write to a simple file-- use the 'w' argument in the open() function \n",
    "# 'w' == 'write mode' \n",
    "filename = 'programming.txt'\n",
    "with open(filename, 'w') as file_object:\n",
    "    file_object.write('I love programming!')"
   ]
  },
  {
   "cell_type": "code",
   "execution_count": 16,
   "id": "b788c593",
   "metadata": {},
   "outputs": [
    {
     "name": "stdout",
     "output_type": "stream",
     "text": [
      "Contents of the file:\n",
      "['I love programming!']\n"
     ]
    }
   ],
   "source": [
    "# Now let's check to see what we have in in the file\n",
    "filename = 'programming.txt'\n",
    "with open(filename) as file_object:\n",
    "    lines = file_object.readlines()\n",
    "    \n",
    "print(f'Contents of the file:\\n{lines}')"
   ]
  },
  {
   "cell_type": "code",
   "execution_count": 17,
   "id": "19d294fc",
   "metadata": {},
   "outputs": [
    {
     "name": "stdout",
     "output_type": "stream",
     "text": [
      "Contents of updated file:\n",
      "I love programming!I also love finding meaning in large data sets.\n",
      "I also love learning new programming languages.\n"
     ]
    }
   ],
   "source": [
    "# Append additional strings to the programming.txt file\n",
    "filename = 'programming.txt'\n",
    "with open(filename, 'a') as file_object:\n",
    "    file_object.write('I also love finding meaning in large data sets.\\n')\n",
    "    file_object.write('I also love learning new programming languages.\\n')\n",
    "    \n",
    "# Check file contents-- if no argument given, open() creates a file object in read mode by default\n",
    "with open(filename) as file_object:\n",
    "    lines = file_object.readlines()\n",
    "\n",
    "print('Contents of updated file:')\n",
    "for line in lines:\n",
    "    print(line.strip())\n",
    "\n",
    "# Note-- if you run this code cell on its own several times, the strings are appended each time"
   ]
  },
  {
   "cell_type": "code",
   "execution_count": 20,
   "id": "16522da1",
   "metadata": {},
   "outputs": [
    {
     "name": "stdout",
     "output_type": "stream",
     "text": [
      "What is your first name? Stan\n",
      "What is your last name? Piotrowski\n",
      "Creating the guest list...\n",
      "\n",
      "Guest list:\n",
      "Stan Piotrowski\n"
     ]
    }
   ],
   "source": [
    "# Exercise 10-3 guest\n",
    "# Write a program that prompts the guest for their name and then writes the name to a file called guest.txt\n",
    "# Note-- you can run this as many times as you want\n",
    "# Since the filename doesn't change, Python will overwrite the contents of a file with the same name\n",
    "first_name = input('What is your first name? ')\n",
    "last_name = input('What is your last name? ')\n",
    "full_name = f'{first_name.title()} {last_name.title()} '\n",
    "\n",
    "filename = 'guest.txt'\n",
    "print('Creating the guest list...')\n",
    "with open(filename, 'w') as file_object:\n",
    "    file_object.write(f'{full_name}\\n')\n",
    "\n",
    "# Check \n",
    "with open(filename, 'r') as file_object:\n",
    "    lines = file_object.readlines()\n",
    "\n",
    "print('\\nGuest list:')\n",
    "for line in lines:\n",
    "    print(line.strip())"
   ]
  },
  {
   "cell_type": "code",
   "execution_count": 21,
   "id": "c89342a1",
   "metadata": {},
   "outputs": [
    {
     "name": "stdout",
     "output_type": "stream",
     "text": [
      "Please type your full name below.  To exit, type \"q\" or \"quit\".\n",
      "Please type your first and last name, separated by a space: stan piotrowski\n",
      "Thanks Stan Piotrowski!  You've been added to the guest book!\n",
      "Please type your full name below.  To exit, type \"q\" or \"quit\".\n",
      "Please type your first and last name, separated by a space: frodo baggins\n",
      "Thanks Frodo Baggins!  You've been added to the guest book!\n",
      "Please type your full name below.  To exit, type \"q\" or \"quit\".\n",
      "Please type your first and last name, separated by a space: luke skywalker\n",
      "Thanks Luke Skywalker!  You've been added to the guest book!\n",
      "Please type your full name below.  To exit, type \"q\" or \"quit\".\n",
      "Please type your first and last name, separated by a space: q\n"
     ]
    }
   ],
   "source": [
    "# Exercise 10-4 guest book\n",
    "# Write a while loop that prompts the user for their name\n",
    "# When they enter their name, print a greeting to the screen and add a line recording their name to guest_book.txt\n",
    "\n",
    "# Initialize output file\n",
    "filename = 'guest_book.txt'\n",
    "\n",
    "# Get information from user and append to guest book\n",
    "active_flag = True\n",
    "while active_flag:\n",
    "    \n",
    "    # Parse input from user\n",
    "    print('Please type your full name below.  To exit, type \"q\" or \"quit\".')\n",
    "    full_name = input('Please type your first and last name, separated by a space: ')\n",
    "    \n",
    "    # active flag check\n",
    "    if full_name in ('q', 'quit'):\n",
    "        break\n",
    "    else:\n",
    "        # Append to guest book\n",
    "        with open(filename, 'a') as file_object:\n",
    "            file_object.write(f'{full_name.title()}\\n')\n",
    "        print(f'Thanks {full_name.title()}!  You\\'ve been added to the guest book!') \n"
   ]
  },
  {
   "cell_type": "code",
   "execution_count": 22,
   "id": "464d8573",
   "metadata": {},
   "outputs": [
    {
     "name": "stdout",
     "output_type": "stream",
     "text": [
      "Guest book contents:\n",
      "\n",
      "Stan Piotrowski\n",
      "Frodo Baggins\n",
      "Luke Skywalker\n"
     ]
    }
   ],
   "source": [
    "# Check contents of the file\n",
    "filename = 'guest_book.txt'\n",
    "with open(filename, 'r') as file_object:\n",
    "    lines = file_object.readlines()\n",
    "    \n",
    "print('Guest book contents:\\n')\n",
    "for line in lines:\n",
    "    print(line.strip())"
   ]
  },
  {
   "cell_type": "code",
   "execution_count": 2,
   "id": "e3d1c251",
   "metadata": {},
   "outputs": [
    {
     "name": "stdout",
     "output_type": "stream",
     "text": [
      "Why do you love programming? (type \"q\" or \"quit\" to exit) I love learning!\n",
      "Thanks for your response!\n",
      "Why do you love programming? (type \"q\" or \"quit\" to exit) I like solving problems.\n",
      "Thanks for your response!\n",
      "Why do you love programming? (type \"q\" or \"quit\" to exit) q\n"
     ]
    }
   ],
   "source": [
    "# Exercise 10-5 programming poll\n",
    "# Write a while loop that asks people why they like programming\n",
    "# Each time someone enters a room, add their reason to a file that stores the information\n",
    "filename = 'programming_poll.txt'\n",
    "active_flag = True\n",
    "\n",
    "while active_flag:\n",
    "    response = input('Why do you love programming? (type \"q\" or \"quit\" to exit) ')\n",
    "    if response in ('q', 'quit'):\n",
    "        break\n",
    "    else:\n",
    "        print('Thanks for your response!')\n",
    "        with open(filename, 'a') as file_object:\n",
    "            file_object.write(f'{response}\\n')\n"
   ]
  },
  {
   "cell_type": "code",
   "execution_count": 3,
   "id": "73fa4543",
   "metadata": {},
   "outputs": [
    {
     "name": "stdout",
     "output_type": "stream",
     "text": [
      "Printing file contents:\n",
      "\n",
      "I love learning!\n",
      "I like solving problems.\n"
     ]
    }
   ],
   "source": [
    "# Check file outptu\n",
    "with open(filename) as file_object:\n",
    "    lines = file_object.readlines()\n",
    "\n",
    "print('Printing file contents:\\n')\n",
    "for line in lines:\n",
    "    print(line.strip())"
   ]
  },
  {
   "cell_type": "markdown",
   "id": "5e3c6aa5",
   "metadata": {},
   "source": [
    "## Exceptions\n",
    "\n",
    "Essentially, exceptions are objects that the Python interpreter creates when it encounters an error in a program.  If there are no exceptions to handle the errors, the program exits and we see the classic tracebacks.  Writing exceptions can help your program \"right the ship\" should the interpreter encounter an error.  Or, at the very least, your program may still halt before finishing, but you can write more descriptive error messages."
   ]
  },
  {
   "cell_type": "code",
   "execution_count": 4,
   "id": "4ad5dbd0",
   "metadata": {},
   "outputs": [
    {
     "name": "stdout",
     "output_type": "stream",
     "text": [
      "You cannot divide by zero!\n"
     ]
    }
   ],
   "source": [
    "# Write a custom exception for a zero division error\n",
    "try:\n",
    "    print(5/0)\n",
    "except ZeroDivisionError:\n",
    "    print('You cannot divide by zero!')"
   ]
  },
  {
   "cell_type": "code",
   "execution_count": 13,
   "id": "0cebec9a",
   "metadata": {},
   "outputs": [
    {
     "name": "stdout",
     "output_type": "stream",
     "text": [
      "Give me two numbers and I'll divide them.\n",
      "Enter \"q\" to exit.\n",
      "\n",
      "First number: 10\n",
      "Second number: 5\n",
      "2.0\n",
      "\n",
      "First number: 10\n",
      "Second number: 4\n",
      "2.5\n",
      "\n",
      "First number: 10\n",
      "Second number: 0\n",
      "You cannot divide by zero!\n",
      "\n",
      "First number: q\n"
     ]
    }
   ],
   "source": [
    "# Above, we can see that the program doesn't crash due to the way we wrote the exceptions\n",
    "# Write a more complicated chunk of code to ask the user for two numbers to divide\n",
    "# Write an exception that will handle a situation where the user enters a zero for one of the numbers\n",
    "print('Give me two numbers and I\\'ll divide them.')\n",
    "print('Enter \"q\" to exit.')\n",
    "\n",
    "while True:\n",
    "    first_number = input('\\nFirst number: ')\n",
    "    if first_number == 'q':\n",
    "        break\n",
    "        \n",
    "    second_number = input('Second number: ')\n",
    "    \n",
    "    try:\n",
    "        result = int(first_number) / int(second_number)\n",
    "    except ZeroDivisionError:\n",
    "        print('You cannot divide by zero!')\n",
    "    else:\n",
    "        print(result)"
   ]
  },
  {
   "cell_type": "code",
   "execution_count": 16,
   "id": "6f4c1ad2",
   "metadata": {},
   "outputs": [
    {
     "name": "stdout",
     "output_type": "stream",
     "text": [
      "Sorry, the file alice.txt doesn't exist.  Please check the file name.\n"
     ]
    }
   ],
   "source": [
    "# Write an exception that handles missing files\n",
    "filename = 'alice.txt'\n",
    "try: \n",
    "    with open(filename) as file_object:\n",
    "        contents = file_object.readlines()\n",
    "except FileNotFoundError:\n",
    "    print(f'Sorry, the file {filename} doesn\\'t exist.  Please check the file name.')"
   ]
  },
  {
   "cell_type": "code",
   "execution_count": 7,
   "id": "551d417e",
   "metadata": {},
   "outputs": [],
   "source": [
    "# Download alice in wonderland from Project Gutenberg \n",
    "import requests\n",
    "url = 'https://gutenberg.org/files/11/11-0.txt'\n",
    "book = requests.get(url)\n",
    "\n",
    "# Write contents to file\n",
    "with open('alice_in_wonderland.txt', 'wb') as file_object:\n",
    "    file_object.write(book.content)"
   ]
  },
  {
   "cell_type": "code",
   "execution_count": 24,
   "id": "3e3a8eb2",
   "metadata": {},
   "outputs": [
    {
     "name": "stdout",
     "output_type": "stream",
     "text": [
      "﻿The Project Gutenberg eBook of Alice’s Adventures in Wonderland, by Lewis Carroll\n",
      "\n",
      "This eBook is for the use of anyone anywhere in the United States and\n",
      "most other parts of the world at no cost and with almost no restrictions\n",
      "whatsoever. You may copy it, give it away or re-use it under the terms\n",
      "of the Project Gutenberg License included with this eBook or online at\n",
      "www.gutenberg.org. If you are not located in the United States, you\n",
      "will have to check the laws of the country where you are located before\n",
      "using this eBook.\n",
      "\n"
     ]
    }
   ],
   "source": [
    "# Check and read first few lines\n",
    "filename = 'alice_in_wonderland.txt'\n",
    "with open(filename, 'r') as file_object:\n",
    "    lines = file_object.readlines()\n",
    "    \n",
    "for line in lines[:10]:\n",
    "    print(line.strip())"
   ]
  },
  {
   "cell_type": "code",
   "execution_count": 2,
   "id": "970991b5",
   "metadata": {},
   "outputs": [
    {
     "name": "stdout",
     "output_type": "stream",
     "text": [
      "﻿The Project Gutenberg eBook of Alice’s Adventures in Wonderland, by Lewis Carroll\n",
      "\n",
      "This eBook is for the use of anyone anywhere in the United States and\n",
      "most other parts of the world at no cost and with almost no restrictions\n",
      "whatsoever. You may copy it, give it away or re-use it under the terms\n",
      "of the Project Gutenberg License included with this eBook or online at\n",
      "www.gutenberg.org. If you are not located in the United States, you\n",
      "will have to check the laws of the country where you are located before\n",
      "using this eBook.\n",
      "\n"
     ]
    }
   ],
   "source": [
    "# Now write the exceptions to handle any errors\n",
    "filename = 'alice_in_wonderland.txt'\n",
    "try:\n",
    "    with open(filename) as file_object:\n",
    "        lines = file_object.readlines()\n",
    "\n",
    "except FileNotFoundError:\n",
    "    print(f'Sorry, the file {filename} does not exist.')\n",
    "\n",
    "else: \n",
    "    for line in lines[:10]:\n",
    "        print(line.strip())\n"
   ]
  },
  {
   "cell_type": "code",
   "execution_count": 3,
   "id": "2459a1e8",
   "metadata": {},
   "outputs": [],
   "source": [
    "# Rework this code and turn it into a function that counts the number of words per file\n",
    "def count_words(filename):\n",
    "    \"\"\"Count the number of words in a file.\"\"\"\n",
    "    try:\n",
    "        with open(filename) as file_object:\n",
    "            contents = file_object.read() # returns contents, not list of lines\n",
    "            \n",
    "    except FileNotFoundError:\n",
    "        print(f'Sorry, the file {filename} does not exist.')\n",
    "        \n",
    "    else:\n",
    "        words = contents.split()\n",
    "        print(f'There are approximately {len(words)} words in the file {filename}')\n",
    "    "
   ]
  },
  {
   "cell_type": "code",
   "execution_count": 4,
   "id": "60daacc0",
   "metadata": {},
   "outputs": [
    {
     "name": "stdout",
     "output_type": "stream",
     "text": [
      "There are approximately 29594 words in the file alice_in_wonderland.txt\n"
     ]
    }
   ],
   "source": [
    "# Test on another file\n",
    "count_words('alice_in_wonderland.txt')"
   ]
  },
  {
   "cell_type": "code",
   "execution_count": 5,
   "id": "d7dd0f6a",
   "metadata": {},
   "outputs": [
    {
     "name": "stdout",
     "output_type": "stream",
     "text": [
      "Sorry, the file moby_dick.txt does not exist.\n"
     ]
    }
   ],
   "source": [
    "count_words('moby_dick.txt') # should throw an error message"
   ]
  },
  {
   "cell_type": "code",
   "execution_count": 17,
   "id": "4b67ec5c",
   "metadata": {},
   "outputs": [],
   "source": [
    "# Write another function to download a bunch of files\n",
    "def download_books(url, filename):\n",
    "    \"\"\"Download plain-text books and write to a specified file name.\"\"\"\n",
    "    try:\n",
    "        book = requests.get(url)\n",
    "        with open(filename, 'wb') as file_object:\n",
    "            file_object.write(book.content)\n",
    "    except requests.exceptions.ConnectionError:\n",
    "        print(f'Sorry, failed to connect with the file at the specified URL: {url}.')"
   ]
  },
  {
   "cell_type": "code",
   "execution_count": 18,
   "id": "04ffd370",
   "metadata": {},
   "outputs": [
    {
     "name": "stdout",
     "output_type": "stream",
     "text": [
      "Sorry, failed to connect with the file at the specified URL: https://bobs_burgers.com.\n"
     ]
    }
   ],
   "source": [
    "# Test function\n",
    "url = 'https://bobs_burgers.com'\n",
    "filename = 'bobs_burgers.txt'\n",
    "download_books(url, filename)"
   ]
  },
  {
   "cell_type": "code",
   "execution_count": 30,
   "id": "8ba2de40",
   "metadata": {},
   "outputs": [
    {
     "name": "stdout",
     "output_type": "stream",
     "text": [
      "Downloading Frankenstein...\n",
      "Done!\n",
      "\n",
      "Downloading Pride And Prejudice...\n",
      "Done!\n",
      "\n",
      "Downloading He Great Gatsby...\n",
      "Done!\n",
      "\n"
     ]
    }
   ],
   "source": [
    "# Download a few books and test function\n",
    "urls = ['https://gutenberg.org/files/84/84-0.txt', \n",
    "       'https://gutenberg.org/files/1342/1342-0.txt', \n",
    "       'https://gutenberg.org/files/64317/64317-0.txt']\n",
    "\n",
    "filenames = ['frankenstein.txt', \n",
    "            'pride_and_prejudice.txt', \n",
    "            'the_great_gatsby.txt']\n",
    "\n",
    "for url, filename in zip(urls, filenames):\n",
    "    book_name = filename.strip('.txt').replace('_', ' ').title()\n",
    "    print(f'Downloading {book_name}...')\n",
    "    download_books(url, filename)\n",
    "    print('Done!\\n')"
   ]
  },
  {
   "cell_type": "code",
   "execution_count": 34,
   "id": "5e1a4df9",
   "metadata": {},
   "outputs": [
    {
     "name": "stdout",
     "output_type": "stream",
     "text": [
      "There are approximately 78122 words in the file frankenstein.txt\n",
      "Sorry, the file the_hobbit.txtpride_and_prejudice.txt does not exist.\n",
      "There are approximately 51261 words in the file the_great_gatsby.txt\n",
      "Sorry, the file the_lord_of_the_rings.txt does not exist.\n"
     ]
    }
   ],
   "source": [
    "# Count the words in each of these files and add a few ones that don't exist\n",
    "filenames = ['frankenstein.txt',\n",
    "             'the_hobbit.txt'\n",
    "            'pride_and_prejudice.txt', \n",
    "            'the_great_gatsby.txt',\n",
    "            'the_lord_of_the_rings.txt']\n",
    "\n",
    "for filename in filenames:\n",
    "    count_words(filename)"
   ]
  },
  {
   "cell_type": "code",
   "execution_count": 69,
   "id": "3d2d405b",
   "metadata": {},
   "outputs": [],
   "source": [
    "# Exercise 10-6 addition\n",
    "# Write a program that prompts the user for two numbers\n",
    "# Catch any ValueError if either input is not a number (book wants TypeError, but I'll use this instead)\n",
    "# This won't be a very helpful function because it takes no arguments, but will be good for catching errors\n",
    "def addition():\n",
    "    \"\"\"Print sum of two numbers.\"\"\"\n",
    "    try: \n",
    "        x = input('Number 1: ')\n",
    "        y = input('Number 2: ')\n",
    "        result = int(x) + int(y)\n",
    "        \n",
    "    except ValueError:\n",
    "        print('Please enter a valid number.')\n",
    "        \n",
    "    else: \n",
    "        print(f'{result}\\n')\n",
    "\n",
    "    "
   ]
  },
  {
   "cell_type": "code",
   "execution_count": 70,
   "id": "4274367b",
   "metadata": {
    "scrolled": true
   },
   "outputs": [
    {
     "name": "stdout",
     "output_type": "stream",
     "text": [
      "Number 1: 5\n",
      "Number 2: 5\n",
      "10\n",
      "\n"
     ]
    }
   ],
   "source": [
    "# Test the function \n",
    "addition()"
   ]
  },
  {
   "cell_type": "code",
   "execution_count": 71,
   "id": "9b003992",
   "metadata": {},
   "outputs": [
    {
     "name": "stdout",
     "output_type": "stream",
     "text": [
      "Number 1: 10\n",
      "Number 2: hello\n",
      "Please enter a valid number.\n"
     ]
    }
   ],
   "source": [
    "addition()"
   ]
  },
  {
   "cell_type": "code",
   "execution_count": 76,
   "id": "306922aa",
   "metadata": {},
   "outputs": [],
   "source": [
    "# Exercise 10-8 cats and dogs\n",
    "# Make two files, cats.txt and dogs.txt\n",
    "# Store at least three names of each animal in the files\n",
    "# The program should print the names of the contents of the file and catch the FileNotFound exception\n",
    "cats = ['domestic longhair', 'domestic shorthair', 'maine coone']\n",
    "dogs = ['german shepherd', 'rottweiler', 'beagle']\n",
    "\n",
    "# Write files\n",
    "for cat in cats:\n",
    "    with open('cats.txt', 'a') as file_object:\n",
    "        file_object.write(f'{cat}\\n')\n",
    "        \n",
    "for dog in dogs:\n",
    "    with open('dogs.txt', 'a') as file_object:\n",
    "        file_object.write(f'{dog}\\n')\n",
    "        \n",
    "# Function to write file contents\n",
    "def print_file_contents(filename):\n",
    "    \"\"\"Print contents of a given file.\"\"\"\n",
    "    try:\n",
    "        with open(filename) as file_object:\n",
    "            lines = file_object.readlines()\n",
    "    except FileNotFoundError:\n",
    "        print(f'Sorry, {filename} does not exist.')\n",
    "    else:\n",
    "        for line in lines:\n",
    "            print(line.strip())"
   ]
  },
  {
   "cell_type": "code",
   "execution_count": 77,
   "id": "6c1a7660",
   "metadata": {},
   "outputs": [
    {
     "name": "stdout",
     "output_type": "stream",
     "text": [
      "domestic longhair\n",
      "domestic shorthair\n",
      "maine coone\n"
     ]
    }
   ],
   "source": [
    "# Test file\n",
    "print_file_contents('cats.txt')"
   ]
  },
  {
   "cell_type": "code",
   "execution_count": 26,
   "id": "a53c8c41",
   "metadata": {},
   "outputs": [
    {
     "name": "stdout",
     "output_type": "stream",
     "text": [
      "Occurrences of \"the\" in frankenstein.txt: 5870\n",
      "Occurrences of \"the\" in pride_and_prejudice.txt: 8006\n",
      "Occurrences of \"the\" in the_great_gatsby.txt: 3617\n",
      "Occurrences of \"the\" in alice_in_wonderland.txt: 2528\n"
     ]
    }
   ],
   "source": [
    "# Exercise 10-10 common words\n",
    "# Use the count() method to find out how many times a word in a text file appears in a string\n",
    "# First, count how many times the word 'the' appears in each text file\n",
    "# Use the same text files that were downloaded previously \n",
    "filenames = ['frankenstein.txt', \n",
    "            'pride_and_prejudice.txt', \n",
    "            'the_great_gatsby.txt', \n",
    "            'alice_in_wonderland.txt']\n",
    "\n",
    "for file in filenames:\n",
    "    try:\n",
    "        with open(file) as file_object:\n",
    "            contents = file_object.read() # grab the entire file\n",
    "    except FileNotFoundError:\n",
    "        print(f'Sorry, {file} does not exist.')\n",
    "    else:\n",
    "        word_count = contents.lower().count('the')\n",
    "        print(f'Occurrences of \"the\" in {file}: {word_count}')\n"
   ]
  },
  {
   "cell_type": "code",
   "execution_count": 28,
   "id": "025df3d0",
   "metadata": {},
   "outputs": [],
   "source": [
    "# Create a function using the code above\n",
    "# Take a filename and a word and count the number of occurrences of the word in the file\n",
    "def word_count(filename, keyword):\n",
    "    \"\"\"Count the number of occurrences of a word in a file.\"\"\"\n",
    "    try:\n",
    "        with open(filename, encoding = 'utf-8') as file_object:\n",
    "            contents = file_object.read()\n",
    "    except FileNotFoundError:\n",
    "        print(f'Sorry, {filename} does not exist.')\n",
    "    else:\n",
    "        keyword_count = contents.lower().count(keyword)\n",
    "            \n",
    "        print(f'Occurrences of the word {keyword} in {filename}: {keyword_count}')"
   ]
  },
  {
   "cell_type": "code",
   "execution_count": 29,
   "id": "05a24c64",
   "metadata": {},
   "outputs": [
    {
     "name": "stdout",
     "output_type": "stream",
     "text": [
      "Occurrences of the word the in alice_in_wonderland.txt: 2528\n"
     ]
    }
   ],
   "source": [
    "# Test the function \n",
    "filename = 'alice_in_wonderland.txt'\n",
    "word_count(filename, 'the')"
   ]
  },
  {
   "cell_type": "code",
   "execution_count": 37,
   "id": "a90521d0",
   "metadata": {},
   "outputs": [
    {
     "name": "stdout",
     "output_type": "stream",
     "text": [
      "Occurrences of the word the in frankenstein.txt: 5870\n",
      "Occurrences of the word but in frankenstein.txt: 735\n",
      "Occurrences of the word because in frankenstein.txt: 18\n",
      "Occurrences of the word the in pride_and_prejudice.txt: 8006\n",
      "Occurrences of the word but in pride_and_prejudice.txt: 1054\n",
      "Occurrences of the word because in pride_and_prejudice.txt: 63\n",
      "Occurrences of the word the in the_great_gatsby.txt: 3617\n",
      "Occurrences of the word but in the_great_gatsby.txt: 323\n",
      "Occurrences of the word because in the_great_gatsby.txt: 46\n"
     ]
    }
   ],
   "source": [
    "# Test on additional examples\n",
    "filenames = ['frankenstein.txt', \n",
    "             'pride_and_prejudice.txt',\n",
    "            'the_great_gatsby.txt']\n",
    "\n",
    "words = ['the', 'but', 'because']\n",
    "\n",
    "for file in filenames:\n",
    "    for word in words:\n",
    "        word_count(file, word)\n",
    "    "
   ]
  },
  {
   "cell_type": "markdown",
   "id": "80d0dfdf",
   "metadata": {},
   "source": [
    "## Storing data"
   ]
  },
  {
   "cell_type": "code",
   "execution_count": 41,
   "id": "39e129a8",
   "metadata": {},
   "outputs": [],
   "source": [
    "# Storing data in JSON format\n",
    "import json\n",
    "\n",
    "# Store a simple list of numbers for later use\n",
    "numbers = [2, 3, 5, 7, 11, 13]\n",
    "\n",
    "filename = 'numbers.json'\n",
    "with open(filename, 'w') as file_object:\n",
    "    json.dump(numbers, file_object)"
   ]
  },
  {
   "cell_type": "code",
   "execution_count": 43,
   "id": "e0651ff5",
   "metadata": {},
   "outputs": [
    {
     "name": "stdout",
     "output_type": "stream",
     "text": [
      "[2, 3, 5, 7, 11, 13]\n"
     ]
    }
   ],
   "source": [
    "# Load the data\n",
    "filename = 'numbers.json'\n",
    "with open(filename, 'r') as file_object:\n",
    "    numbers = json.load(file_object)\n",
    "    \n",
    "print(numbers)"
   ]
  },
  {
   "cell_type": "code",
   "execution_count": 44,
   "id": "cd01b5e8",
   "metadata": {},
   "outputs": [
    {
     "name": "stdout",
     "output_type": "stream",
     "text": [
      "What is your name? Stan Piotrowski\n",
      "We'll see you next time, Stan Piotrowski!\n",
      "Welcome back, Stan Piotrowski!\n"
     ]
    }
   ],
   "source": [
    "# JSON format is useful for storing input data from a user\n",
    "# Simulate prompting a user for input, storing the data in JSON format, then re-importing the data\n",
    "username = input('What is your name? ')\n",
    "\n",
    "filename = 'username.json'\n",
    "with open(filename, 'w') as file_object:\n",
    "    json.dump(username, file_object)\n",
    "    print(f\"We'll see you next time, {username}!\")\n",
    "    \n",
    "# Re-import the data\n",
    "with open(filename, 'r') as file_object:\n",
    "    username = json.load(file_object)\n",
    "    print(f'Welcome back, {username}!')"
   ]
  },
  {
   "cell_type": "code",
   "execution_count": 45,
   "id": "1e3447ac",
   "metadata": {},
   "outputs": [],
   "source": [
    "# Refactor code into a function that greets the user \n",
    "# Prompt the user for input if this is the first time they're using the program\n",
    "def greet_user():\n",
    "    \"\"\"Greet the user by name.\"\"\"\n",
    "    filename = 'username.json'\n",
    "    try:\n",
    "        with open(filename) as file_object:\n",
    "            username = json.load(file_object)\n",
    "    except FileNotFoundError:\n",
    "        username = input('What is your name? ')\n",
    "        with open(filename, 'w') as file_object:\n",
    "            json.dump(username, file_object)\n",
    "            print(f'We will remember you when you log back in, {username}!')\n",
    "    else:\n",
    "        print(f'Welcome back, {username}!')\n"
   ]
  },
  {
   "cell_type": "code",
   "execution_count": 46,
   "id": "b9d1f029",
   "metadata": {},
   "outputs": [
    {
     "name": "stdout",
     "output_type": "stream",
     "text": [
      "Welcome back, Stan Piotrowski!\n"
     ]
    }
   ],
   "source": [
    "# Test function\n",
    "greet_user()"
   ]
  },
  {
   "cell_type": "code",
   "execution_count": null,
   "id": "9160627b",
   "metadata": {},
   "outputs": [],
   "source": [
    "# Refactor function into three separate functions\n",
    "# One function for grabbing the stored username if one exists\n",
    "# Another for getting a new username if one doesn't exist\n",
    "# And finally one for greeting the user\n",
    "\n",
    "# This is good practice to write functions that return one of two results:\n",
    "# Either the intended output, or None\n",
    "\n",
    "def get_stored_username():\n",
    "    \"\"\"Get stored username if available.\"\"\"\n",
    "    filename = 'username.json'\n",
    "    try: \n",
    "        with open(filename) as file_object:\n",
    "            username = json.load(file_object)\n",
    "    except FileNotFoundError:\n",
    "        return None\n",
    "    else:\n",
    "        return username\n",
    "    \n",
    "def get_new_username():\n",
    "    \"\"\"Generate new username if one doesn't exist.\"\"\"\n",
    "    username = input('What is your name? ')\n",
    "    filename = 'username.json'\n",
    "    with open(filename, 'w') as file_object:\n",
    "        json.dump(username, file_object)\n",
    "    return username\n",
    "\n",
    "def greet_user():\n",
    "    \"\"\"Greet user by name stored in the username.json file.\"\"\"\n",
    "    username = get_stored_username()\n",
    "    if username: # if username exists and is not None\n",
    "        message = f'Welcome back, {username}!'\n",
    "        return message\n",
    "    else:\n",
    "        username = get_new_username()\n",
    "        message = f'We will remember you when you come back, {username}!'\n",
    "        return message\n",
    "    "
   ]
  },
  {
   "cell_type": "code",
   "execution_count": 50,
   "id": "10238921",
   "metadata": {},
   "outputs": [
    {
     "data": {
      "text/plain": [
       "'Stan Piotrowski'"
      ]
     },
     "execution_count": 50,
     "metadata": {},
     "output_type": "execute_result"
    }
   ],
   "source": [
    "get_username()"
   ]
  },
  {
   "cell_type": "code",
   "execution_count": 51,
   "id": "ea66bc50",
   "metadata": {},
   "outputs": [
    {
     "data": {
      "text/plain": [
       "'Welcome back, Stan Piotrowski!'"
      ]
     },
     "execution_count": 51,
     "metadata": {},
     "output_type": "execute_result"
    }
   ],
   "source": [
    "greet_user()"
   ]
  },
  {
   "cell_type": "code",
   "execution_count": 52,
   "id": "f1267d22",
   "metadata": {},
   "outputs": [
    {
     "name": "stdout",
     "output_type": "stream",
     "text": [
      "What is your name? Stan Piotrowski\n"
     ]
    },
    {
     "data": {
      "text/plain": [
       "'We will remember you when you come back, Stan Piotrowski!'"
      ]
     },
     "execution_count": 52,
     "metadata": {},
     "output_type": "execute_result"
    }
   ],
   "source": [
    "# Delete the json file, then try again\n",
    "greet_user()"
   ]
  },
  {
   "cell_type": "code",
   "execution_count": 62,
   "id": "ed3b445f",
   "metadata": {},
   "outputs": [],
   "source": [
    "# Exercise 10-11 favorite number\n",
    "# Write a program that prompts for the user's favorite number\n",
    "# User json.dump to store the number in a file\n",
    "# Write a separate program that reads the value and prints a message\n",
    "def get_favorite_number():\n",
    "    \"\"\"Get a user's favorite number.\"\"\"\n",
    "    favorite_number = input('What is your favorite number? ')\n",
    "    filename = 'favorite_number.txt'\n",
    "    with open(filename, 'w') as file_object:\n",
    "        json.dump(favorite_number, file_object)\n",
    "\n",
    "def print_favorite_number():\n",
    "    \"\"\"Print user's favorite number.\"\"\"\n",
    "    filename = 'favorite_number.txt'\n",
    "    try:\n",
    "        with open(filename, 'r') as file_object:\n",
    "            favorite_number = json.load(file_object)\n",
    "        message = f'I know your favorite number!  It is {favorite_number}.'\n",
    "        return message\n",
    "    except FileNotFoundError:\n",
    "        return None\n",
    "        "
   ]
  },
  {
   "cell_type": "code",
   "execution_count": 63,
   "id": "1aaa7669",
   "metadata": {},
   "outputs": [
    {
     "name": "stdout",
     "output_type": "stream",
     "text": [
      "What is your favorite number? 10\n",
      "\"10\"\n"
     ]
    }
   ],
   "source": [
    "# Test function\n",
    "get_favorite_number()\n",
    "\n",
    "# Check\n",
    "with open('favorite_number.txt', 'r') as file_object:\n",
    "    favorite_number = file_object.read()\n",
    "print(favorite_number)"
   ]
  },
  {
   "cell_type": "code",
   "execution_count": 64,
   "id": "a94aa7a0",
   "metadata": {},
   "outputs": [
    {
     "data": {
      "text/plain": [
       "'I know your favorite number!  It is 10.'"
      ]
     },
     "execution_count": 64,
     "metadata": {},
     "output_type": "execute_result"
    }
   ],
   "source": [
    "# Test the printing function\n",
    "print_favorite_number()"
   ]
  },
  {
   "cell_type": "code",
   "execution_count": 76,
   "id": "a1424a4f",
   "metadata": {},
   "outputs": [],
   "source": [
    "# Exercise 10-13 verify user\n",
    "# Refactor the remember me function\n",
    "# Before printing a welcome message back to the user, ask if the stored username is correct\n",
    "# If it's correct, print the message\n",
    "# If not, call the get_new_username() function to get the correct one\n",
    "def greet_user():\n",
    "    \"\"\"Greet user and verify identity.\"\"\"\n",
    "    \n",
    "    username = get_stored_username()\n",
    "    correct = input(f'Is this the correct username: {username} (y/n) ')\n",
    "    if correct == 'y':\n",
    "        message = f'Welcome back, {username}!'\n",
    "        return message\n",
    "    else: \n",
    "        username = get_new_username()\n",
    "        message = f'We will remember you when you come back, {username}.'\n",
    "        return message"
   ]
  },
  {
   "cell_type": "code",
   "execution_count": 78,
   "id": "0a1c6732",
   "metadata": {},
   "outputs": [
    {
     "name": "stdout",
     "output_type": "stream",
     "text": [
      "Is this the correct username: Frodo Baggins (y/n) n\n",
      "What is your name? Stan Piotrowski\n"
     ]
    },
    {
     "data": {
      "text/plain": [
       "'We will remember you when you come back, Stan Piotrowski.'"
      ]
     },
     "execution_count": 78,
     "metadata": {},
     "output_type": "execute_result"
    }
   ],
   "source": [
    "# Test function\n",
    "greet_user()"
   ]
  },
  {
   "cell_type": "code",
   "execution_count": null,
   "id": "37bac749",
   "metadata": {},
   "outputs": [],
   "source": []
  }
 ],
 "metadata": {
  "kernelspec": {
   "display_name": "Python 3 (ipykernel)",
   "language": "python",
   "name": "python3"
  },
  "language_info": {
   "codemirror_mode": {
    "name": "ipython",
    "version": 3
   },
   "file_extension": ".py",
   "mimetype": "text/x-python",
   "name": "python",
   "nbconvert_exporter": "python",
   "pygments_lexer": "ipython3",
   "version": "3.10.2"
  }
 },
 "nbformat": 4,
 "nbformat_minor": 5
}
