{
 "cells": [
  {
   "cell_type": "markdown",
   "id": "ea4d4aa6",
   "metadata": {},
   "source": [
    "# Files and exceptions\n",
    "\n",
    "## Reading from a file"
   ]
  },
  {
   "cell_type": "code",
   "execution_count": 5,
   "id": "b6f9b1ee",
   "metadata": {},
   "outputs": [
    {
     "name": "stdout",
     "output_type": "stream",
     "text": [
      "3.1415926535\n",
      "  8979323846\n",
      "  2643383279\n"
     ]
    }
   ],
   "source": [
    "# Read entire contents of the file \n",
    "# First, create the file object-- data structure for accessing and manipulating files\n",
    "# Using the with keyword-- Python handles closing the file for you\n",
    "with open('pi_30_digits.txt') as file_object:\n",
    "    contents = file_object.read()\n",
    "    print(contents.rstrip()) # rstrip() method removes empty string at the end of the file"
   ]
  },
  {
   "cell_type": "code",
   "execution_count": 1,
   "id": "dfecd60a",
   "metadata": {},
   "outputs": [
    {
     "name": "stdout",
     "output_type": "stream",
     "text": [
      "3.1415926535\n",
      "  8979323846\n",
      "  2643383279\n"
     ]
    }
   ],
   "source": [
    "# Read contents of the file line by line instead of all at once in a single dump\n",
    "file_name = 'pi_30_digits.txt'\n",
    "with open (file_name) as file_object:\n",
    "    for line in file_object:\n",
    "        print(line.rstrip())\n",
    "        \n",
    "# Ultimately, we get the same results-- except this is easier to work with if we need to process each line in some way"
   ]
  },
  {
   "cell_type": "code",
   "execution_count": 2,
   "id": "da752954",
   "metadata": {},
   "outputs": [
    {
     "name": "stdout",
     "output_type": "stream",
     "text": [
      "Lines list:\n",
      "['3.1415926535', '  8979323846', '  2643383279']\n"
     ]
    }
   ],
   "source": [
    "# Print contents line by line and append to a list\n",
    "# Store the contents in a variable with readlines() so it's accessible after with with block\n",
    "with open(file_name) as file_object:\n",
    "    lines = file_object.readlines()\n",
    "    \n",
    "lines_list = []\n",
    "for line in lines:\n",
    "    lines_list.append(line.rstrip())\n",
    "    \n",
    "print(f'Lines list:\\n{lines_list}')"
   ]
  },
  {
   "cell_type": "code",
   "execution_count": 3,
   "id": "1929831e",
   "metadata": {},
   "outputs": [
    {
     "name": "stdout",
     "output_type": "stream",
     "text": [
      "3.141592653589793238462643383279\n"
     ]
    }
   ],
   "source": [
    "# Take this one step further and put all contents onto a single line\n",
    "pi_string = \"\" # define empty string to hold results\n",
    "for line in lines_list:\n",
    "    pi_string += line.strip() # strips all white space\n",
    "\n",
    "print(pi_string)"
   ]
  },
  {
   "cell_type": "code",
   "execution_count": 7,
   "id": "064caf69",
   "metadata": {},
   "outputs": [
    {
     "name": "stdout",
     "output_type": "stream",
     "text": [
      "What is your birthday in mmddyy format? 062893\n",
      "Your birthday 062893 appears in the first 1 million digits of pi!\n"
     ]
    }
   ],
   "source": [
    "# Write a short program that takes your birthday in string format as input and checks to see if it occurs in the first million digits of p\n",
    "filename = 'pi_million_digits.txt'\n",
    "with open(filename) as file_object:\n",
    "    lines = file_object.readlines()\n",
    "    \n",
    "# Push to a string\n",
    "pi_string = \"\"\n",
    "for line in lines:\n",
    "    pi_string += line\n",
    "    \n",
    "birthday = input('What is your birthday in mmddyy format? ')\n",
    "if birthday in pi_string:\n",
    "    print(f'Your birthday {birthday} appears in the first 1 million digits of pi!')\n",
    "else: \n",
    "    print(f'Your birthday {birthday} does not appear in the first 1 million digits of pi.')"
   ]
  },
  {
   "cell_type": "code",
   "execution_count": 6,
   "id": "5e08cc23",
   "metadata": {},
   "outputs": [
    {
     "name": "stdout",
     "output_type": "stream",
     "text": [
      "Please type the name of the file: learning_python.txt\n",
      "Processing learning_python.txt...\n",
      "\n",
      "\n",
      "I love learning Python!\n",
      "I love learning Python!\n",
      "I love learning Python!\n",
      "\n",
      "Having a lot of experience using R certainly helps.\n",
      "Having a lot of experience using R certainly helps.\n",
      "Having a lot of experience using R certainly helps.\n",
      "\n",
      "I've really enjoyed learned about classes and inheritance in Python.\n",
      "I've really enjoyed learned about classes and inheritance in Python.\n",
      "I've really enjoyed learned about classes and inheritance in Python.\n",
      "\n",
      "I am looking forward to learning about different Python modules.\n",
      "I am looking forward to learning about different Python modules.\n",
      "I am looking forward to learning about different Python modules.\n",
      "\n",
      "\n",
      "Finished processing learning_python.txt\n"
     ]
    }
   ],
   "source": [
    "# Exercise 10-1 learning python\n",
    "# Open a file in a text editor and type a few lines on what I've learned about Python so far\n",
    "# I'll call this file learning_python.txt\n",
    "# Read the file, and print what I wrote three times\n",
    "filename = input('Please type the name of the file: ')\n",
    "print(f'Processing {filename}...\\n\\n')\n",
    "\n",
    "with open(filename) as file_object:\n",
    "    for line in file_object:\n",
    "        print(line * 3)\n",
    "        \n",
    "print(f'\\nFinished processing {filename}')"
   ]
  },
  {
   "cell_type": "code",
   "execution_count": 7,
   "id": "41442edf",
   "metadata": {},
   "outputs": [
    {
     "name": "stdout",
     "output_type": "stream",
     "text": [
      "Please type the name of the file: learning_python.txt\n",
      "I love learning C!\n",
      "I love learning C!\n",
      "I love learning C!\n",
      "\n",
      "Having a lot of experience using R certainly helps.\n",
      "Having a lot of experience using R certainly helps.\n",
      "Having a lot of experience using R certainly helps.\n",
      "\n",
      "I've really enjoyed learned about classes and inheritance in C.\n",
      "I've really enjoyed learned about classes and inheritance in C.\n",
      "I've really enjoyed learned about classes and inheritance in C.\n",
      "\n",
      "I am looking forward to learning about different C modules.\n",
      "I am looking forward to learning about different C modules.\n",
      "I am looking forward to learning about different C modules.\n",
      "\n"
     ]
    }
   ],
   "source": [
    "# Exercise 10-2 learning C\n",
    "# Use the replace() method to replace all instances of 'Python' in the file above with another language, like 'C'\n",
    "filename = input('Please type the name of the file: ')\n",
    "with open(filename) as file_object:\n",
    "    for line in file_object:\n",
    "        print(line.replace('Python', 'C') * 3)"
   ]
  },
  {
   "cell_type": "markdown",
   "id": "f609dda8",
   "metadata": {},
   "source": [
    "## Writing to a file\n"
   ]
  },
  {
   "cell_type": "code",
   "execution_count": 15,
   "id": "ec9146c6",
   "metadata": {},
   "outputs": [],
   "source": [
    "# Write to a simple file-- use the 'w' argument in the open() function \n",
    "# 'w' == 'write mode' \n",
    "filename = 'programming.txt'\n",
    "with open(filename, 'w') as file_object:\n",
    "    file_object.write('I love programming!')"
   ]
  },
  {
   "cell_type": "code",
   "execution_count": 16,
   "id": "b788c593",
   "metadata": {},
   "outputs": [
    {
     "name": "stdout",
     "output_type": "stream",
     "text": [
      "Contents of the file:\n",
      "['I love programming!']\n"
     ]
    }
   ],
   "source": [
    "# Now let's check to see what we have in in the file\n",
    "filename = 'programming.txt'\n",
    "with open(filename) as file_object:\n",
    "    lines = file_object.readlines()\n",
    "    \n",
    "print(f'Contents of the file:\\n{lines}')"
   ]
  },
  {
   "cell_type": "code",
   "execution_count": 17,
   "id": "19d294fc",
   "metadata": {},
   "outputs": [
    {
     "name": "stdout",
     "output_type": "stream",
     "text": [
      "Contents of updated file:\n",
      "I love programming!I also love finding meaning in large data sets.\n",
      "I also love learning new programming languages.\n"
     ]
    }
   ],
   "source": [
    "# Append additional strings to the programming.txt file\n",
    "filename = 'programming.txt'\n",
    "with open(filename, 'a') as file_object:\n",
    "    file_object.write('I also love finding meaning in large data sets.\\n')\n",
    "    file_object.write('I also love learning new programming languages.\\n')\n",
    "    \n",
    "# Check file contents-- if no argument given, open() creates a file object in read mode by default\n",
    "with open(filename) as file_object:\n",
    "    lines = file_object.readlines()\n",
    "\n",
    "print('Contents of updated file:')\n",
    "for line in lines:\n",
    "    print(line.strip())\n",
    "\n",
    "# Note-- if you run this code cell on its own several times, the strings are appended each time"
   ]
  },
  {
   "cell_type": "code",
   "execution_count": 20,
   "id": "16522da1",
   "metadata": {},
   "outputs": [
    {
     "name": "stdout",
     "output_type": "stream",
     "text": [
      "What is your first name? Stan\n",
      "What is your last name? Piotrowski\n",
      "Creating the guest list...\n",
      "\n",
      "Guest list:\n",
      "Stan Piotrowski\n"
     ]
    }
   ],
   "source": [
    "# Exercise 10-3 guest\n",
    "# Write a program that prompts the guest for their name and then writes the name to a file called guest.txt\n",
    "# Note-- you can run this as many times as you want\n",
    "# Since the filename doesn't change, Python will overwrite the contents of a file with the same name\n",
    "first_name = input('What is your first name? ')\n",
    "last_name = input('What is your last name? ')\n",
    "full_name = f'{first_name.title()} {last_name.title()} '\n",
    "\n",
    "filename = 'guest.txt'\n",
    "print('Creating the guest list...')\n",
    "with open(filename, 'w') as file_object:\n",
    "    file_object.write(f'{full_name}\\n')\n",
    "\n",
    "# Check \n",
    "with open(filename, 'r') as file_object:\n",
    "    lines = file_object.readlines()\n",
    "\n",
    "print('\\nGuest list:')\n",
    "for line in lines:\n",
    "    print(line.strip())"
   ]
  },
  {
   "cell_type": "code",
   "execution_count": 21,
   "id": "c89342a1",
   "metadata": {},
   "outputs": [
    {
     "name": "stdout",
     "output_type": "stream",
     "text": [
      "Please type your full name below.  To exit, type \"q\" or \"quit\".\n",
      "Please type your first and last name, separated by a space: stan piotrowski\n",
      "Thanks Stan Piotrowski!  You've been added to the guest book!\n",
      "Please type your full name below.  To exit, type \"q\" or \"quit\".\n",
      "Please type your first and last name, separated by a space: frodo baggins\n",
      "Thanks Frodo Baggins!  You've been added to the guest book!\n",
      "Please type your full name below.  To exit, type \"q\" or \"quit\".\n",
      "Please type your first and last name, separated by a space: luke skywalker\n",
      "Thanks Luke Skywalker!  You've been added to the guest book!\n",
      "Please type your full name below.  To exit, type \"q\" or \"quit\".\n",
      "Please type your first and last name, separated by a space: q\n"
     ]
    }
   ],
   "source": [
    "# Exercise 10-4 guest book\n",
    "# Write a while loop that prompts the user for their name\n",
    "# When they enter their name, print a greeting to the screen and add a line recording their name to guest_book.txt\n",
    "\n",
    "# Initialize output file\n",
    "filename = 'guest_book.txt'\n",
    "\n",
    "# Get information from user and append to guest book\n",
    "active_flag = True\n",
    "while active_flag:\n",
    "    \n",
    "    # Parse input from user\n",
    "    print('Please type your full name below.  To exit, type \"q\" or \"quit\".')\n",
    "    full_name = input('Please type your first and last name, separated by a space: ')\n",
    "    \n",
    "    # active flag check\n",
    "    if full_name in ('q', 'quit'):\n",
    "        break\n",
    "    else:\n",
    "        # Append to guest book\n",
    "        with open(filename, 'a') as file_object:\n",
    "            file_object.write(f'{full_name.title()}\\n')\n",
    "        print(f'Thanks {full_name.title()}!  You\\'ve been added to the guest book!') \n"
   ]
  },
  {
   "cell_type": "code",
   "execution_count": 22,
   "id": "464d8573",
   "metadata": {},
   "outputs": [
    {
     "name": "stdout",
     "output_type": "stream",
     "text": [
      "Guest book contents:\n",
      "\n",
      "Stan Piotrowski\n",
      "Frodo Baggins\n",
      "Luke Skywalker\n"
     ]
    }
   ],
   "source": [
    "# Check contents of the file\n",
    "filename = 'guest_book.txt'\n",
    "with open(filename, 'r') as file_object:\n",
    "    lines = file_object.readlines()\n",
    "    \n",
    "print('Guest book contents:\\n')\n",
    "for line in lines:\n",
    "    print(line.strip())"
   ]
  },
  {
   "cell_type": "code",
   "execution_count": null,
   "id": "e3d1c251",
   "metadata": {},
   "outputs": [],
   "source": []
  }
 ],
 "metadata": {
  "kernelspec": {
   "display_name": "Python 3 (ipykernel)",
   "language": "python",
   "name": "python3"
  },
  "language_info": {
   "codemirror_mode": {
    "name": "ipython",
    "version": 3
   },
   "file_extension": ".py",
   "mimetype": "text/x-python",
   "name": "python",
   "nbconvert_exporter": "python",
   "pygments_lexer": "ipython3",
   "version": "3.10.2"
  }
 },
 "nbformat": 4,
 "nbformat_minor": 5
}
