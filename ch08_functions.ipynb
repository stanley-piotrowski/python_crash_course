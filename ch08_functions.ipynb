{
 "cells": [
  {
   "cell_type": "markdown",
   "id": "680ccfb3",
   "metadata": {},
   "source": [
    "# Functions\n",
    "\n",
    "## Defining a function\n"
   ]
  },
  {
   "cell_type": "code",
   "execution_count": 7,
   "id": "6364b0f9",
   "metadata": {},
   "outputs": [
    {
     "name": "stdout",
     "output_type": "stream",
     "text": [
      "Printing with default argument:\n",
      "Hello!\n",
      "\n",
      "Printing with argument for user:\n",
      "Hello, Stan!\n"
     ]
    }
   ],
   "source": [
    "# Define basic function to greet user\n",
    "# def is the function definition\n",
    "def greet_user(user = None):\n",
    "    \"\"\"\n",
    "    Display sample greeting. # triple -quotes for docstrings are important-- interpreter uses these for printing help\n",
    "    \"\"\"\n",
    "    \n",
    "    if user != None:\n",
    "        print(f'Hello, {user.title()}!')\n",
    "    else: \n",
    "        print('Hello!')\n",
    "    \n",
    "print('Printing with default argument:')\n",
    "greet_user()\n",
    "\n",
    "print('\\nPrinting with argument for user:')\n",
    "greet_user('stan')"
   ]
  },
  {
   "cell_type": "markdown",
   "id": "2bf2ade6",
   "metadata": {},
   "source": [
    "## Passing arguments\n",
    "\n"
   ]
  },
  {
   "cell_type": "code",
   "execution_count": 8,
   "id": "8a925b20",
   "metadata": {},
   "outputs": [
    {
     "name": "stdout",
     "output_type": "stream",
     "text": [
      "\n",
      "I have a pet snake.\n",
      "My snake's name is Nagini.\n"
     ]
    }
   ],
   "source": [
    "# Define function to print your pet type and name\n",
    "def describe_pet(animal_type, pet_name):\n",
    "    \"\"\"\n",
    "    Display information about a pet.\n",
    "    \"\"\"\n",
    "    print(f'\\nI have a pet {animal_type}.')\n",
    "    print(f\"My {animal_type}'s name is {pet_name.title()}.\")\n",
    "\n",
    "# Call function with position arguments-- arguments are passed one after the other to the function\n",
    "describe_pet('snake', 'nagini')\n",
    "    "
   ]
  },
  {
   "cell_type": "code",
   "execution_count": 9,
   "id": "fce14769",
   "metadata": {},
   "outputs": [
    {
     "name": "stdout",
     "output_type": "stream",
     "text": [
      "\n",
      "I have a pet snake.\n",
      "My snake's name is Nagini.\n"
     ]
    }
   ],
   "source": [
    "# Call function with keyword arguments \n",
    "describe_pet(animal_type='snake', pet_name='nagini')"
   ]
  },
  {
   "cell_type": "code",
   "execution_count": 12,
   "id": "c59b34bb",
   "metadata": {},
   "outputs": [
    {
     "name": "stdout",
     "output_type": "stream",
     "text": [
      "Portland is in United States.\n",
      "Reykjavik is in Iceland.\n",
      "Brisbane is in Australia.\n"
     ]
    }
   ],
   "source": [
    "# Importantly-- if default arguments are used, they should be listed last so Python can interpret positional arguments\n",
    "# Exercise 8-5 -- cities\n",
    "def describe_city(city, country='united states'):\n",
    "    \"\"\"\n",
    "    Display information on which country a city is located in (default country is USA).\n",
    "    \"\"\"\n",
    "    print(f'{city.title()} is in {country.title()}.')\n",
    "    \n",
    "# Write three different function calls using positional, keyword, and default arguments\n",
    "describe_city('portland')\n",
    "describe_city('reykjavik', 'iceland')\n",
    "describe_city(city='brisbane', country='australia')\n",
    "    "
   ]
  },
  {
   "cell_type": "markdown",
   "id": "5ba052f4",
   "metadata": {},
   "source": [
    "## Return values\n",
    "\n"
   ]
  },
  {
   "cell_type": "code",
   "execution_count": 16,
   "id": "fc02df6d",
   "metadata": {},
   "outputs": [
    {
     "data": {
      "text/plain": [
       "'Stan Piotrowski'"
      ]
     },
     "execution_count": 16,
     "metadata": {},
     "output_type": "execute_result"
    }
   ],
   "source": [
    "# Write a function that takes a first, middle, and last name and returns the full name\n",
    "# Note, the middle name is optional, so we'll set a default argument of \"\" and list it at the end of the parameters\n",
    "def format_name(first_name, last_name, middle_name=''):\n",
    "    \"\"\"\n",
    "    Return formatted full name.\n",
    "    \"\"\"\n",
    "    if middle_name: # if middle_string isn't empty, return True and proceed...\n",
    "        full_name = f'{first_name} {middle_name} {last_name}'\n",
    "    else: \n",
    "        full_name = f'{first_name} {last_name}'\n",
    "        \n",
    "    return full_name.title()\n",
    "\n",
    "# Call function\n",
    "format_name('stan', 'piotrowski')"
   ]
  },
  {
   "cell_type": "code",
   "execution_count": 4,
   "id": "4725462f",
   "metadata": {},
   "outputs": [
    {
     "name": "stdout",
     "output_type": "stream",
     "text": [
      "{'first': 'Stan', 'last': 'Piotrowski', 'age': 28}\n",
      "{'first': 'Frodo', 'last': 'Baggins'}\n"
     ]
    }
   ],
   "source": [
    "# Building a dictionary and taking in additional information as optional parameters\n",
    "def build_person(first_name, last_name, age = None): \n",
    "    \"\"\"\n",
    "    Build dictionary for a person and print the contents.\n",
    "    \"\"\"\n",
    "    person = {'first': first_name.title(), \n",
    "             'last': last_name.title()}\n",
    "    \n",
    "    # If age is provided as an argument, populate dictionary\n",
    "    if age: # if age is not empty, evaluates to True\n",
    "        person['age'] = age\n",
    "    \n",
    "    return person\n",
    "\n",
    "# Test\n",
    "first_person = build_person(first_name = 'stan', last_name = 'piotrowski', age = 28)\n",
    "print(first_person)\n",
    "\n",
    "second_person = build_person(first_name = 'frodo', last_name= 'baggins')\n",
    "print(second_person)\n"
   ]
  },
  {
   "cell_type": "code",
   "execution_count": 1,
   "id": "70df2c1f",
   "metadata": {},
   "outputs": [],
   "source": [
    "# Exercise 8-6 city names\n",
    "# Build a function that that takes in the name of a city and its country, then return a neatly formatted output string\n",
    "def city_country():\n",
    "        \"\"\"\n",
    "        Take city and its country as input and print formatted string.\n",
    "        Keep taking input until specified by the user.\n",
    "        \"\"\"\n",
    "        \n",
    "        print('Please enter a city and its country.')\n",
    "        print('To quit, type \"q\" or \"quit\"\\n\\n')\n",
    "        \n",
    "        while True:\n",
    "            \n",
    "            city = input('Enter city name: ')\n",
    "            if (city == 'q') or (city == 'quit'):\n",
    "                break\n",
    "            \n",
    "            country = input('Enter country name: ')\n",
    "            if (country == 'q') or (country == 'quit'):\n",
    "                break\n",
    "                \n",
    "            print(f'{city.title()}, {country.title()}!')"
   ]
  },
  {
   "cell_type": "code",
   "execution_count": 2,
   "id": "d5b2a947",
   "metadata": {},
   "outputs": [
    {
     "name": "stdout",
     "output_type": "stream",
     "text": [
      "Please enter a city and its country.\n",
      "To quit, type \"q\" or \"quit\"\n",
      "\n",
      "\n",
      "Enter city name: santiago\n",
      "Enter country name: chile\n",
      "Santiago, Chile!\n",
      "Enter city name: memphis\n",
      "Enter country name: united states\n",
      "Memphis, United States!\n",
      "Enter city name: berlin\n",
      "Enter country name: germany\n",
      "Berlin, Germany!\n",
      "Enter city name: q\n"
     ]
    }
   ],
   "source": [
    "# Test function\n",
    "city_country()"
   ]
  },
  {
   "cell_type": "code",
   "execution_count": 3,
   "id": "83e3fdd8",
   "metadata": {},
   "outputs": [],
   "source": [
    "# Exercise 8-7 album \n",
    "# Create a function tat builds a dictionary describing a music album\n",
    "# It should take an artist name and an album title, then print the results to show the dictionary was built correctly\n",
    "def make_album(artist_name, album_title, release_year = None):\n",
    "    \"\"\"\n",
    "    Builds album dictionary and prints the output.\n",
    "    \"\"\"\n",
    "    album = {'artist': artist_name,\n",
    "            'album': album_title}\n",
    "    \n",
    "    if release_year:\n",
    "        album['release_year'] = release_year\n",
    "        \n",
    "    return album"
   ]
  },
  {
   "cell_type": "code",
   "execution_count": 4,
   "id": "a246fcc1",
   "metadata": {},
   "outputs": [
    {
     "data": {
      "text/plain": [
       "{'artist': 'pink floyd', 'album': 'dark side of the moon'}"
      ]
     },
     "execution_count": 4,
     "metadata": {},
     "output_type": "execute_result"
    }
   ],
   "source": [
    "# Test function with different inputs\n",
    "make_album('pink floyd', 'dark side of the moon')"
   ]
  },
  {
   "cell_type": "code",
   "execution_count": 5,
   "id": "782b7300",
   "metadata": {},
   "outputs": [
    {
     "data": {
      "text/plain": [
       "{'artist': 'beyonce', 'album': 'lemonade', 'release_year': 2016}"
      ]
     },
     "execution_count": 5,
     "metadata": {},
     "output_type": "execute_result"
    }
   ],
   "source": [
    "make_album('beyonce', 'lemonade', 2016)"
   ]
  },
  {
   "cell_type": "markdown",
   "id": "0a19c737",
   "metadata": {},
   "source": [
    "## Passing a list\n"
   ]
  },
  {
   "cell_type": "code",
   "execution_count": 6,
   "id": "35a72051",
   "metadata": {},
   "outputs": [],
   "source": [
    "# Build a function that accepts a list of names and prints a greeting message for each name in the\n",
    "def greet_users(names):\n",
    "    \"\"\"\n",
    "    Print a greeting message to each user in a list of names.\n",
    "    \"\"\"\n",
    "    \n",
    "    for name in names:\n",
    "        print(f'Hello, {name.title()}!')\n"
   ]
  },
  {
   "cell_type": "code",
   "execution_count": 7,
   "id": "eb97651f",
   "metadata": {},
   "outputs": [
    {
     "name": "stdout",
     "output_type": "stream",
     "text": [
      "Hello, Stan!\n",
      "Hello, Frodo!\n",
      "Hello, Gimli!\n",
      "Hello, Gloin!\n"
     ]
    }
   ],
   "source": [
    "# Test function\n",
    "greet_users(['stan', 'frodo', 'gimli', 'gloin'])"
   ]
  },
  {
   "cell_type": "code",
   "execution_count": 16,
   "id": "fb14b84b",
   "metadata": {},
   "outputs": [],
   "source": [
    "# Modifying a list\n",
    "# This is also an exercise to practice good software development habits and create functions that do one thing\n",
    "# Create two functions to tell the user which models are being printed and completed models\n",
    "def print_models(unprinted_models, printed_models):\n",
    "    \"\"\"\n",
    "    Simulate printing 3D models given a list of unprinted models as input.\n",
    "    \"\"\"\n",
    "    \n",
    "    while unprinted_models: # loop until unprinted models list is empty...\n",
    "        current_design = unprinted_models.pop()\n",
    "        printed_models.append(current_design)\n",
    "        print(f'Printing model: {current_design}')\n",
    "        \n",
    "# Define the next function to print all completed models\n",
    "def show_completed_models(printed_models):\n",
    "    \"\"\"\n",
    "    Simulate showing which 3D printed models are finished, taking a list of printed models as input.\n",
    "    \"\"\"\n",
    "    \n",
    "    print('The following models have been printed:')\n",
    "    for model in printed_models:\n",
    "        print(model)\n",
    "        "
   ]
  },
  {
   "cell_type": "code",
   "execution_count": 24,
   "id": "e5d20de9",
   "metadata": {},
   "outputs": [
    {
     "name": "stdout",
     "output_type": "stream",
     "text": [
      "Printing model: key\n",
      "Printing model: phone case\n",
      "Printing model: ipod\n"
     ]
    }
   ],
   "source": [
    "# Test functions\n",
    "printed_models = []\n",
    "print_models(['ipod', 'phone case', 'key'], printed_models)"
   ]
  },
  {
   "cell_type": "code",
   "execution_count": 25,
   "id": "a8531429",
   "metadata": {},
   "outputs": [
    {
     "data": {
      "text/plain": [
       "['key', 'phone case', 'ipod']"
      ]
     },
     "execution_count": 25,
     "metadata": {},
     "output_type": "execute_result"
    }
   ],
   "source": [
    "# Show contents of printed models\n",
    "printed_models"
   ]
  },
  {
   "cell_type": "code",
   "execution_count": 26,
   "id": "e796f240",
   "metadata": {},
   "outputs": [
    {
     "name": "stdout",
     "output_type": "stream",
     "text": [
      "The following models have been printed:\n",
      "key\n",
      "phone case\n",
      "ipod\n"
     ]
    }
   ],
   "source": [
    "# Call function\n",
    "show_completed_models(printed_models)"
   ]
  },
  {
   "cell_type": "code",
   "execution_count": 27,
   "id": "963c4f20",
   "metadata": {},
   "outputs": [
    {
     "data": {
      "text/plain": [
       "True"
      ]
     },
     "execution_count": 27,
     "metadata": {},
     "output_type": "execute_result"
    }
   ],
   "source": [
    "# If you want to keep the original list, make the function create a copy of the original\n",
    "# This can be done in a few different ways\n",
    "printed_models == list(printed_models)"
   ]
  },
  {
   "cell_type": "code",
   "execution_count": 28,
   "id": "c8d9ee1b",
   "metadata": {},
   "outputs": [
    {
     "data": {
      "text/plain": [
       "True"
      ]
     },
     "execution_count": 28,
     "metadata": {},
     "output_type": "execute_result"
    }
   ],
   "source": [
    "# And another way, taught in the textbook\n",
    "printed_models == printed_models[:]"
   ]
  },
  {
   "cell_type": "code",
   "execution_count": 31,
   "id": "356a580d",
   "metadata": {},
   "outputs": [
    {
     "name": "stdout",
     "output_type": "stream",
     "text": [
      "Hi, how are you doing?\n",
      "Good, thanks for asking!\n",
      "I am hungry, what about you?\n"
     ]
    }
   ],
   "source": [
    "# Exercise 8-9 messages\n",
    "# Write a function that takes a list of short messages and prints each message\n",
    "def show_messages(messages):\n",
    "    \"\"\"\n",
    "    Print each message given as list of messages as input.\n",
    "    \"\"\"\n",
    "    for message in messages:\n",
    "        print(message)\n",
    "    \n",
    "# Test\n",
    "messages = ['Hi, how are you doing?', 'Good, thanks for asking!', 'I am hungry, what about you?']\n",
    "show_messages(messages)"
   ]
  },
  {
   "cell_type": "code",
   "execution_count": 33,
   "id": "5b3570a2",
   "metadata": {},
   "outputs": [
    {
     "name": "stdout",
     "output_type": "stream",
     "text": [
      "Sending message: \"I am hungry, what about you?\"\n",
      "Sending message: \"Good, thanks for asking!\"\n",
      "Sending message: \"Hi, how are you doing?\"\n"
     ]
    }
   ],
   "source": [
    "# Exercise 8-10 sending messages\n",
    "# Build off of the show_messages() function and move each message to a new list, called sent_messages\n",
    "# After calling the function, print both lists to make sure the messages were moved correctly\n",
    "def send_messages(unsent_messages, sent_messages):\n",
    "    \"\"\"\n",
    "    Given a list of unsent messages, simulate sending them and move them to a new list.\n",
    "    \"\"\"\n",
    "    while unsent_messages:\n",
    "        current_message = unsent_messages.pop()\n",
    "        sent_messages.append(current_message)\n",
    "        print(f'Sending message: \"{current_message}\"')\n",
    "\n",
    "# Test \n",
    "unsent_messages = ['Hi, how are you doing?', 'Good, thanks for asking!', 'I am hungry, what about you?']\n",
    "sent_messages = []\n",
    "send_messages(unsent_messages, sent_messages)"
   ]
  },
  {
   "cell_type": "code",
   "execution_count": 36,
   "id": "30d7dd17",
   "metadata": {},
   "outputs": [
    {
     "name": "stdout",
     "output_type": "stream",
     "text": [
      "Original unsent messages list:\n",
      "[]\n",
      "\n",
      "\n",
      "New sent messages list:\n",
      "['I am hungry, what about you?', 'Good, thanks for asking!', 'Hi, how are you doing?']\n"
     ]
    }
   ],
   "source": [
    "# Verify that function modified lists correctly\n",
    "print(f'Original unsent messages list:\\n{unsent_messages}')\n",
    "print(f'\\n\\nNew sent messages list:\\n{sent_messages}')"
   ]
  },
  {
   "cell_type": "markdown",
   "id": "23934960",
   "metadata": {},
   "source": [
    "## Passing an arbitrary number of arguments"
   ]
  },
  {
   "cell_type": "code",
   "execution_count": 39,
   "id": "cedbf358",
   "metadata": {},
   "outputs": [
    {
     "name": "stdout",
     "output_type": "stream",
     "text": [
      "Making a pizza with the following toppings:\n",
      "* pepperoni\n"
     ]
    }
   ],
   "source": [
    "# Pass as many arguments to a function as you'd like using *args, or *<whatever>\n",
    "# Python uses *args as a sort of catch all to grab arbitrary number of arguments and pack them into a tuple\n",
    "# Define fucntion to print arbitrary number of pizza toppings\n",
    "def make_pizza(*args):\n",
    "    print('Making a pizza with the following toppings:')\n",
    "    for topping in args:\n",
    "        print(f'* {topping}')\n",
    "    \n",
    "# Test\n",
    "make_pizza('pepperoni')"
   ]
  },
  {
   "cell_type": "code",
   "execution_count": 40,
   "id": "edf263f2",
   "metadata": {},
   "outputs": [
    {
     "name": "stdout",
     "output_type": "stream",
     "text": [
      "Making a pizza with the following toppings:\n",
      "* peppers\n",
      "* onions\n",
      "* mushrooms\n"
     ]
    }
   ],
   "source": [
    "make_pizza('peppers', 'onions', 'mushrooms')"
   ]
  },
  {
   "cell_type": "code",
   "execution_count": 44,
   "id": "ca8dbfc7",
   "metadata": {},
   "outputs": [
    {
     "name": "stdout",
     "output_type": "stream",
     "text": [
      "Keys in user profile:\n",
      "field\n",
      "first_name\n",
      "last_name\n",
      "\n",
      "Values in user profile:\n",
      "physics\n",
      "albert\n",
      "einstein\n"
     ]
    }
   ],
   "source": [
    "# If you want to mix and match argument types (positional, keyword, catch all), the catch all type for tuple packing\n",
    "# Must be placed last in the function definition\n",
    "# We can also use the **kwargs idiom to pass arbitrary numbers of keyword arguments\n",
    "# **kwargs == keyword arguments\n",
    "# **kwargs will actually build a dictionary called kwargs-- often seen in other people's code, but we can use a better name\n",
    "# This is helpful for building dictionaries, demonstrated in the example below\n",
    "def build_profile(first_name, last_name, **user_profile):\n",
    "    \"\"\"\n",
    "    Build user profile with first and last name and any number of additional keyword arguments.\n",
    "    \"\"\"\n",
    "    user_profile['first_name'] = first_name\n",
    "    user_profile['last_name'] = last_name\n",
    "    return user_profile\n",
    "\n",
    "# Test\n",
    "user_profile = build_profile('albert', 'einstein', field='physics')\n",
    "print(f'Keys in user profile:')\n",
    "for key in user_profile.keys():\n",
    "    print(key)\n",
    "    \n",
    "print('\\nValues in user profile:')\n",
    "for val in user_profile.values():\n",
    "    print(val)"
   ]
  },
  {
   "cell_type": "code",
   "execution_count": 51,
   "id": "27c34256",
   "metadata": {},
   "outputs": [],
   "source": [
    "# Exercise 8-12 sandwiches\n",
    "# Write a function that accepts a list of items a person wants on a sandwich\n",
    "# The function should take one argument to collect any number of arguments and print a summary of what's been ordered\n",
    "def build_sandwich(*args):\n",
    "    \"\"\"\n",
    "    Build a sandwich, taking any number of positional arguments from the user, and summarize the order.\n",
    "    \"\"\"\n",
    "    print('Building a sandwich with the following:')\n",
    "    for arg in args:\n",
    "        print(f'* {arg}')"
   ]
  },
  {
   "cell_type": "code",
   "execution_count": 52,
   "id": "2539f2c0",
   "metadata": {},
   "outputs": [
    {
     "name": "stdout",
     "output_type": "stream",
     "text": [
      "Building a sandwich with the following:\n",
      "* tomatoes\n",
      "* lettuce\n",
      "* onion\n"
     ]
    }
   ],
   "source": [
    "# Test function \n",
    "build_sandwich('tomatoes', 'lettuce', 'onion')"
   ]
  },
  {
   "cell_type": "code",
   "execution_count": 54,
   "id": "2f2264f5",
   "metadata": {},
   "outputs": [
    {
     "name": "stdout",
     "output_type": "stream",
     "text": [
      "Building a sandwich with the following:\n",
      "* mayo\n",
      "* ham\n",
      "* mustard\n",
      "* onion\n"
     ]
    }
   ],
   "source": [
    "build_sandwich('mayo', 'ham', 'mustard', 'onion')"
   ]
  },
  {
   "cell_type": "code",
   "execution_count": 55,
   "id": "ed347b92",
   "metadata": {},
   "outputs": [
    {
     "name": "stdout",
     "output_type": "stream",
     "text": [
      "Building a sandwich with the following:\n",
      "* pesto\n",
      "* cucumber\n",
      "* tomatoes\n",
      "* fried tofu\n"
     ]
    }
   ],
   "source": [
    "build_sandwich('pesto', 'cucumber', 'tomatoes', 'fried tofu')"
   ]
  },
  {
   "cell_type": "code",
   "execution_count": 56,
   "id": "91eb48a7",
   "metadata": {},
   "outputs": [],
   "source": [
    "# Exercise 8-14 cars \n",
    "# Write a function that stores information about a car in a dictionary\n",
    "# It should always take the manufacturer and model name, then any number of additional keyword arguments\n",
    "# Print the full dictionary after calling the function to make sure everything works as intended\n",
    "def make_car(manufacturer, model, **kwargs):\n",
    "    \"\"\"\n",
    "    Build a summary of a car, taking the manufacturer and model name and an arbitrary number of additional keyword args.\n",
    "    \"\"\"\n",
    "    kwargs['manufacturer'] = manufacturer\n",
    "    kwargs['model'] = model\n",
    "    return kwargs\n"
   ]
  },
  {
   "cell_type": "code",
   "execution_count": 59,
   "id": "e5d66502",
   "metadata": {},
   "outputs": [
    {
     "name": "stdout",
     "output_type": "stream",
     "text": [
      "Car information:\n",
      "* color: blue\n",
      "* tow_package: True\n",
      "* four_wheel_drive: True\n",
      "* roof_rack: False\n",
      "* manufacturer: subaru\n",
      "* model: outback\n"
     ]
    }
   ],
   "source": [
    "# Test function\n",
    "car = make_car('subaru', 'outback', color='blue', tow_package=True, four_wheel_drive=True, roof_rack=False)\n",
    "print('Car information:')\n",
    "for key, val in car.items():\n",
    "    print(f'* {key}: {val}')"
   ]
  },
  {
   "cell_type": "markdown",
   "id": "e3855fa0",
   "metadata": {},
   "source": [
    "## Storing your functions in modules\n",
    "\n",
    "Functions can be written and stored in separate files- modules- and these can be imported into a main program to keep code organized and self-contained."
   ]
  },
  {
   "cell_type": "code",
   "execution_count": 61,
   "id": "a82be989",
   "metadata": {},
   "outputs": [
    {
     "name": "stdout",
     "output_type": "stream",
     "text": [
      "Making 16-inch pizza with the following toppings:\n",
      "* pepperoni\n"
     ]
    }
   ],
   "source": [
    "# Define pizza function in a separate script, then import it-- same function as above\n",
    "import pizza\n",
    "\n",
    "# Call function\n",
    "# The file or module we imported the function from comes first, followed by a dot, then the function name\n",
    "pizza.make_pizza(16, 'pepperoni')"
   ]
  },
  {
   "cell_type": "code",
   "execution_count": 62,
   "id": "15e2b6c1",
   "metadata": {},
   "outputs": [
    {
     "name": "stdout",
     "output_type": "stream",
     "text": [
      "Making 22-inch pizza with the following toppings:\n",
      "* mushrooms\n",
      "* onion\n",
      "* peppers\n"
     ]
    }
   ],
   "source": [
    "pizza.make_pizza(22, 'mushrooms', 'onion', 'peppers')"
   ]
  },
  {
   "cell_type": "code",
   "execution_count": null,
   "id": "d653ab22",
   "metadata": {},
   "outputs": [],
   "source": []
  }
 ],
 "metadata": {
  "kernelspec": {
   "display_name": "Python 3 (ipykernel)",
   "language": "python",
   "name": "python3"
  },
  "language_info": {
   "codemirror_mode": {
    "name": "ipython",
    "version": 3
   },
   "file_extension": ".py",
   "mimetype": "text/x-python",
   "name": "python",
   "nbconvert_exporter": "python",
   "pygments_lexer": "ipython3",
   "version": "3.10.2"
  }
 },
 "nbformat": 4,
 "nbformat_minor": 5
}
