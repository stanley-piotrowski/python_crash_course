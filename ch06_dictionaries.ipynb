{
 "cells": [
  {
   "cell_type": "markdown",
   "id": "38bbd434",
   "metadata": {},
   "source": [
    "# Dictionaries\n",
    "\n",
    "## Basic examples"
   ]
  },
  {
   "cell_type": "code",
   "execution_count": 18,
   "id": "b6827db1",
   "metadata": {},
   "outputs": [],
   "source": [
    "# Setup\n",
    "import numpy\n",
    "import random"
   ]
  },
  {
   "cell_type": "code",
   "execution_count": 11,
   "id": "d0de2988",
   "metadata": {},
   "outputs": [
    {
     "name": "stdout",
     "output_type": "stream",
     "text": [
      "Full alien dictionary: {'color': 'green', 'points': 5}\n"
     ]
    }
   ],
   "source": [
    "# Define basic dictionary of aliens\n",
    "aliens = {'color': 'green', 'points': 5}\n",
    "\n",
    "# Print the data in the dictionary\n",
    "print(f'Full alien dictionary: {aliens}')"
   ]
  },
  {
   "cell_type": "code",
   "execution_count": 12,
   "id": "e127bdb2",
   "metadata": {},
   "outputs": [
    {
     "data": {
      "text/plain": [
       "'green'"
      ]
     },
     "execution_count": 12,
     "metadata": {},
     "output_type": "execute_result"
    }
   ],
   "source": [
    "# Get the value associated with the key 'color'\n",
    "aliens['color']"
   ]
  },
  {
   "cell_type": "code",
   "execution_count": 13,
   "id": "3942b137",
   "metadata": {},
   "outputs": [
    {
     "data": {
      "text/plain": [
       "{'color': 'green', 'points': 5, 'x_position': 0, 'y_position': 25}"
      ]
     },
     "execution_count": 13,
     "metadata": {},
     "output_type": "execute_result"
    }
   ],
   "source": [
    "# Define new key-value pairs\n",
    "aliens['x_position'] = 0\n",
    "aliens['y_position'] = 25\n",
    "\n",
    "# Print new dict\n",
    "aliens"
   ]
  },
  {
   "cell_type": "code",
   "execution_count": 15,
   "id": "8c99cf07",
   "metadata": {},
   "outputs": [
    {
     "name": "stdout",
     "output_type": "stream",
     "text": [
      "{}\n"
     ]
    }
   ],
   "source": [
    "# If you need to generate key-value pairs from user-supplied data, start with an empty dict\n",
    "empty_dict = {}\n",
    "print(empty_dict)"
   ]
  },
  {
   "cell_type": "code",
   "execution_count": 20,
   "id": "7b6a2ff6",
   "metadata": {},
   "outputs": [
    {
     "name": "stdout",
     "output_type": "stream",
     "text": [
      "The alien is green.\n",
      "now the alien is yellow.\n"
     ]
    }
   ],
   "source": [
    "# Modify existing key-value pairs\n",
    "print(f'The alien is {aliens[\"color\"]}.')\n",
    "\n",
    "aliens['color'] = 'yellow'\n",
    "print(f'Now the alien is {aliens[\"color\"]}.')"
   ]
  },
  {
   "cell_type": "code",
   "execution_count": 21,
   "id": "9d2ba2c3",
   "metadata": {},
   "outputs": [
    {
     "name": "stdout",
     "output_type": "stream",
     "text": [
      "{'color': 'yellow', 'x_position': 0, 'y_position': 25}\n"
     ]
    }
   ],
   "source": [
    "# Remove an entry from the dict using the del() function\n",
    "del(aliens['points'])\n",
    "print(aliens)"
   ]
  },
  {
   "cell_type": "code",
   "execution_count": 1,
   "id": "ecf0a2c2",
   "metadata": {},
   "outputs": [
    {
     "name": "stdout",
     "output_type": "stream",
     "text": [
      "{'first_name': 'frodo', 'last_name': 'baggins', 'age': '50', 'city': 'middle earth'}\n"
     ]
    }
   ],
   "source": [
    "# Exercise 6-1 \n",
    "person_dict = {'first_name': 'frodo', \n",
    "              'last_name': 'baggins', \n",
    "              'age': '50', \n",
    "              'city': 'middle earth'}\n",
    "\n",
    "print(person_dict)"
   ]
  },
  {
   "cell_type": "markdown",
   "id": "365ebc28",
   "metadata": {},
   "source": [
    "## Looping through dictionaries"
   ]
  },
  {
   "cell_type": "code",
   "execution_count": 2,
   "id": "4510ac06",
   "metadata": {},
   "outputs": [
    {
     "name": "stdout",
     "output_type": "stream",
     "text": [
      "Key: username, value: spiotrowski\n",
      "Key: first_name, value: stan\n",
      "Key: last_name, value: piotrowski\n"
     ]
    }
   ],
   "source": [
    "# Create new dictionary \n",
    "user = {\n",
    "    'username': 'spiotrowski',\n",
    "    'first_name': 'stan', \n",
    "    'last_name': 'piotrowski'\n",
    "}\n",
    "\n",
    "# Loop through all key value pairs\n",
    "for key, val in user.items():\n",
    "    print(f'Key: {key}, value: {val}')"
   ]
  },
  {
   "cell_type": "code",
   "execution_count": 3,
   "id": "d8c9d543",
   "metadata": {},
   "outputs": [
    {
     "name": "stdout",
     "output_type": "stream",
     "text": [
      "Key: username\n",
      "Key: first_name\n",
      "Key: last_name\n"
     ]
    }
   ],
   "source": [
    "# Looping through all of the keys only\n",
    "for key in user.keys():\n",
    "    print(f'Key: {key}')"
   ]
  },
  {
   "cell_type": "code",
   "execution_count": 4,
   "id": "4744f6d3",
   "metadata": {},
   "outputs": [
    {
     "name": "stdout",
     "output_type": "stream",
     "text": [
      "Value: spiotrowski\n",
      "Value: stan\n",
      "Value: piotrowski\n"
     ]
    }
   ],
   "source": [
    "# Looping through all of the values only\n",
    "for val in user.values():\n",
    "    print(f'Value: {val}')"
   ]
  },
  {
   "cell_type": "code",
   "execution_count": 5,
   "id": "a5ba6aec",
   "metadata": {},
   "outputs": [],
   "source": [
    "# Don't need to loop through all keys-- just print using the .keys() method"
   ]
  },
  {
   "cell_type": "code",
   "execution_count": 6,
   "id": "ef7b4127",
   "metadata": {},
   "outputs": [
    {
     "name": "stdout",
     "output_type": "stream",
     "text": [
      "Key: first_name\n",
      "Key: last_name\n",
      "Key: username\n"
     ]
    }
   ],
   "source": [
    "# Looping through keys in order-- use sorted() function\n",
    "for key in sorted(user.keys()):\n",
    "    print(f'Key: {key}')"
   ]
  },
  {
   "cell_type": "code",
   "execution_count": 13,
   "id": "18a0fac3",
   "metadata": {},
   "outputs": [
    {
     "name": "stdout",
     "output_type": "stream",
     "text": [
      "The Nile river runs through Egypt\n",
      "The Amazon river runs through Brazil\n",
      "The Columbia river runs through United States\n",
      "\n",
      "Countries:\n",
      "Egypt\n",
      "Brazil\n",
      "United States\n",
      "\n",
      "Rivers:\n",
      "Nile\n",
      "Amazon\n",
      "Columbia\n"
     ]
    }
   ],
   "source": [
    "# Exercise 6-5 -- rivers\n",
    "# Create a dictionary with three rivers, loop over it, and write some about each\n",
    "rivers_dict = {\n",
    "    'nile': 'egypt', \n",
    "    'amazon': 'brazil',\n",
    "    'columbia': 'united states'\n",
    "}\n",
    "\n",
    "\n",
    "for river, place in rivers_dict.items():\n",
    "    print(f'The {river.title()} river runs through {place.title()}')\n",
    "    \n",
    "# Print all of the countries \n",
    "print('\\nCountries:')\n",
    "for place in rivers_dict.values():\n",
    "    print(f'{place.title()}')\n",
    "    \n",
    "# Print list of all rivers\n",
    "print('\\nRivers:')\n",
    "for river in rivers_dict.keys():\n",
    "    print(f'{river.title()}')"
   ]
  },
  {
   "cell_type": "markdown",
   "id": "85aaacbe",
   "metadata": {},
   "source": [
    "## Nesting"
   ]
  },
  {
   "cell_type": "code",
   "execution_count": 15,
   "id": "3386ee37",
   "metadata": {},
   "outputs": [
    {
     "name": "stdout",
     "output_type": "stream",
     "text": [
      "List of available aliens:\n",
      "alien_0: {'color': 'green', 'points': 5}\n",
      "alien_1: {'color': 'yellow', 'points': 6}\n",
      "alien_2: {'color': 'red', 'points': 10}\n"
     ]
    }
   ],
   "source": [
    "# Create a nested structure-- list of dictionaries about aliens\n",
    "alien_0 = {'color': 'green', 'points': 5}\n",
    "alien_1 = {'color': 'yellow', 'points': 6}\n",
    "alien_2 = {'color': 'red', 'points': 10}\n",
    "\n",
    "# Build a list of dictionaries\n",
    "aliens = [alien_0, alien_1, alien_2]\n",
    "print('List of available aliens:')\n",
    "for idx, alien in enumerate(aliens):\n",
    "    print(f'alien_{idx}: {alien}')"
   ]
  },
  {
   "cell_type": "code",
   "execution_count": 40,
   "id": "00cfaa41",
   "metadata": {},
   "outputs": [
    {
     "name": "stdout",
     "output_type": "stream",
     "text": [
      "Aliens:\n",
      "\n",
      "alien_1: {'color': 'blue', 'points': 7, 'speed': 'medium'}\n",
      "alien_2: {'color': 'yellow', 'points': 6, 'speed': 'medium'}\n",
      "alien_3: {'color': 'blue', 'points': 10, 'speed': 'fast'}\n",
      "alien_4: {'color': 'red', 'points': 4, 'speed': 'slow'}\n",
      "alien_5: {'color': 'red', 'points': 7, 'speed': 'medium'}\n",
      "alien_6: {'color': 'yellow', 'points': 6, 'speed': 'medium'}\n",
      "alien_7: {'color': 'blue', 'points': 5, 'speed': 'medium'}\n",
      "alien_8: {'color': 'blue', 'points': 5, 'speed': 'medium'}\n",
      "alien_9: {'color': 'blue', 'points': 14, 'speed': 'fast'}\n",
      "alien_10: {'color': 'red', 'points': 5, 'speed': 'medium'}\n",
      "alien_11: {'color': 'yellow', 'points': 4, 'speed': 'slow'}\n",
      "alien_12: {'color': 'yellow', 'points': 4, 'speed': 'slow'}\n",
      "alien_13: {'color': 'blue', 'points': 2, 'speed': 'slow'}\n",
      "alien_14: {'color': 'yellow', 'points': 9, 'speed': 'medium'}\n",
      "alien_15: {'color': 'yellow', 'points': 8, 'speed': 'medium'}\n",
      "alien_16: {'color': 'blue', 'points': 14, 'speed': 'fast'}\n",
      "alien_17: {'color': 'blue', 'points': 15, 'speed': 'fast'}\n",
      "alien_18: {'color': 'yellow', 'points': 4, 'speed': 'slow'}\n",
      "alien_19: {'color': 'red', 'points': 14, 'speed': 'fast'}\n",
      "alien_20: {'color': 'red', 'points': 5, 'speed': 'medium'}\n",
      "alien_21: {'color': 'yellow', 'points': 13, 'speed': 'fast'}\n",
      "alien_22: {'color': 'blue', 'points': 9, 'speed': 'medium'}\n",
      "alien_23: {'color': 'red', 'points': 2, 'speed': 'slow'}\n",
      "alien_24: {'color': 'blue', 'points': 13, 'speed': 'fast'}\n",
      "alien_25: {'color': 'blue', 'points': 12, 'speed': 'fast'}\n",
      "alien_26: {'color': 'blue', 'points': 2, 'speed': 'slow'}\n",
      "alien_27: {'color': 'red', 'points': 12, 'speed': 'fast'}\n",
      "alien_28: {'color': 'red', 'points': 2, 'speed': 'slow'}\n",
      "alien_29: {'color': 'blue', 'points': 7, 'speed': 'medium'}\n",
      "alien_30: {'color': 'yellow', 'points': 12, 'speed': 'fast'}\n",
      "\n",
      "Total number of aliens: 30\n"
     ]
    }
   ],
   "source": [
    "# We could also use a different strategy and build a base dictionary of aliens\n",
    "# Then, use conditionals to update certain keys in the dictionary\n",
    "# Create a dictionary of 30 different aliens\n",
    "# I'll modify the code from the book and randomly sample colors and points\n",
    "# Then, use conditionals to assign a starting speed\n",
    "\n",
    "# Initialize empty aliens list and list of colors to sample from\n",
    "aliens = []\n",
    "colors = ['red', 'blue', 'yellow']\n",
    "\n",
    "# Build list of dictionaries\n",
    "print('Aliens:\\n')\n",
    "for num in range(1, 31):\n",
    "    \n",
    "    random_color = random.sample(colors, 1)[0] # returns a list, so choose the first element\n",
    "    random_point = random.sample(range(16), 1)[0]\n",
    "    \n",
    "    if random_point < 5:\n",
    "        speed = 'slow'\n",
    "    elif (random_point >= 5) and (random_point < 10):\n",
    "        speed = 'medium'\n",
    "    else: \n",
    "        speed = 'fast'\n",
    "    \n",
    "    aliens_dict = {'color': random_color, \n",
    "                 'points': random_point, \n",
    "                 'speed': speed}\n",
    "    \n",
    "    print(f'alien_{num}: {aliens_dict}')\n",
    "    aliens.append(aliens_dict)\n",
    "    \n",
    "print(f'\\nTotal number of aliens: {len(aliens)}')\n",
    "    "
   ]
  },
  {
   "cell_type": "code",
   "execution_count": 52,
   "id": "e9227687",
   "metadata": {},
   "outputs": [
    {
     "name": "stdout",
     "output_type": "stream",
     "text": [
      "Order number: 1\n",
      "Crust: ['thin']\n",
      "Toppings: ['peppers', 'onions', 'olives']\n",
      "\n",
      "Order number: 2\n",
      "Crust: ['regular']\n",
      "Toppings: ['olives', 'peppers', 'pepperoni', 'mushrooms', 'onions']\n",
      "\n",
      "Order number: 3\n",
      "Crust: ['thin']\n",
      "Toppings: ['onions', 'mushrooms', 'olives']\n",
      "\n",
      "Order number: 4\n",
      "Crust: ['thick']\n",
      "Toppings: ['peppers', 'pepperoni', 'onions', 'olives', 'mushrooms']\n",
      "\n",
      "Order number: 5\n",
      "Crust: ['thick']\n",
      "Toppings: ['onions', 'olives', 'peppers', 'pepperoni']\n",
      "\n",
      "Order number: 6\n",
      "Crust: ['thin']\n",
      "Toppings: ['pepperoni', 'olives']\n",
      "\n",
      "Order number: 7\n",
      "Crust: ['thick']\n",
      "Toppings: ['onions', 'mushrooms', 'peppers', 'pepperoni']\n",
      "\n",
      "Order number: 8\n",
      "Crust: ['thick']\n",
      "Toppings: ['olives', 'onions', 'mushrooms', 'pepperoni', 'peppers']\n",
      "\n",
      "Order number: 9\n",
      "Crust: ['regular']\n",
      "Toppings: []\n",
      "\n",
      "Order number: 10\n",
      "Crust: ['cheesy']\n",
      "Toppings: ['mushrooms', 'peppers', 'pepperoni', 'onions', 'olives']\n",
      "\n"
     ]
    }
   ],
   "source": [
    "# Instead of storing dictionaries in a list, store lists in dictionaries\n",
    "# We'll take this one step further and create a list of dictionaries of pizza orders\n",
    "# For each order, we'll randomly sample a choice of crusts (regular, cheesy, thick, thin)\n",
    "# We'll also randomly choose a number of 0-5 toppings (mushrooms, onions, peppers, pepperoni, olives)\n",
    "\n",
    "# Initialize lists\n",
    "pizza_orders = []\n",
    "available_toppings = ['mushrooms', 'onions', 'peppers', 'pepperoni', 'olives']\n",
    "available_crusts = ['regular', 'cheesy', 'thick', 'thin']\n",
    "\n",
    "# Build list of dictionaries\n",
    "for order in range(1, 11):\n",
    "    \n",
    "    num_toppings = random.randint(0, 5)\n",
    "    toppings = random.sample(available_toppings, num_toppings) # important to use sample-- without replacement\n",
    "    crust = random.sample(available_crusts, 1)\n",
    "    \n",
    "    order_dict = {\n",
    "        'order_number': order,\n",
    "        'crust': crust, \n",
    "        'toppings': toppings\n",
    "    }\n",
    "    \n",
    "    pizza_orders.append(order_dict)\n",
    "    \n",
    "# Print pizza orders\n",
    "for order in pizza_orders:\n",
    "    print(f'Order number: {order[\"order_number\"]}')\n",
    "    print(f'Crust: {order[\"crust\"]}')\n",
    "    print(f'Toppings: {order[\"toppings\"]}\\n')"
   ]
  },
  {
   "cell_type": "code",
   "execution_count": null,
   "id": "eb0095d6",
   "metadata": {},
   "outputs": [],
   "source": [
    "# You can also created dictionaries nested within other dictionaries-- this will work okay as long as you don't nest too deeply\n",
    "# In that case, in may make sense to build classes"
   ]
  }
 ],
 "metadata": {
  "kernelspec": {
   "display_name": "Python 3 (ipykernel)",
   "language": "python",
   "name": "python3"
  },
  "language_info": {
   "codemirror_mode": {
    "name": "ipython",
    "version": 3
   },
   "file_extension": ".py",
   "mimetype": "text/x-python",
   "name": "python",
   "nbconvert_exporter": "python",
   "pygments_lexer": "ipython3",
   "version": "3.10.2"
  }
 },
 "nbformat": 4,
 "nbformat_minor": 5
}
