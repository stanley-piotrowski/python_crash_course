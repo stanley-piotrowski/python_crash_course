{
 "cells": [
  {
   "cell_type": "markdown",
   "id": "d8f7197c",
   "metadata": {},
   "source": [
    "## Working with lists\n",
    "### Setup and for loops"
   ]
  },
  {
   "cell_type": "code",
   "execution_count": null,
   "id": "528935c0",
   "metadata": {},
   "outputs": [],
   "source": [
    "# Working with lists sandbox\n",
    "# Setup ----\n",
    "import numpy\n"
   ]
  },
  {
   "cell_type": "code",
   "execution_count": 6,
   "id": "96a1bcd2",
   "metadata": {},
   "outputs": [
    {
     "name": "stdout",
     "output_type": "stream",
     "text": [
      "Printing list of magicians\n",
      "\n",
      "Magician #1 at index 0: Alice\n",
      "Magician #2 at index 1: David\n",
      "Magician #3 at index 2: Carolina\n"
     ]
    }
   ],
   "source": [
    "# Print out a list of magicians\n",
    "magicians = ['alice', 'david', 'carolina']\n",
    "print('Printing list of magicians\\n')\n",
    "for idx, magician in enumerate(magicians):\n",
    "    print(f'Magician #{idx + 1} at index {idx}: {magician.title()}')"
   ]
  },
  {
   "cell_type": "code",
   "execution_count": 10,
   "id": "3ffc1fd1",
   "metadata": {},
   "outputs": [
    {
     "name": "stdout",
     "output_type": "stream",
     "text": [
      "Wow, Alice, that was a great trick!\n",
      "Wow, David, that was a great trick!\n",
      "Wow, Carolina, that was a great trick!\n",
      "\n",
      "Thanks everyone, that was a great magic show\n"
     ]
    }
   ],
   "source": [
    "# Print a message to each of the magicians in the list\n",
    "for magician in magicians:\n",
    "    print(f'Wow, {magician.title()}, that was a great trick!')\n",
    "    \n",
    "print('\\nThanks everyone, that was a great magic show')"
   ]
  },
  {
   "cell_type": "code",
   "execution_count": 12,
   "id": "0cd5328f",
   "metadata": {},
   "outputs": [
    {
     "name": "stdout",
     "output_type": "stream",
     "text": [
      "I like pepperoni pizza.\n",
      "I like mushroom pizza.\n",
      "I like margarita pizza.\n",
      "\n",
      "I really like pizza!\n"
     ]
    }
   ],
   "source": [
    "# 4-1 pizzas exercise\n",
    "pizzas = ['pepperoni', 'mushroom', 'margarita']\n",
    "for pizza in pizzas:\n",
    "    print(f'I like {pizza} pizza.')\n",
    "    \n",
    "print('\\nI really like pizza!')"
   ]
  },
  {
   "cell_type": "code",
   "execution_count": 14,
   "id": "030a4a0f",
   "metadata": {},
   "outputs": [
    {
     "name": "stdout",
     "output_type": "stream",
     "text": [
      "A dog would make a great pet.\n",
      "A horse would also make a great pet.\n",
      "A sheep would also make a great pet.\n",
      "A frog would also make a great pet.\n",
      "\n",
      "Any of these animals would make a great pet!\n"
     ]
    }
   ],
   "source": [
    "# 4-2 animals exercise\n",
    "animals = ['dog', 'horse', 'sheep', 'frog']\n",
    "for idx, animal in enumerate(animals):\n",
    "    if idx == 0:\n",
    "        print(f'A {animal} would make a great pet.')\n",
    "    else: \n",
    "        print(f'A {animal} would also make a great pet.')\n",
    "\n",
    "print('\\nAny of these animals would make a great pet!')"
   ]
  },
  {
   "cell_type": "code",
   "execution_count": 17,
   "id": "0835bdc1",
   "metadata": {},
   "outputs": [
    {
     "name": "stdout",
     "output_type": "stream",
     "text": [
      "Range from 1-10, step size of 1\n",
      "[0, 1, 2, 3, 4, 5, 6, 7, 8, 9, 10]\n"
     ]
    }
   ],
   "source": [
    "# Using list() and range() to generate a list of numbers\n",
    "list_of_nums = list(range(0, 11))\n",
    "print('Range from 1-10, step size of 1')\n",
    "print(list_of_nums)"
   ]
  },
  {
   "cell_type": "code",
   "execution_count": 18,
   "id": "d10607f4",
   "metadata": {},
   "outputs": [
    {
     "name": "stdout",
     "output_type": "stream",
     "text": [
      "Range from 1-10, step size of 2\n",
      "[0, 2, 4, 6, 8, 10]\n"
     ]
    }
   ],
   "source": [
    "# Use step size argument\n",
    "list_of_nums = list(range(0, 11, 2))\n",
    "print('Range from 1-10, step size of 2')\n",
    "print(list_of_nums)"
   ]
  },
  {
   "cell_type": "code",
   "execution_count": 20,
   "id": "ce7e0011",
   "metadata": {},
   "outputs": [
    {
     "name": "stdout",
     "output_type": "stream",
     "text": [
      "First 10 square numbers:\n",
      "[1, 4, 9, 16, 25, 36, 49, 64, 81, 100]\n"
     ]
    }
   ],
   "source": [
    "# Create a list of the first 10 square numbers\n",
    "squares = []\n",
    "for num in range(1, 11):\n",
    "    square = num ** 2\n",
    "    squares.append(square)\n",
    "    \n",
    "print(f'First 10 square numbers:\\n{squares}')"
   ]
  },
  {
   "cell_type": "code",
   "execution_count": 26,
   "id": "e9ea9986",
   "metadata": {},
   "outputs": [
    {
     "name": "stdout",
     "output_type": "stream",
     "text": [
      "Digits: [1, 2, 3, 4, 5, 6, 7, 8, 9, 0]\n",
      "Min value in digits: 0\n",
      "Max value in digits: 9\n",
      "Sum of values in digits: 45\n",
      "Mean of values in digits: 4.5\n"
     ]
    }
   ],
   "source": [
    "# Use functions that operate on lists\n",
    "digits = [1, 2, 3, 4, 5, 6, 7, 8, 9, 0]\n",
    "\n",
    "print(f'Digits: {digits}')\n",
    "print(f'Min value in digits: {min(digits)}')\n",
    "print(f'Max value in digits: {max(digits)}')\n",
    "print(f'Sum of values in digits: {sum(digits)}')\n",
    "print(f'Mean of values in digits: {numpy.mean(digits)}') # mean() doesn't exist in the standard library"
   ]
  },
  {
   "cell_type": "markdown",
   "id": "a29dd9ed",
   "metadata": {},
   "source": [
    "## List comprehensions and more loops"
   ]
  },
  {
   "cell_type": "code",
   "execution_count": 29,
   "id": "50b888b3",
   "metadata": {},
   "outputs": [
    {
     "name": "stdout",
     "output_type": "stream",
     "text": [
      "Square of first 10 numbers, using list comprehension:\n",
      "[1, 4, 9, 16, 25, 36, 49, 64, 81, 100]\n"
     ]
    }
   ],
   "source": [
    "# List comprehensions-- writing concise code with one-liner for loops\n",
    "values = range(1, 11)\n",
    "squares = [value ** 2 for value in values]\n",
    "print(f'Square of first 10 numbers, using list comprehension:\\n{squares}')"
   ]
  },
  {
   "cell_type": "code",
   "execution_count": 33,
   "id": "e171bc6e",
   "metadata": {},
   "outputs": [
    {
     "name": "stdout",
     "output_type": "stream",
     "text": [
      "1\n",
      "2\n",
      "3\n",
      "4\n",
      "5\n",
      "6\n",
      "7\n",
      "8\n",
      "9\n",
      "10\n",
      "11\n",
      "12\n",
      "13\n",
      "14\n",
      "15\n",
      "16\n",
      "17\n",
      "18\n",
      "19\n",
      "20\n"
     ]
    }
   ],
   "source": [
    "# 4-3 -- counting to twenty\n",
    "# Write a loop that prints the numbers from 1-20, inclusive\n",
    "for value in range(1, 21):\n",
    "    print(value)"
   ]
  },
  {
   "cell_type": "code",
   "execution_count": 39,
   "id": "1b32bd93",
   "metadata": {},
   "outputs": [
    {
     "name": "stdout",
     "output_type": "stream",
     "text": [
      "Sum of all values from 1 to 1,000,000:\n",
      "500000500000\n"
     ]
    }
   ],
   "source": [
    "# 4-5 -- summing a million\n",
    "# Create a list of numbers then add them all together\n",
    "nums = [value for value in range(1, 1_000_001)]\n",
    "print(f'Sum of all values from 1 to 1,000,000:\\n{sum(nums)}')"
   ]
  },
  {
   "cell_type": "code",
   "execution_count": 40,
   "id": "2d8e7794",
   "metadata": {},
   "outputs": [
    {
     "name": "stdout",
     "output_type": "stream",
     "text": [
      "First 10 cubes:\n",
      "[1, 8, 27, 64, 125, 216, 343, 512, 729, 1000]\n"
     ]
    }
   ],
   "source": [
    "# 4-8 -- make a list of the first 10 cubes\n",
    "cubes = [value**3 for value in range(1, 11)]\n",
    "print(f'First 10 cubes:\\n{cubes}')"
   ]
  },
  {
   "cell_type": "code",
   "execution_count": 46,
   "id": "a45dfb29",
   "metadata": {},
   "outputs": [
    {
     "name": "stdout",
     "output_type": "stream",
     "text": [
      "There are 5 total players: ['charles', 'martina', 'michael', 'florence', 'eli']\n",
      "\n",
      "First three players: ['charles', 'martina', 'michael']\n",
      "\n",
      "All but the first player: ['martina', 'michael', 'florence', 'eli']\n",
      "\n",
      "Last player: eli\n",
      "\n",
      "Every other player: ['charles', 'michael', 'eli']\n",
      "\n"
     ]
    }
   ],
   "source": [
    "# Slicing and dicing ----\n",
    "# Define list of players \n",
    "players = ['charles', 'martina', 'michael', 'florence', 'eli']\n",
    "print(f'There are {len(players)} total players: {players}\\n')\n",
    "\n",
    "# Print the first three players\n",
    "print(f'First three players: {players[0:3]}\\n')\n",
    "\n",
    "# Print all but the first player\n",
    "print(f'All but the first player: {players[1:]}\\n')\n",
    "\n",
    "# Print last player\n",
    "print(f'Last player: {players[-1]}\\n')\n",
    "\n",
    "# Print every other player\n",
    "print(f'Every other player: {players[::2]}\\n')"
   ]
  },
  {
   "cell_type": "markdown",
   "id": "21766841",
   "metadata": {},
   "source": [
    "## Copying lists\n",
    "\n",
    "This code chunk illustrates important differences between modifying lists in place and modifying copies of lists.  For example, if you create a list of foods as I've done below, then create a new variable which references that original list, you're not creating copies; you're actually creating two references to the same piece of data in memory.  We can verify this with the code chunk below.\n",
    "\n",
    "If you want to create a copy of a list, the textbook recommends using `:` for taking all of the elements of the list.  We can get the same result by using the `list()` function instead, which I've illustrated below."
   ]
  },
  {
   "cell_type": "code",
   "execution_count": 55,
   "id": "58a1ed81",
   "metadata": {},
   "outputs": [
    {
     "name": "stdout",
     "output_type": "stream",
     "text": [
      "Original list: ['pizza', 'falafel', 'carrot cake', 'pasta']\n",
      "\n",
      "Are the two lists referencing the same data?\n",
      "True\n",
      "\n",
      "Now we will make a copy...\n",
      "\n",
      "Friend's list: ['pizza', 'falafel', 'carrot cake', 'pasta']\n",
      "\n",
      "Are both lists referencing the same data?\n",
      "False\n",
      "\n",
      "New friend's list: ['pizza', 'falafel', 'carrot cake', 'pasta', 'ice cream']\n",
      "\n"
     ]
    }
   ],
   "source": [
    "# Copying a list, instead of modifying in place\n",
    "my_foods = ['pizza', 'falafel', 'carrot cake', 'pasta']\n",
    "print(f'Original list: {my_foods}\\n')\n",
    "\n",
    "# Create another reference to the same list and verify they refer to the same data\n",
    "friends_foods = my_foods\n",
    "print(f'Are the two lists referencing the same data?\\n{friends_foods is my_foods}\\n')\n",
    "\n",
    "# Create a copy\n",
    "friends_foods = list(my_foods)\n",
    "print('Now we will make a copy')\n",
    "print(f\"Friend's list: {friends_foods}\\n\")\n",
    "\n",
    "# Are they referencing the same data?\n",
    "print(f'Are both lists referencing the same data?\\n{my_foods is friends_foods}\\n')\n",
    "\n",
    "# Modify the friends list\n",
    "friends_foods.append('ice cream')\n",
    "print(f\"New friend's list: {friends_foods}\\n\")"
   ]
  },
  {
   "cell_type": "markdown",
   "id": "02151543",
   "metadata": {},
   "source": [
    "## Tuples"
   ]
  },
  {
   "cell_type": "markdown",
   "id": "1dd34c3f",
   "metadata": {},
   "source": [
    "In essence, tuples are lists that are immutable-- meaning that once initiated, the data they reference remain the same throughout the course of the program.  There are many situations where storing data in a tuple may be preferred over a list, where you want to be absolutely sure that the data are consistent throughout the program.  In fact, the only way to modify a tuple is to create a new one.  "
   ]
  },
  {
   "cell_type": "code",
   "execution_count": 56,
   "id": "125dab62",
   "metadata": {},
   "outputs": [
    {
     "data": {
      "text/plain": [
       "tuple"
      ]
     },
     "execution_count": 56,
     "metadata": {},
     "output_type": "execute_result"
    }
   ],
   "source": [
    "# Define a set of dimensions\n",
    "dimensions = (200, 500)\n",
    "type(dimensions)"
   ]
  },
  {
   "cell_type": "code",
   "execution_count": 57,
   "id": "fb8e443d",
   "metadata": {},
   "outputs": [
    {
     "data": {
      "text/plain": [
       "tuple"
      ]
     },
     "execution_count": 57,
     "metadata": {},
     "output_type": "execute_result"
    }
   ],
   "source": [
    "# Create a tuple with a single element\n",
    "single_val_tuple = (200,)\n",
    "type(single_val_tuple)"
   ]
  },
  {
   "cell_type": "code",
   "execution_count": 61,
   "id": "b2ba7743",
   "metadata": {},
   "outputs": [
    {
     "name": "stdout",
     "output_type": "stream",
     "text": [
      "Original basic menu with 5 items:\n",
      "('steak', 'fries', 'milkshake', 'chicken fingers', 'soda')\n",
      "\n",
      "Updated menu with 5 items:\n",
      "('steak', 'fries', 'chili cheese dog', 'chicken fingers', 'wine')\n",
      "\n"
     ]
    }
   ],
   "source": [
    "# 4-13 exercise -- buffet\n",
    "# Create a menu with five basic foods\n",
    "basic_menu = ('steak', 'fries', 'milkshake', 'chicken fingers', 'soda')\n",
    "print(f'Original basic menu with {len(basic_menu)} items:\\n{basic_menu}\\n')\n",
    "\n",
    "# Modify the menu\n",
    "updated_menu = ('steak', 'fries', 'chili cheese dog', 'chicken fingers', 'wine')\n",
    "print(f'Updated menu with {len(updated_menu)} items:\\n{updated_menu}\\n')"
   ]
  },
  {
   "cell_type": "markdown",
   "id": "c100fc22",
   "metadata": {},
   "source": [
    "## Styling your code\n",
    "\n",
    "The following are a few guidelines for styling code and writing effective, clear Python programs:\n",
    "\n",
    "1) Strive to write code that is easy to read-- this will help immensely during the debugging process, whether it's you trying to figure out where a problem is in your own program, or if you're reading someone else's code.\n",
    "\n",
    "2) Don't mix and match tabs and spaces.\n",
    "\n",
    "3) Limit the length of single lines-- ideally, less than 80 characters (applies for both code and comments).\n",
    "\n",
    "4) Use blank lines to group chunks of code-- for example, if you've written code for a function that spans 10 lines, group lines of code that perform similar tasks (e.g., creating a list, modifying the list, doing some other transformation, etc).  This makes code easier to read (see guideline 1).\n",
    "\n",
    "More details on the PEP8 style guide can be found [here](https://peps.python.org/pep-0008/)."
   ]
  },
  {
   "cell_type": "code",
   "execution_count": null,
   "id": "c417baf6",
   "metadata": {},
   "outputs": [],
   "source": []
  }
 ],
 "metadata": {
  "kernelspec": {
   "display_name": "Python 3 (ipykernel)",
   "language": "python",
   "name": "python3"
  },
  "language_info": {
   "codemirror_mode": {
    "name": "ipython",
    "version": 3
   },
   "file_extension": ".py",
   "mimetype": "text/x-python",
   "name": "python",
   "nbconvert_exporter": "python",
   "pygments_lexer": "ipython3",
   "version": "3.10.2"
  }
 },
 "nbformat": 4,
 "nbformat_minor": 5
}
